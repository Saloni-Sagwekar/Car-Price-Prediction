{
 "cells": [
  {
   "cell_type": "markdown",
   "id": "648a2430-b8b2-4e44-933a-01c6e2fb8506",
   "metadata": {},
   "source": [
    "# Car Price Predictor"
   ]
  },
  {
   "cell_type": "markdown",
   "id": "14a4c8e3-aac8-497a-8016-8e96a31d4ab2",
   "metadata": {},
   "source": [
    "## Objective\n",
    "To build a machine learning model using Linear Regression that accurately predicts used car prices based on various features such as car age, fuel type, transmission, location, mileage, and engine specifications.\n",
    "\n"
   ]
  },
  {
   "cell_type": "markdown",
   "id": "9450498a-81cf-42fc-9477-8ac57889afe6",
   "metadata": {},
   "source": [
    "## Problem Statement\n",
    "The used car market is large and unstructured. Buyers and sellers struggle to identify fair market prices. This project aims to:\n",
    "\n",
    "Clean and preprocess historical car listings data.\n",
    "\n",
    "Explore patterns that affect car prices.\n",
    "\n",
    "Use a linear regression algorithm to predict car prices.\n",
    "\n",
    "Help platforms or users estimate the resale value of a car."
   ]
  },
  {
   "cell_type": "code",
   "execution_count": 1,
   "id": "916c6c07-5510-451c-8baf-f821f25b2de5",
   "metadata": {},
   "outputs": [],
   "source": [
    "# Importing Libraries \n",
    "import numpy as np\n",
    "import pandas as pd \n",
    "import seaborn as sns \n",
    "import matplotlib.pyplot as plt\n",
    "from sklearn.model_selection import train_test_split\n",
    "from sklearn.linear_model import LinearRegression\n",
    "from sklearn.metrics import r2_score,mean_squared_error"
   ]
  },
  {
   "cell_type": "code",
   "execution_count": 2,
   "id": "bc4569bf-186c-4440-bd89-343995d78aa4",
   "metadata": {},
   "outputs": [],
   "source": [
    "# Importing Data\n",
    "df=pd.read_csv(\"C:\\\\Users\\\\LENOVO\\\\Downloads\\\\car details v4.csv\")"
   ]
  },
  {
   "cell_type": "code",
   "execution_count": 3,
   "id": "80b4691c-8fa9-48a2-83c1-0f8e3f584053",
   "metadata": {},
   "outputs": [
    {
     "data": {
      "text/html": [
       "<div>\n",
       "<style scoped>\n",
       "    .dataframe tbody tr th:only-of-type {\n",
       "        vertical-align: middle;\n",
       "    }\n",
       "\n",
       "    .dataframe tbody tr th {\n",
       "        vertical-align: top;\n",
       "    }\n",
       "\n",
       "    .dataframe thead th {\n",
       "        text-align: right;\n",
       "    }\n",
       "</style>\n",
       "<table border=\"1\" class=\"dataframe\">\n",
       "  <thead>\n",
       "    <tr style=\"text-align: right;\">\n",
       "      <th></th>\n",
       "      <th>Make</th>\n",
       "      <th>Model</th>\n",
       "      <th>Price</th>\n",
       "      <th>Year</th>\n",
       "      <th>Kilometer</th>\n",
       "      <th>Fuel Type</th>\n",
       "      <th>Transmission</th>\n",
       "      <th>Location</th>\n",
       "      <th>Color</th>\n",
       "      <th>Owner</th>\n",
       "      <th>Seller Type</th>\n",
       "      <th>Engine</th>\n",
       "      <th>Max Power</th>\n",
       "      <th>Max Torque</th>\n",
       "      <th>Drivetrain</th>\n",
       "      <th>Length</th>\n",
       "      <th>Width</th>\n",
       "      <th>Height</th>\n",
       "      <th>Seating Capacity</th>\n",
       "      <th>Fuel Tank Capacity</th>\n",
       "    </tr>\n",
       "  </thead>\n",
       "  <tbody>\n",
       "    <tr>\n",
       "      <th>0</th>\n",
       "      <td>Honda</td>\n",
       "      <td>Amaze 1.2 VX i-VTEC</td>\n",
       "      <td>505000</td>\n",
       "      <td>2017</td>\n",
       "      <td>87150</td>\n",
       "      <td>Petrol</td>\n",
       "      <td>Manual</td>\n",
       "      <td>Pune</td>\n",
       "      <td>Grey</td>\n",
       "      <td>First</td>\n",
       "      <td>Corporate</td>\n",
       "      <td>1198 cc</td>\n",
       "      <td>87 bhp @ 6000 rpm</td>\n",
       "      <td>109 Nm @ 4500 rpm</td>\n",
       "      <td>FWD</td>\n",
       "      <td>3990.0</td>\n",
       "      <td>1680.0</td>\n",
       "      <td>1505.0</td>\n",
       "      <td>5.0</td>\n",
       "      <td>35.0</td>\n",
       "    </tr>\n",
       "    <tr>\n",
       "      <th>1</th>\n",
       "      <td>Maruti Suzuki</td>\n",
       "      <td>Swift DZire VDI</td>\n",
       "      <td>450000</td>\n",
       "      <td>2014</td>\n",
       "      <td>75000</td>\n",
       "      <td>Diesel</td>\n",
       "      <td>Manual</td>\n",
       "      <td>Ludhiana</td>\n",
       "      <td>White</td>\n",
       "      <td>Second</td>\n",
       "      <td>Individual</td>\n",
       "      <td>1248 cc</td>\n",
       "      <td>74 bhp @ 4000 rpm</td>\n",
       "      <td>190 Nm @ 2000 rpm</td>\n",
       "      <td>FWD</td>\n",
       "      <td>3995.0</td>\n",
       "      <td>1695.0</td>\n",
       "      <td>1555.0</td>\n",
       "      <td>5.0</td>\n",
       "      <td>42.0</td>\n",
       "    </tr>\n",
       "    <tr>\n",
       "      <th>2</th>\n",
       "      <td>Hyundai</td>\n",
       "      <td>i10 Magna 1.2 Kappa2</td>\n",
       "      <td>220000</td>\n",
       "      <td>2011</td>\n",
       "      <td>67000</td>\n",
       "      <td>Petrol</td>\n",
       "      <td>Manual</td>\n",
       "      <td>Lucknow</td>\n",
       "      <td>Maroon</td>\n",
       "      <td>First</td>\n",
       "      <td>Individual</td>\n",
       "      <td>1197 cc</td>\n",
       "      <td>79 bhp @ 6000 rpm</td>\n",
       "      <td>112.7619 Nm @ 4000 rpm</td>\n",
       "      <td>FWD</td>\n",
       "      <td>3585.0</td>\n",
       "      <td>1595.0</td>\n",
       "      <td>1550.0</td>\n",
       "      <td>5.0</td>\n",
       "      <td>35.0</td>\n",
       "    </tr>\n",
       "    <tr>\n",
       "      <th>3</th>\n",
       "      <td>Toyota</td>\n",
       "      <td>Glanza G</td>\n",
       "      <td>799000</td>\n",
       "      <td>2019</td>\n",
       "      <td>37500</td>\n",
       "      <td>Petrol</td>\n",
       "      <td>Manual</td>\n",
       "      <td>Mangalore</td>\n",
       "      <td>Red</td>\n",
       "      <td>First</td>\n",
       "      <td>Individual</td>\n",
       "      <td>1197 cc</td>\n",
       "      <td>82 bhp @ 6000 rpm</td>\n",
       "      <td>113 Nm @ 4200 rpm</td>\n",
       "      <td>FWD</td>\n",
       "      <td>3995.0</td>\n",
       "      <td>1745.0</td>\n",
       "      <td>1510.0</td>\n",
       "      <td>5.0</td>\n",
       "      <td>37.0</td>\n",
       "    </tr>\n",
       "    <tr>\n",
       "      <th>4</th>\n",
       "      <td>Toyota</td>\n",
       "      <td>Innova 2.4 VX 7 STR [2016-2020]</td>\n",
       "      <td>1950000</td>\n",
       "      <td>2018</td>\n",
       "      <td>69000</td>\n",
       "      <td>Diesel</td>\n",
       "      <td>Manual</td>\n",
       "      <td>Mumbai</td>\n",
       "      <td>Grey</td>\n",
       "      <td>First</td>\n",
       "      <td>Individual</td>\n",
       "      <td>2393 cc</td>\n",
       "      <td>148 bhp @ 3400 rpm</td>\n",
       "      <td>343 Nm @ 1400 rpm</td>\n",
       "      <td>RWD</td>\n",
       "      <td>4735.0</td>\n",
       "      <td>1830.0</td>\n",
       "      <td>1795.0</td>\n",
       "      <td>7.0</td>\n",
       "      <td>55.0</td>\n",
       "    </tr>\n",
       "  </tbody>\n",
       "</table>\n",
       "</div>"
      ],
      "text/plain": [
       "            Make                            Model    Price  Year  Kilometer  \\\n",
       "0          Honda              Amaze 1.2 VX i-VTEC   505000  2017      87150   \n",
       "1  Maruti Suzuki                  Swift DZire VDI   450000  2014      75000   \n",
       "2        Hyundai             i10 Magna 1.2 Kappa2   220000  2011      67000   \n",
       "3         Toyota                         Glanza G   799000  2019      37500   \n",
       "4         Toyota  Innova 2.4 VX 7 STR [2016-2020]  1950000  2018      69000   \n",
       "\n",
       "  Fuel Type Transmission   Location   Color   Owner Seller Type   Engine  \\\n",
       "0    Petrol       Manual       Pune    Grey   First   Corporate  1198 cc   \n",
       "1    Diesel       Manual   Ludhiana   White  Second  Individual  1248 cc   \n",
       "2    Petrol       Manual    Lucknow  Maroon   First  Individual  1197 cc   \n",
       "3    Petrol       Manual  Mangalore     Red   First  Individual  1197 cc   \n",
       "4    Diesel       Manual     Mumbai    Grey   First  Individual  2393 cc   \n",
       "\n",
       "            Max Power              Max Torque Drivetrain  Length   Width  \\\n",
       "0   87 bhp @ 6000 rpm       109 Nm @ 4500 rpm        FWD  3990.0  1680.0   \n",
       "1   74 bhp @ 4000 rpm       190 Nm @ 2000 rpm        FWD  3995.0  1695.0   \n",
       "2   79 bhp @ 6000 rpm  112.7619 Nm @ 4000 rpm        FWD  3585.0  1595.0   \n",
       "3   82 bhp @ 6000 rpm       113 Nm @ 4200 rpm        FWD  3995.0  1745.0   \n",
       "4  148 bhp @ 3400 rpm       343 Nm @ 1400 rpm        RWD  4735.0  1830.0   \n",
       "\n",
       "   Height  Seating Capacity  Fuel Tank Capacity  \n",
       "0  1505.0               5.0                35.0  \n",
       "1  1555.0               5.0                42.0  \n",
       "2  1550.0               5.0                35.0  \n",
       "3  1510.0               5.0                37.0  \n",
       "4  1795.0               7.0                55.0  "
      ]
     },
     "execution_count": 3,
     "metadata": {},
     "output_type": "execute_result"
    }
   ],
   "source": [
    "df.head(5)"
   ]
  },
  {
   "cell_type": "code",
   "execution_count": 4,
   "id": "5171ff16-a7af-4d7d-9779-767c058d7f62",
   "metadata": {},
   "outputs": [
    {
     "data": {
      "text/plain": [
       "(2059, 20)"
      ]
     },
     "execution_count": 4,
     "metadata": {},
     "output_type": "execute_result"
    }
   ],
   "source": [
    "df.shape"
   ]
  },
  {
   "cell_type": "code",
   "execution_count": 5,
   "id": "1a5bfab9-1db0-4819-8f49-b80eafab03f6",
   "metadata": {},
   "outputs": [
    {
     "name": "stdout",
     "output_type": "stream",
     "text": [
      "<class 'pandas.core.frame.DataFrame'>\n",
      "RangeIndex: 2059 entries, 0 to 2058\n",
      "Data columns (total 20 columns):\n",
      " #   Column              Non-Null Count  Dtype  \n",
      "---  ------              --------------  -----  \n",
      " 0   Make                2059 non-null   object \n",
      " 1   Model               2059 non-null   object \n",
      " 2   Price               2059 non-null   int64  \n",
      " 3   Year                2059 non-null   int64  \n",
      " 4   Kilometer           2059 non-null   int64  \n",
      " 5   Fuel Type           2059 non-null   object \n",
      " 6   Transmission        2059 non-null   object \n",
      " 7   Location            2059 non-null   object \n",
      " 8   Color               2059 non-null   object \n",
      " 9   Owner               2059 non-null   object \n",
      " 10  Seller Type         2059 non-null   object \n",
      " 11  Engine              1979 non-null   object \n",
      " 12  Max Power           1979 non-null   object \n",
      " 13  Max Torque          1979 non-null   object \n",
      " 14  Drivetrain          1923 non-null   object \n",
      " 15  Length              1995 non-null   float64\n",
      " 16  Width               1995 non-null   float64\n",
      " 17  Height              1995 non-null   float64\n",
      " 18  Seating Capacity    1995 non-null   float64\n",
      " 19  Fuel Tank Capacity  1946 non-null   float64\n",
      "dtypes: float64(5), int64(3), object(12)\n",
      "memory usage: 321.8+ KB\n"
     ]
    }
   ],
   "source": [
    "df.info()"
   ]
  },
  {
   "cell_type": "code",
   "execution_count": 6,
   "id": "07294b99-4be7-48d4-be9d-14f963553aaf",
   "metadata": {},
   "outputs": [
    {
     "data": {
      "text/plain": [
       "0"
      ]
     },
     "execution_count": 6,
     "metadata": {},
     "output_type": "execute_result"
    }
   ],
   "source": [
    "df.duplicated().sum()"
   ]
  },
  {
   "cell_type": "code",
   "execution_count": 7,
   "id": "fc57abe1-e83a-4318-9e53-22057ae8052a",
   "metadata": {},
   "outputs": [
    {
     "data": {
      "text/plain": [
       "Make                    0\n",
       "Model                   0\n",
       "Price                   0\n",
       "Year                    0\n",
       "Kilometer               0\n",
       "Fuel Type               0\n",
       "Transmission            0\n",
       "Location                0\n",
       "Color                   0\n",
       "Owner                   0\n",
       "Seller Type             0\n",
       "Engine                 80\n",
       "Max Power              80\n",
       "Max Torque             80\n",
       "Drivetrain            136\n",
       "Length                 64\n",
       "Width                  64\n",
       "Height                 64\n",
       "Seating Capacity       64\n",
       "Fuel Tank Capacity    113\n",
       "dtype: int64"
      ]
     },
     "execution_count": 7,
     "metadata": {},
     "output_type": "execute_result"
    }
   ],
   "source": [
    "df.isnull().sum()"
   ]
  },
  {
   "cell_type": "markdown",
   "id": "19168ced-bc3c-402b-ad66-9b2757ca4962",
   "metadata": {},
   "source": [
    "missing_data=100-(4750/5000*100)\n",
    "missing_data"
   ]
  },
  {
   "cell_type": "markdown",
   "id": "736eaaa5-aa2d-427e-a1e7-046b44d6dbc1",
   "metadata": {},
   "source": [
    "na_mileage=df[\"Mileage\"].isna()\n",
    "na_engine_CC=df[\"Engine_CC\"].isna()\n",
    "na_power_bhp=df[\"Power_bhp\"].isna()"
   ]
  },
  {
   "cell_type": "markdown",
   "id": "902bb02d-93c1-42cd-a99e-0c6149519dc5",
   "metadata": {},
   "source": [
    "(na_mileage==na_engine_CC).all()"
   ]
  },
  {
   "cell_type": "markdown",
   "id": "506fa627-da74-468f-950d-1a3aaf873845",
   "metadata": {},
   "source": [
    "(na_mileage==na_power_bhp).all()"
   ]
  },
  {
   "cell_type": "markdown",
   "id": "5e3c35a5-5562-4f4b-8e0b-2afbc78fab22",
   "metadata": {},
   "source": [
    "(na_engine_CC==na_power_bhp).all()"
   ]
  },
  {
   "cell_type": "code",
   "execution_count": 8,
   "id": "50f9e787-14ae-4769-bf3e-5bba27a53f8d",
   "metadata": {},
   "outputs": [
    {
     "data": {
      "text/plain": [
       "745"
      ]
     },
     "execution_count": 8,
     "metadata": {},
     "output_type": "execute_result"
    }
   ],
   "source": [
    "df.isna().sum().sum()"
   ]
  },
  {
   "cell_type": "code",
   "execution_count": 9,
   "id": "3d95202d-397b-404d-891c-6215ba481481",
   "metadata": {},
   "outputs": [
    {
     "data": {
      "text/plain": [
       "185"
      ]
     },
     "execution_count": 9,
     "metadata": {},
     "output_type": "execute_result"
    }
   ],
   "source": [
    "df.isna().any(axis=1).sum()"
   ]
  },
  {
   "cell_type": "code",
   "execution_count": 10,
   "id": "4c6dd0ef-25d7-4185-86e8-d656471285ce",
   "metadata": {},
   "outputs": [],
   "source": [
    "# We make new column Car Age that calulates actual year of car from current year\n",
    "df[\"Car Age\"]=2025-df[\"Year\"]"
   ]
  },
  {
   "cell_type": "code",
   "execution_count": 11,
   "id": "9ee36780-289b-40f1-8ec0-e9824f1dd5ae",
   "metadata": {},
   "outputs": [
    {
     "data": {
      "text/plain": [
       "0        8\n",
       "1       11\n",
       "2       14\n",
       "3        6\n",
       "4        7\n",
       "        ..\n",
       "2054     9\n",
       "2055    11\n",
       "2056    12\n",
       "2057     7\n",
       "2058     8\n",
       "Name: Car Age, Length: 2059, dtype: int64"
      ]
     },
     "execution_count": 11,
     "metadata": {},
     "output_type": "execute_result"
    }
   ],
   "source": [
    "df[\"Car Age\"]"
   ]
  },
  {
   "cell_type": "code",
   "execution_count": null,
   "id": "444a9926-2b80-46f5-bcaf-06a8fbf78b7d",
   "metadata": {},
   "outputs": [],
   "source": []
  },
  {
   "cell_type": "code",
   "execution_count": 12,
   "id": "c1a0be2d-5c2d-44dd-935e-9e59ce5d6cde",
   "metadata": {},
   "outputs": [
    {
     "data": {
      "image/png": "[encoded data removed]",
      "text/plain": [
       "<Figure size 1500x500 with 3 Axes>"
      ]
     },
     "metadata": {},
     "output_type": "display_data"
    }
   ],
   "source": [
    "fig, axs = plt.subplots(nrows=1, ncols=3, figsize=(15, 5))\n",
    "\n",
    "#Kilometer\n",
    "sns.boxplot(df['Kilometer'],ax=axs[0])\n",
    "axs[0].set_title('Kilometer')\n",
    "\n",
    "#Engine\n",
    "#sns.boxplot(df['Engine'],ax=axs[1])\n",
    "#axs[1].set_title('Engine')\n",
    "\n",
    "#Max Power\n",
    "#sns.boxplot(df['Max Power'],ax=axs[2])\n",
    "#axs[2].set_title('Max Power')\n",
    "\n",
    "#Seating Capacity\n",
    "sns.boxplot(df['Seating Capacity'],ax=axs[1],color='green')\n",
    "axs[1].set_title('Seating Capacity')\n",
    "\n",
    "#Fuel Tank Capacity\n",
    "sns.boxplot(df[\"Fuel Tank Capacity\"],ax=axs[2],color='lightgreen')\n",
    "axs[2].set_title(\"Fuel Tank Capacity\")\n",
    "\n",
    "plt.tight_layout()\n",
    "plt.show()"
   ]
  },
  {
   "cell_type": "markdown",
   "id": "2a58bbb8-0a29-4507-af44-3eabab97b256",
   "metadata": {},
   "source": [
    "# Encoding\n"
   ]
  },
  {
   "cell_type": "code",
   "execution_count": 13,
   "id": "32799950-0aa7-4642-9851-ac278ed2eb4f",
   "metadata": {},
   "outputs": [
    {
     "data": {
      "text/plain": [
       "Make\n",
       "Maruti Suzuki    440\n",
       "Hyundai          349\n",
       "Mercedes-Benz    171\n",
       "Honda            158\n",
       "Toyota           132\n",
       "Audi             127\n",
       "BMW              121\n",
       "Mahindra         119\n",
       "Tata              57\n",
       "Volkswagen        50\n",
       "Ford              48\n",
       "Renault           43\n",
       "Skoda             40\n",
       "Land Rover        33\n",
       "Kia               23\n",
       "Jeep              18\n",
       "Jaguar            17\n",
       "MG                17\n",
       "Nissan            16\n",
       "Volvo             16\n",
       "Porsche           15\n",
       "MINI              11\n",
       "Datsun             8\n",
       "Chevrolet          7\n",
       "Lexus              6\n",
       "Mitsubishi         4\n",
       "Ssangyong          3\n",
       "Rolls-Royce        3\n",
       "Isuzu              2\n",
       "Fiat               2\n",
       "Maserati           1\n",
       "Ferrari            1\n",
       "Lamborghini        1\n",
       "Name: count, dtype: int64"
      ]
     },
     "execution_count": 13,
     "metadata": {},
     "output_type": "execute_result"
    }
   ],
   "source": [
    "#Make\n",
    "df['Make'].value_counts()"
   ]
  },
  {
   "cell_type": "code",
   "execution_count": 14,
   "id": "84cd789b-ef23-407f-a366-faa437744362",
   "metadata": {},
   "outputs": [],
   "source": [
    "#Since there’s no natural order ,here also One-Hot Encoding is the best and safest method."
   ]
  },
  {
   "cell_type": "code",
   "execution_count": 15,
   "id": "df549c31-d1cf-4cff-880f-3d5d33e46d53",
   "metadata": {},
   "outputs": [
    {
     "data": {
      "text/plain": [
       "Fuel Type\n",
       "Diesel          1049\n",
       "Petrol           942\n",
       "CNG               50\n",
       "Electric           7\n",
       "LPG                5\n",
       "Hybrid             3\n",
       "CNG + CNG          1\n",
       "Petrol + CNG       1\n",
       "Petrol + LPG       1\n",
       "Name: count, dtype: int64"
      ]
     },
     "execution_count": 15,
     "metadata": {},
     "output_type": "execute_result"
    }
   ],
   "source": [
    "#Fuel Type\n",
    "df[\"Fuel Type\"].value_counts()"
   ]
  },
  {
   "cell_type": "code",
   "execution_count": 16,
   "id": "67f47c38-ce7b-48a7-96d2-57f9ae72b549",
   "metadata": {},
   "outputs": [],
   "source": [
    "#Since there’s no natural order for Fuel Type, we will be using One-Hot Encoding."
   ]
  },
  {
   "cell_type": "code",
   "execution_count": 17,
   "id": "0246b9bb-b631-4aa9-a260-c2408d108601",
   "metadata": {},
   "outputs": [
    {
     "data": {
      "text/plain": [
       "Transmission\n",
       "Manual       1133\n",
       "Automatic     926\n",
       "Name: count, dtype: int64"
      ]
     },
     "execution_count": 17,
     "metadata": {},
     "output_type": "execute_result"
    }
   ],
   "source": [
    "#Transmission\n",
    "df['Transmission'].value_counts()"
   ]
  },
  {
   "cell_type": "code",
   "execution_count": 18,
   "id": "c9f7cb59-d640-4ca9-93b5-e62ad11911fe",
   "metadata": {},
   "outputs": [],
   "source": [
    "#Since there’s no natural order for Transmission, we will be using One-Hot Encoding."
   ]
  },
  {
   "cell_type": "code",
   "execution_count": 19,
   "id": "6c5d54c1-377f-4274-8493-95370e178163",
   "metadata": {},
   "outputs": [
    {
     "data": {
      "text/plain": [
       "Location\n",
       "Mumbai              342\n",
       "Delhi               307\n",
       "Pune                144\n",
       "Bangalore           132\n",
       "Hyderabad           116\n",
       "                   ... \n",
       "Faizabad              1\n",
       "Pimpri-Chinchwad      1\n",
       "Rohtak                1\n",
       "Valsad                1\n",
       "Siliguri              1\n",
       "Name: count, Length: 77, dtype: int64"
      ]
     },
     "execution_count": 19,
     "metadata": {},
     "output_type": "execute_result"
    }
   ],
   "source": [
    "#Location\n",
    "df['Location'].value_counts()"
   ]
  },
  {
   "cell_type": "code",
   "execution_count": 20,
   "id": "3fb97883-56ab-4b60-9409-8603eb48a34f",
   "metadata": {},
   "outputs": [],
   "source": [
    "#Since there’s no natural order for Location, we will be using One-Hot Encoding."
   ]
  },
  {
   "cell_type": "code",
   "execution_count": 21,
   "id": "b8fdbe1e-f3d1-4d39-ade1-d3e262b66ce3",
   "metadata": {},
   "outputs": [
    {
     "data": {
      "text/plain": [
       "Owner\n",
       "First               1619\n",
       "Second               373\n",
       "Third                 42\n",
       "UnRegistered Car      21\n",
       "Fourth                 3\n",
       "4 or More              1\n",
       "Name: count, dtype: int64"
      ]
     },
     "execution_count": 21,
     "metadata": {},
     "output_type": "execute_result"
    }
   ],
   "source": [
    "#Owner\n",
    "df['Owner'].value_counts()"
   ]
  },
  {
   "cell_type": "code",
   "execution_count": 22,
   "id": "e8983619-98e1-4e11-9bf7-dd64b4153b86",
   "metadata": {},
   "outputs": [],
   "source": [
    "#It has 4 categories which has order i.e UnRegistered Car < 4 or More  < Fourth < Third  < Second < First .So Ordinal encoding would be appropriate here.¶"
   ]
  },
  {
   "cell_type": "code",
   "execution_count": 23,
   "id": "2c57f195-e2d4-44c1-b670-4af5a8070630",
   "metadata": {},
   "outputs": [
    {
     "data": {
      "text/plain": [
       "Seller Type\n",
       "Individual                 1997\n",
       "Corporate                    57\n",
       "Commercial Registration       5\n",
       "Name: count, dtype: int64"
      ]
     },
     "execution_count": 23,
     "metadata": {},
     "output_type": "execute_result"
    }
   ],
   "source": [
    "#Seller Type\t\n",
    "df[\"Seller Type\"].value_counts()"
   ]
  },
  {
   "cell_type": "code",
   "execution_count": 24,
   "id": "2c77bcc8-097b-4434-89d1-734351743d95",
   "metadata": {},
   "outputs": [],
   "source": [
    "#Since \"Individual\", \"Corporate\", and \"Commercial Registration\" are nominal categories (no inherent order), One-Hot Encoding is the safest and most appropriate."
   ]
  },
  {
   "cell_type": "code",
   "execution_count": 25,
   "id": "5d332c05-2acb-4657-ac1c-12cb5cc6e8d1",
   "metadata": {},
   "outputs": [],
   "source": [
    "#Now we checking if there is trend or not by plotting the graphs\n"
   ]
  },
  {
   "cell_type": "code",
   "execution_count": 26,
   "id": "9ef25903-90a4-4041-bc2e-16f38fb0bcd0",
   "metadata": {},
   "outputs": [
    {
     "data": {
      "text/plain": [
       "<Axes: xlabel='Make'>"
      ]
     },
     "execution_count": 26,
     "metadata": {},
     "output_type": "execute_result"
    },
    {
     "data": {
      "image/png": "[encoded data removed]",
      "text/plain": [
       "<Figure size 800x300 with 1 Axes>"
      ]
     },
     "metadata": {},
     "output_type": "display_data"
    }
   ],
   "source": [
    "plt.figure(figsize=(8,3))\n",
    "df.groupby('Make')['Price'].mean().sort_values().plot(kind='bar')"
   ]
  },
  {
   "cell_type": "code",
   "execution_count": 27,
   "id": "c20024cb-11da-4296-b5ef-2b71a27c1869",
   "metadata": {},
   "outputs": [
    {
     "data": {
      "text/plain": [
       "<Axes: xlabel='Fuel Type'>"
      ]
     },
     "execution_count": 27,
     "metadata": {},
     "output_type": "execute_result"
    },
    {
     "data": {
      "image/png": "[encoded data removed]",
      "text/plain": [
       "<Figure size 400x300 with 1 Axes>"
      ]
     },
     "metadata": {},
     "output_type": "display_data"
    }
   ],
   "source": [
    "plt.figure(figsize=(4,3))\n",
    "df.groupby('Fuel Type')[\"Price\"].mean().sort_values().plot(kind='bar')"
   ]
  },
  {
   "cell_type": "code",
   "execution_count": 28,
   "id": "069b8167-7dd4-4cc8-b923-b9bf93fe8dc0",
   "metadata": {},
   "outputs": [
    {
     "data": {
      "text/plain": [
       "<Axes: xlabel='Transmission'>"
      ]
     },
     "execution_count": 28,
     "metadata": {},
     "output_type": "execute_result"
    },
    {
     "data": {
      "image/png": "[encoded data removed]",
      "text/plain": [
       "<Figure size 400x300 with 1 Axes>"
      ]
     },
     "metadata": {},
     "output_type": "display_data"
    }
   ],
   "source": [
    "plt.figure(figsize=(4,3))\n",
    "df.groupby('Transmission')['Price'].mean().sort_values().plot(kind='bar')"
   ]
  },
  {
   "cell_type": "code",
   "execution_count": 29,
   "id": "1da17773-c271-4eca-ab3d-2642648c2cf4",
   "metadata": {},
   "outputs": [
    {
     "data": {
      "text/plain": [
       "<Axes: xlabel='Seller Type'>"
      ]
     },
     "execution_count": 29,
     "metadata": {},
     "output_type": "execute_result"
    },
    {
     "data": {
      "image/png": "[encoded data removed]",
      "text/plain": [
       "<Figure size 400x300 with 1 Axes>"
      ]
     },
     "metadata": {},
     "output_type": "display_data"
    }
   ],
   "source": [
    "plt.figure(figsize=(4,3))\n",
    "df.groupby('Seller Type')['Price'].mean().sort_values().plot(kind='bar')"
   ]
  },
  {
   "cell_type": "code",
   "execution_count": 30,
   "id": "5e9f9a1b-02db-4855-8b9b-9bcfe9c1a6b3",
   "metadata": {},
   "outputs": [
    {
     "data": {
      "text/plain": [
       "<Axes: xlabel='Location'>"
      ]
     },
     "execution_count": 30,
     "metadata": {},
     "output_type": "execute_result"
    },
    {
     "data": {
      "image/png": "[encoded data removed]",
      "text/plain": [
       "<Figure size 1500x500 with 1 Axes>"
      ]
     },
     "metadata": {},
     "output_type": "display_data"
    }
   ],
   "source": [
    "plt.figure(figsize=(15,5))\n",
    "df.groupby('Location')['Price'].mean().sort_values().plot(kind='bar')"
   ]
  },
  {
   "cell_type": "markdown",
   "id": "a04d2aa4-4cde-47cf-b476-df40d909f29a",
   "metadata": {},
   "source": [
    "**In make , location and fuel Type columns since price varies systematically with make, target encoding captures this information directly.**\n",
    "#**In Transmission and Seller Type column there are very few categories so we use one hot encoding**"
   ]
  },
  {
   "cell_type": "markdown",
   "id": "a256dc3a-0b06-4cd1-9f66-9ffdac70e99d",
   "metadata": {},
   "source": [
    "#Earlier we saw that we have missing values so we have to impute those values and we have to encode categorical columns\n",
    ">First we have to do train test split and then we impute values and encode columns to avoid data leakage"
   ]
  },
  {
   "cell_type": "code",
   "execution_count": 31,
   "id": "25b62f88-b2de-4af1-8d43-b62e210751b9",
   "metadata": {},
   "outputs": [],
   "source": [
    "#seperating input and target\n",
    "x=df.drop(['Price','Drivetrain','Color','Model','Max Torque','Max Torque','Length','Width','Height','Year'],axis=1)\n",
    "y=df.iloc[:,2:3]"
   ]
  },
  {
   "cell_type": "code",
   "execution_count": null,
   "id": "9654e4a5-d1e6-463d-93d5-272887b7caf7",
   "metadata": {},
   "outputs": [],
   "source": []
  },
  {
   "cell_type": "code",
   "execution_count": 32,
   "id": "cbb19889-36d9-488e-9c28-dc35bcc280b8",
   "metadata": {},
   "outputs": [],
   "source": [
    "#split the data into tain and test part\n",
    "x_train,x_test,y_train,y_test=train_test_split(x,y,test_size=0.2,random_state=10)"
   ]
  },
  {
   "cell_type": "code",
   "execution_count": 33,
   "id": "85844ab8-66e8-460e-9d53-3bbca7c68848",
   "metadata": {},
   "outputs": [
    {
     "data": {
      "text/html": [
       "<div>\n",
       "<style scoped>\n",
       "    .dataframe tbody tr th:only-of-type {\n",
       "        vertical-align: middle;\n",
       "    }\n",
       "\n",
       "    .dataframe tbody tr th {\n",
       "        vertical-align: top;\n",
       "    }\n",
       "\n",
       "    .dataframe thead th {\n",
       "        text-align: right;\n",
       "    }\n",
       "</style>\n",
       "<table border=\"1\" class=\"dataframe\">\n",
       "  <thead>\n",
       "    <tr style=\"text-align: right;\">\n",
       "      <th></th>\n",
       "      <th>Make</th>\n",
       "      <th>Kilometer</th>\n",
       "      <th>Fuel Type</th>\n",
       "      <th>Transmission</th>\n",
       "      <th>Location</th>\n",
       "      <th>Owner</th>\n",
       "      <th>Seller Type</th>\n",
       "      <th>Engine</th>\n",
       "      <th>Max Power</th>\n",
       "      <th>Seating Capacity</th>\n",
       "      <th>Fuel Tank Capacity</th>\n",
       "      <th>Car Age</th>\n",
       "    </tr>\n",
       "  </thead>\n",
       "  <tbody>\n",
       "    <tr>\n",
       "      <th>817</th>\n",
       "      <td>Hyundai</td>\n",
       "      <td>95610</td>\n",
       "      <td>Diesel</td>\n",
       "      <td>Manual</td>\n",
       "      <td>Rudrapur</td>\n",
       "      <td>Second</td>\n",
       "      <td>Individual</td>\n",
       "      <td>1336 cc</td>\n",
       "      <td>89 bhp @ 4000 rpm</td>\n",
       "      <td>5.0</td>\n",
       "      <td>45.0</td>\n",
       "      <td>12</td>\n",
       "    </tr>\n",
       "    <tr>\n",
       "      <th>507</th>\n",
       "      <td>Kia</td>\n",
       "      <td>14000</td>\n",
       "      <td>Petrol</td>\n",
       "      <td>Manual</td>\n",
       "      <td>Delhi</td>\n",
       "      <td>First</td>\n",
       "      <td>Individual</td>\n",
       "      <td>1497 cc</td>\n",
       "      <td>114 bhp @ 6300 rpm</td>\n",
       "      <td>5.0</td>\n",
       "      <td>50.0</td>\n",
       "      <td>4</td>\n",
       "    </tr>\n",
       "    <tr>\n",
       "      <th>1794</th>\n",
       "      <td>Mercedes-Benz</td>\n",
       "      <td>12500</td>\n",
       "      <td>Diesel</td>\n",
       "      <td>Automatic</td>\n",
       "      <td>Hyderabad</td>\n",
       "      <td>UnRegistered Car</td>\n",
       "      <td>Individual</td>\n",
       "      <td>2148 cc</td>\n",
       "      <td>170@3700</td>\n",
       "      <td>5.0</td>\n",
       "      <td>66.0</td>\n",
       "      <td>3</td>\n",
       "    </tr>\n",
       "    <tr>\n",
       "      <th>452</th>\n",
       "      <td>Jaguar</td>\n",
       "      <td>43000</td>\n",
       "      <td>Diesel</td>\n",
       "      <td>Automatic</td>\n",
       "      <td>Delhi</td>\n",
       "      <td>First</td>\n",
       "      <td>Individual</td>\n",
       "      <td>1999 cc</td>\n",
       "      <td>177 bhp @ 4000 rpm</td>\n",
       "      <td>5.0</td>\n",
       "      <td>82.0</td>\n",
       "      <td>6</td>\n",
       "    </tr>\n",
       "    <tr>\n",
       "      <th>1148</th>\n",
       "      <td>Mercedes-Benz</td>\n",
       "      <td>81000</td>\n",
       "      <td>Diesel</td>\n",
       "      <td>Automatic</td>\n",
       "      <td>Ahmedabad</td>\n",
       "      <td>First</td>\n",
       "      <td>Individual</td>\n",
       "      <td>2987 cc</td>\n",
       "      <td>234@3800</td>\n",
       "      <td>5.0</td>\n",
       "      <td>95.0</td>\n",
       "      <td>11</td>\n",
       "    </tr>\n",
       "    <tr>\n",
       "      <th>...</th>\n",
       "      <td>...</td>\n",
       "      <td>...</td>\n",
       "      <td>...</td>\n",
       "      <td>...</td>\n",
       "      <td>...</td>\n",
       "      <td>...</td>\n",
       "      <td>...</td>\n",
       "      <td>...</td>\n",
       "      <td>...</td>\n",
       "      <td>...</td>\n",
       "      <td>...</td>\n",
       "      <td>...</td>\n",
       "    </tr>\n",
       "    <tr>\n",
       "      <th>2009</th>\n",
       "      <td>Audi</td>\n",
       "      <td>89000</td>\n",
       "      <td>Diesel</td>\n",
       "      <td>Automatic</td>\n",
       "      <td>Mohali</td>\n",
       "      <td>Second</td>\n",
       "      <td>Individual</td>\n",
       "      <td>NaN</td>\n",
       "      <td>NaN</td>\n",
       "      <td>NaN</td>\n",
       "      <td>NaN</td>\n",
       "      <td>13</td>\n",
       "    </tr>\n",
       "    <tr>\n",
       "      <th>1180</th>\n",
       "      <td>Tata</td>\n",
       "      <td>9000</td>\n",
       "      <td>Petrol</td>\n",
       "      <td>Automatic</td>\n",
       "      <td>Pune</td>\n",
       "      <td>First</td>\n",
       "      <td>Individual</td>\n",
       "      <td>1199 cc</td>\n",
       "      <td>84 bhp @ 6000 rpm</td>\n",
       "      <td>5.0</td>\n",
       "      <td>35.0</td>\n",
       "      <td>4</td>\n",
       "    </tr>\n",
       "    <tr>\n",
       "      <th>1344</th>\n",
       "      <td>Audi</td>\n",
       "      <td>36000</td>\n",
       "      <td>Diesel</td>\n",
       "      <td>Automatic</td>\n",
       "      <td>Delhi</td>\n",
       "      <td>First</td>\n",
       "      <td>Individual</td>\n",
       "      <td>1968 cc</td>\n",
       "      <td>184 bhp @ 3500 rpm</td>\n",
       "      <td>5.0</td>\n",
       "      <td>64.0</td>\n",
       "      <td>8</td>\n",
       "    </tr>\n",
       "    <tr>\n",
       "      <th>527</th>\n",
       "      <td>Mahindra</td>\n",
       "      <td>57000</td>\n",
       "      <td>Diesel</td>\n",
       "      <td>Manual</td>\n",
       "      <td>Lucknow</td>\n",
       "      <td>First</td>\n",
       "      <td>Individual</td>\n",
       "      <td>2179 cc</td>\n",
       "      <td>153 bhp @ 3750 rpm</td>\n",
       "      <td>7.0</td>\n",
       "      <td>70.0</td>\n",
       "      <td>7</td>\n",
       "    </tr>\n",
       "    <tr>\n",
       "      <th>1289</th>\n",
       "      <td>Toyota</td>\n",
       "      <td>114000</td>\n",
       "      <td>Diesel</td>\n",
       "      <td>Manual</td>\n",
       "      <td>Ambala Cantt</td>\n",
       "      <td>First</td>\n",
       "      <td>Individual</td>\n",
       "      <td>1364 cc</td>\n",
       "      <td>67 bhp @ 3800 rpm</td>\n",
       "      <td>5.0</td>\n",
       "      <td>45.0</td>\n",
       "      <td>9</td>\n",
       "    </tr>\n",
       "  </tbody>\n",
       "</table>\n",
       "<p>1647 rows × 12 columns</p>\n",
       "</div>"
      ],
      "text/plain": [
       "               Make  Kilometer Fuel Type Transmission      Location  \\\n",
       "817         Hyundai      95610    Diesel       Manual      Rudrapur   \n",
       "507             Kia      14000    Petrol       Manual         Delhi   \n",
       "1794  Mercedes-Benz      12500    Diesel    Automatic     Hyderabad   \n",
       "452          Jaguar      43000    Diesel    Automatic         Delhi   \n",
       "1148  Mercedes-Benz      81000    Diesel    Automatic     Ahmedabad   \n",
       "...             ...        ...       ...          ...           ...   \n",
       "2009           Audi      89000    Diesel    Automatic        Mohali   \n",
       "1180           Tata       9000    Petrol    Automatic          Pune   \n",
       "1344           Audi      36000    Diesel    Automatic         Delhi   \n",
       "527        Mahindra      57000    Diesel       Manual       Lucknow   \n",
       "1289         Toyota     114000    Diesel       Manual  Ambala Cantt   \n",
       "\n",
       "                 Owner Seller Type   Engine           Max Power  \\\n",
       "817             Second  Individual  1336 cc   89 bhp @ 4000 rpm   \n",
       "507              First  Individual  1497 cc  114 bhp @ 6300 rpm   \n",
       "1794  UnRegistered Car  Individual  2148 cc            170@3700   \n",
       "452              First  Individual  1999 cc  177 bhp @ 4000 rpm   \n",
       "1148             First  Individual  2987 cc            234@3800   \n",
       "...                ...         ...      ...                 ...   \n",
       "2009            Second  Individual      NaN                 NaN   \n",
       "1180             First  Individual  1199 cc   84 bhp @ 6000 rpm   \n",
       "1344             First  Individual  1968 cc  184 bhp @ 3500 rpm   \n",
       "527              First  Individual  2179 cc  153 bhp @ 3750 rpm   \n",
       "1289             First  Individual  1364 cc   67 bhp @ 3800 rpm   \n",
       "\n",
       "      Seating Capacity  Fuel Tank Capacity  Car Age  \n",
       "817                5.0                45.0       12  \n",
       "507                5.0                50.0        4  \n",
       "1794               5.0                66.0        3  \n",
       "452                5.0                82.0        6  \n",
       "1148               5.0                95.0       11  \n",
       "...                ...                 ...      ...  \n",
       "2009               NaN                 NaN       13  \n",
       "1180               5.0                35.0        4  \n",
       "1344               5.0                64.0        8  \n",
       "527                7.0                70.0        7  \n",
       "1289               5.0                45.0        9  \n",
       "\n",
       "[1647 rows x 12 columns]"
      ]
     },
     "execution_count": 33,
     "metadata": {},
     "output_type": "execute_result"
    }
   ],
   "source": [
    "x_train"
   ]
  },
  {
   "cell_type": "code",
   "execution_count": 34,
   "id": "2a4c75b6-8a65-4ceb-92cb-4060bdbed0bf",
   "metadata": {},
   "outputs": [
    {
     "name": "stdout",
     "output_type": "stream",
     "text": [
      "<class 'pandas.core.frame.DataFrame'>\n",
      "Index: 1647 entries, 817 to 1289\n",
      "Data columns (total 12 columns):\n",
      " #   Column              Non-Null Count  Dtype  \n",
      "---  ------              --------------  -----  \n",
      " 0   Make                1647 non-null   object \n",
      " 1   Kilometer           1647 non-null   int64  \n",
      " 2   Fuel Type           1647 non-null   object \n",
      " 3   Transmission        1647 non-null   object \n",
      " 4   Location            1647 non-null   object \n",
      " 5   Owner               1647 non-null   object \n",
      " 6   Seller Type         1647 non-null   object \n",
      " 7   Engine              1581 non-null   object \n",
      " 8   Max Power           1581 non-null   object \n",
      " 9   Seating Capacity    1595 non-null   float64\n",
      " 10  Fuel Tank Capacity  1555 non-null   float64\n",
      " 11  Car Age             1647 non-null   int64  \n",
      "dtypes: float64(2), int64(2), object(8)\n",
      "memory usage: 167.3+ KB\n"
     ]
    }
   ],
   "source": [
    "x_train.info()"
   ]
  },
  {
   "cell_type": "code",
   "execution_count": 35,
   "id": "9d07d49f-49ae-4d0f-a895-be19c2e0e206",
   "metadata": {},
   "outputs": [
    {
     "data": {
      "text/plain": [
       "(1647, 12)"
      ]
     },
     "execution_count": 35,
     "metadata": {},
     "output_type": "execute_result"
    }
   ],
   "source": [
    "x_train.shape"
   ]
  },
  {
   "cell_type": "code",
   "execution_count": 36,
   "id": "8184723b-48f7-44d7-9bec-b5154ff8d984",
   "metadata": {},
   "outputs": [
    {
     "data": {
      "text/html": [
       "<div>\n",
       "<style scoped>\n",
       "    .dataframe tbody tr th:only-of-type {\n",
       "        vertical-align: middle;\n",
       "    }\n",
       "\n",
       "    .dataframe tbody tr th {\n",
       "        vertical-align: top;\n",
       "    }\n",
       "\n",
       "    .dataframe thead th {\n",
       "        text-align: right;\n",
       "    }\n",
       "</style>\n",
       "<table border=\"1\" class=\"dataframe\">\n",
       "  <thead>\n",
       "    <tr style=\"text-align: right;\">\n",
       "      <th></th>\n",
       "      <th>Price</th>\n",
       "    </tr>\n",
       "  </thead>\n",
       "  <tbody>\n",
       "    <tr>\n",
       "      <th>817</th>\n",
       "      <td>360000</td>\n",
       "    </tr>\n",
       "    <tr>\n",
       "      <th>507</th>\n",
       "      <td>1525000</td>\n",
       "    </tr>\n",
       "    <tr>\n",
       "      <th>1794</th>\n",
       "      <td>5300000</td>\n",
       "    </tr>\n",
       "    <tr>\n",
       "      <th>452</th>\n",
       "      <td>5200000</td>\n",
       "    </tr>\n",
       "    <tr>\n",
       "      <th>1148</th>\n",
       "      <td>2150000</td>\n",
       "    </tr>\n",
       "    <tr>\n",
       "      <th>...</th>\n",
       "      <td>...</td>\n",
       "    </tr>\n",
       "    <tr>\n",
       "      <th>2009</th>\n",
       "      <td>775000</td>\n",
       "    </tr>\n",
       "    <tr>\n",
       "      <th>1180</th>\n",
       "      <td>795000</td>\n",
       "    </tr>\n",
       "    <tr>\n",
       "      <th>1344</th>\n",
       "      <td>2550000</td>\n",
       "    </tr>\n",
       "    <tr>\n",
       "      <th>527</th>\n",
       "      <td>1095000</td>\n",
       "    </tr>\n",
       "    <tr>\n",
       "      <th>1289</th>\n",
       "      <td>500000</td>\n",
       "    </tr>\n",
       "  </tbody>\n",
       "</table>\n",
       "<p>1647 rows × 1 columns</p>\n",
       "</div>"
      ],
      "text/plain": [
       "        Price\n",
       "817    360000\n",
       "507   1525000\n",
       "1794  5300000\n",
       "452   5200000\n",
       "1148  2150000\n",
       "...       ...\n",
       "2009   775000\n",
       "1180   795000\n",
       "1344  2550000\n",
       "527   1095000\n",
       "1289   500000\n",
       "\n",
       "[1647 rows x 1 columns]"
      ]
     },
     "execution_count": 36,
     "metadata": {},
     "output_type": "execute_result"
    }
   ],
   "source": [
    "y_train"
   ]
  },
  {
   "cell_type": "code",
   "execution_count": 37,
   "id": "1782513c-91c4-4656-88e5-97ad0a86b467",
   "metadata": {},
   "outputs": [
    {
     "data": {
      "text/plain": [
       "(1647, 1)"
      ]
     },
     "execution_count": 37,
     "metadata": {},
     "output_type": "execute_result"
    }
   ],
   "source": [
    "y_train.shape"
   ]
  },
  {
   "cell_type": "code",
   "execution_count": 38,
   "id": "460522bc-313c-4905-9524-7e3a389c5d95",
   "metadata": {},
   "outputs": [],
   "source": [
    "##Remove non-numeric characters from engine\n",
    "x_train[\"Engine\"]=pd.to_numeric(x_train[\"Engine\"].str.replace('cc',''),errors='coerce')\n",
    "x_test[\"Engine\"]=pd.to_numeric(x_test[\"Engine\"].str.replace('cc',''),errors='coerce')"
   ]
  },
  {
   "cell_type": "code",
   "execution_count": 39,
   "id": "0a4d99b6-31d6-45c5-bea7-bf718cdcb745",
   "metadata": {},
   "outputs": [
    {
     "name": "stdout",
     "output_type": "stream",
     "text": [
      "<class 'pandas.core.frame.DataFrame'>\n",
      "Index: 412 entries, 1263 to 1647\n",
      "Data columns (total 12 columns):\n",
      " #   Column              Non-Null Count  Dtype  \n",
      "---  ------              --------------  -----  \n",
      " 0   Make                412 non-null    object \n",
      " 1   Kilometer           412 non-null    int64  \n",
      " 2   Fuel Type           412 non-null    object \n",
      " 3   Transmission        412 non-null    object \n",
      " 4   Location            412 non-null    object \n",
      " 5   Owner               412 non-null    object \n",
      " 6   Seller Type         412 non-null    object \n",
      " 7   Engine              398 non-null    float64\n",
      " 8   Max Power           398 non-null    object \n",
      " 9   Seating Capacity    400 non-null    float64\n",
      " 10  Fuel Tank Capacity  391 non-null    float64\n",
      " 11  Car Age             412 non-null    int64  \n",
      "dtypes: float64(3), int64(2), object(7)\n",
      "memory usage: 41.8+ KB\n"
     ]
    }
   ],
   "source": [
    "x_test.info()"
   ]
  },
  {
   "cell_type": "code",
   "execution_count": 40,
   "id": "8ccc86bf-8627-41b1-a74c-8583b76c0b3f",
   "metadata": {},
   "outputs": [],
   "source": [
    "##Remove non-numeric characters from engine\n",
    "x_train['Max Power']=x_train['Max Power'].str.extract(r'(\\d+\\.?\\d*)')   # extract numeric part only\n",
    "x_train['Max Power']=pd.to_numeric(x_train['Max Power'],errors='coerce')"
   ]
  },
  {
   "cell_type": "code",
   "execution_count": 41,
   "id": "16f14fac-0b62-4590-8b24-2d7e139e8660",
   "metadata": {},
   "outputs": [],
   "source": [
    "x_test[\"Max Power\"]=x_test[\"Max Power\"].str.extract(r'(\\d+\\.?\\d*)')\n",
    "x_test[\"Max Power\"]=pd.to_numeric(x_test[\"Max Power\"],errors='coerce')"
   ]
  },
  {
   "cell_type": "code",
   "execution_count": null,
   "id": "fb919b88-18b1-4d87-b19c-ba2ae284bfab",
   "metadata": {},
   "outputs": [],
   "source": []
  },
  {
   "cell_type": "code",
   "execution_count": 42,
   "id": "d7bece7e-77be-4a3f-a10c-d8c4374a465f",
   "metadata": {},
   "outputs": [],
   "source": [
    "#Now first we impute missing values"
   ]
  },
  {
   "cell_type": "code",
   "execution_count": 43,
   "id": "43999021-a17b-496a-94d1-0767441f4607",
   "metadata": {},
   "outputs": [
    {
     "data": {
      "text/plain": [
       "Make                   0\n",
       "Kilometer              0\n",
       "Fuel Type              0\n",
       "Transmission           0\n",
       "Location               0\n",
       "Owner                  0\n",
       "Seller Type            0\n",
       "Engine                66\n",
       "Max Power             66\n",
       "Seating Capacity      52\n",
       "Fuel Tank Capacity    92\n",
       "Car Age                0\n",
       "dtype: int64"
      ]
     },
     "execution_count": 43,
     "metadata": {},
     "output_type": "execute_result"
    }
   ],
   "source": [
    "x_train.isnull().sum()"
   ]
  },
  {
   "cell_type": "code",
   "execution_count": 44,
   "id": "23db2c6a-c6a0-4f24-ab27-cc79b931c0ea",
   "metadata": {},
   "outputs": [
    {
     "data": {
      "text/plain": [
       "Make                   0\n",
       "Kilometer              0\n",
       "Fuel Type              0\n",
       "Transmission           0\n",
       "Location               0\n",
       "Owner                  0\n",
       "Seller Type            0\n",
       "Engine                14\n",
       "Max Power             14\n",
       "Seating Capacity      12\n",
       "Fuel Tank Capacity    21\n",
       "Car Age                0\n",
       "dtype: int64"
      ]
     },
     "execution_count": 44,
     "metadata": {},
     "output_type": "execute_result"
    }
   ],
   "source": [
    "x_test.isnull().sum()"
   ]
  },
  {
   "cell_type": "code",
   "execution_count": 45,
   "id": "2d44dece-fff1-462d-a99d-87be1213d9a0",
   "metadata": {},
   "outputs": [
    {
     "data": {
      "text/plain": [
       "Price    0\n",
       "dtype: int64"
      ]
     },
     "execution_count": 45,
     "metadata": {},
     "output_type": "execute_result"
    }
   ],
   "source": [
    "y_train.isnull().sum()"
   ]
  },
  {
   "cell_type": "code",
   "execution_count": 46,
   "id": "7ed56c35-068d-454e-bea5-c033aa52f37f",
   "metadata": {},
   "outputs": [
    {
     "data": {
      "text/plain": [
       "Price    0\n",
       "dtype: int64"
      ]
     },
     "execution_count": 46,
     "metadata": {},
     "output_type": "execute_result"
    }
   ],
   "source": [
    "y_test.isnull().sum()"
   ]
  },
  {
   "cell_type": "code",
   "execution_count": 47,
   "id": "f1456bfc-b575-4851-a773-f650b5c42e96",
   "metadata": {},
   "outputs": [
    {
     "data": {
      "image/png": "[encoded data removed]",
      "text/plain": [
       "<Figure size 1500x500 with 5 Axes>"
      ]
     },
     "metadata": {},
     "output_type": "display_data"
    }
   ],
   "source": [
    "fig, axs = plt.subplots(nrows=1, ncols=5, figsize=(15, 5))\n",
    "\n",
    "#Kilometer\n",
    "sns.boxplot(x_train['Kilometer'],ax=axs[0])\n",
    "axs[0].set_title('Kilometer')\n",
    "\n",
    "#Engine\n",
    "sns.boxplot(x_train['Engine'],ax=axs[1])\n",
    "axs[1].set_title('Engine')\n",
    "\n",
    "#Max Power\n",
    "sns.boxplot(x_train['Max Power'],ax=axs[2])\n",
    "axs[2].set_title('Max Power')\n",
    "\n",
    "#Seating Capacity\n",
    "sns.boxplot(x_train['Seating Capacity'],ax=axs[3],color='green')\n",
    "axs[3].set_title('Seating Capacity')\n",
    "\n",
    "#Fuel Tank Capacity\n",
    "sns.boxplot(x_train[\"Fuel Tank Capacity\"],ax=axs[4],color='lightgreen')\n",
    "axs[4].set_title(\"Fuel Tank Capacity\")\n",
    "\n",
    "plt.tight_layout()\n",
    "plt.show()"
   ]
  },
  {
   "cell_type": "code",
   "execution_count": 48,
   "id": "fa997e32-dbcd-4ddb-8e9a-45573abf93a6",
   "metadata": {},
   "outputs": [],
   "source": [
    "#1.Engine"
   ]
  },
  {
   "cell_type": "code",
   "execution_count": 49,
   "id": "11865c6b-1f69-4175-a5e5-bdec7d3ce6ed",
   "metadata": {},
   "outputs": [],
   "source": [
    "x_train[\"Engine\"]=x_train[\"Engine\"].fillna(x_train[\"Engine\"].median())\n",
    "x_test[\"Engine\"]=x_test[\"Engine\"].fillna(x_test[\"Engine\"].median())"
   ]
  },
  {
   "cell_type": "code",
   "execution_count": 50,
   "id": "3d77bade-6679-4f0c-862d-e0915c81fb82",
   "metadata": {},
   "outputs": [],
   "source": [
    "#2.Max Power"
   ]
  },
  {
   "cell_type": "code",
   "execution_count": 51,
   "id": "4d13b2d3-5207-4e03-bd47-9d01baf85e01",
   "metadata": {},
   "outputs": [],
   "source": [
    "x_train[\"Max Power\"]=x_train[\"Max Power\"].fillna(x_train[\"Max Power\"].median())\n",
    "x_test[\"Max Power\"]=x_test[\"Max Power\"].fillna(x_test[\"Max Power\"].median())"
   ]
  },
  {
   "cell_type": "code",
   "execution_count": 52,
   "id": "c0fa1771-380b-4c4a-badb-e7a67aba11f9",
   "metadata": {},
   "outputs": [],
   "source": [
    "#3.Seating Capacity"
   ]
  },
  {
   "cell_type": "code",
   "execution_count": 53,
   "id": "95d931e6-fe30-4c54-89fd-c10345d84866",
   "metadata": {},
   "outputs": [
    {
     "data": {
      "text/plain": [
       "Seating Capacity\n",
       "5.0    1293\n",
       "7.0     214\n",
       "8.0      31\n",
       "4.0      30\n",
       "6.0      21\n",
       "2.0       6\n",
       "Name: count, dtype: int64"
      ]
     },
     "execution_count": 53,
     "metadata": {},
     "output_type": "execute_result"
    }
   ],
   "source": [
    "x_train[\"Seating Capacity\"].value_counts()"
   ]
  },
  {
   "cell_type": "code",
   "execution_count": 54,
   "id": "b2e0148c-f2c3-424d-8594-27f1bb3896c5",
   "metadata": {},
   "outputs": [],
   "source": [
    "x_train[\"Seating Capacity\"]=x_train[\"Seating Capacity\"].fillna(x_train[\"Seating Capacity\"].mode()[0])\n",
    "x_test[\"Seating Capacity\"]=x_test[\"Seating Capacity\"].fillna(x_test[\"Seating Capacity\"].mode()[0])"
   ]
  },
  {
   "cell_type": "code",
   "execution_count": 55,
   "id": "17936158-ddf3-41ee-b458-8e592a8d7a87",
   "metadata": {},
   "outputs": [],
   "source": [
    "#4.Fuel Tank Capacity"
   ]
  },
  {
   "cell_type": "code",
   "execution_count": 56,
   "id": "fe1ab943-6a40-4202-8213-070ad1954fc6",
   "metadata": {},
   "outputs": [],
   "source": [
    "x_train['Fuel Tank Capacity']=x_train['Fuel Tank Capacity'].fillna(x_train['Fuel Tank Capacity'].median())\n",
    "x_test['Fuel Tank Capacity']=x_test['Fuel Tank Capacity'].fillna(x_test['Fuel Tank Capacity'].median())"
   ]
  },
  {
   "cell_type": "code",
   "execution_count": 57,
   "id": "af32cea5-2726-49ee-a7ff-4d476e648e7b",
   "metadata": {},
   "outputs": [
    {
     "data": {
      "text/plain": [
       "Make                  0\n",
       "Kilometer             0\n",
       "Fuel Type             0\n",
       "Transmission          0\n",
       "Location              0\n",
       "Owner                 0\n",
       "Seller Type           0\n",
       "Engine                0\n",
       "Max Power             0\n",
       "Seating Capacity      0\n",
       "Fuel Tank Capacity    0\n",
       "Car Age               0\n",
       "dtype: int64"
      ]
     },
     "execution_count": 57,
     "metadata": {},
     "output_type": "execute_result"
    }
   ],
   "source": [
    "x_train.isnull().sum()"
   ]
  },
  {
   "cell_type": "code",
   "execution_count": 58,
   "id": "7ed4973f-d348-4bcc-a3bb-704d37e9093d",
   "metadata": {
    "scrolled": true
   },
   "outputs": [
    {
     "data": {
      "text/plain": [
       "Make                  0\n",
       "Kilometer             0\n",
       "Fuel Type             0\n",
       "Transmission          0\n",
       "Location              0\n",
       "Owner                 0\n",
       "Seller Type           0\n",
       "Engine                0\n",
       "Max Power             0\n",
       "Seating Capacity      0\n",
       "Fuel Tank Capacity    0\n",
       "Car Age               0\n",
       "dtype: int64"
      ]
     },
     "execution_count": 58,
     "metadata": {},
     "output_type": "execute_result"
    }
   ],
   "source": [
    "x_test.isnull().sum()"
   ]
  },
  {
   "cell_type": "code",
   "execution_count": 59,
   "id": "5592f70f-9ccb-4fb7-903d-3a82126e0747",
   "metadata": {},
   "outputs": [],
   "source": [
    "# Outliers detection"
   ]
  },
  {
   "cell_type": "code",
   "execution_count": 60,
   "id": "0a6a22da-829e-44dc-93ce-9da8091bcdf0",
   "metadata": {},
   "outputs": [],
   "source": [
    "def outliers_detection(data):\n",
    "    Q1=data.quantile(0.25)\n",
    "    Q3=data.quantile(0.75)\n",
    "    IQR=Q3-Q1\n",
    "    Lower=Q1-IQR*1.5\n",
    "    Upper=Q3+IQR*1.5\n",
    "    if Lower < 0:\n",
    "        Lower=0\n",
    "    return Lower,Upper"
   ]
  },
  {
   "cell_type": "code",
   "execution_count": 61,
   "id": "1eb11429-c23b-4e63-9c83-680b4d72e110",
   "metadata": {
    "scrolled": true
   },
   "outputs": [
    {
     "name": "stdout",
     "output_type": "stream",
     "text": [
      "Lower Limit=0\n",
      "Upper Limit=136044.75\n"
     ]
    }
   ],
   "source": [
    "Kilometer_Lower,Kilometer_Upper =outliers_detection(x_train[\"Kilometer\"])\n",
    "print(f'Lower Limit={Kilometer_Lower}')\n",
    "print(f'Upper Limit={Kilometer_Upper}')"
   ]
  },
  {
   "cell_type": "code",
   "execution_count": 62,
   "id": "74313805-2d84-4cb4-bb45-ce20ebbff5bf",
   "metadata": {},
   "outputs": [
    {
     "name": "stdout",
     "output_type": "stream",
     "text": [
      "Outliers in train data = 31\n",
      "Outliers in test data = 5\n"
     ]
    }
   ],
   "source": [
    "Kilometer_train = x_train[(x_train['Kilometer']< Kilometer_Lower) |( x_train['Kilometer']> Kilometer_Upper)] \n",
    "Kilometer_test = x_test[(x_test['Kilometer']< Kilometer_Lower) |( x_test['Kilometer']> Kilometer_Upper)] \n",
    "print(f'Outliers in train data = {Kilometer_train.shape[0]}')\n",
    "print(f'Outliers in test data = {Kilometer_test.shape[0]}')"
   ]
  },
  {
   "cell_type": "code",
   "execution_count": 63,
   "id": "d37776a1-54b5-4af8-bbb8-d778a747b0a6",
   "metadata": {},
   "outputs": [
    {
     "name": "stdout",
     "output_type": "stream",
     "text": [
      "Lower Limit = 2.5\n",
      "Upper Limit = 3190.5\n"
     ]
    }
   ],
   "source": [
    "Engine_lower , Engine_upper = outliers_detection(x_train['Engine'])\n",
    "print(f'Lower Limit = {Engine_lower}')\n",
    "print(f'Upper Limit = {Engine_upper}')"
   ]
  },
  {
   "cell_type": "code",
   "execution_count": 64,
   "id": "8ffd5444-bf49-416b-825f-bbc74fd28fe4",
   "metadata": {},
   "outputs": [
    {
     "name": "stdout",
     "output_type": "stream",
     "text": [
      "Outliers in train data = 22\n",
      "Outliers in test data = 3\n"
     ]
    }
   ],
   "source": [
    "Engine_train = x_train[(x_train['Engine']< Engine_lower) |( x_train['Engine']> Engine_upper)] \n",
    "Engine_test = x_test[(x_test['Engine']< Engine_lower) |( x_test['Engine']> Engine_upper)] \n",
    "print(f'Outliers in train data = {Engine_train.shape[0]}')\n",
    "print(f'Outliers in test data = {Engine_test.shape[0]}')"
   ]
  },
  {
   "cell_type": "code",
   "execution_count": 65,
   "id": "afaa2504-5b91-4190-9b6a-4fbd8928c8a5",
   "metadata": {},
   "outputs": [
    {
     "name": "stdout",
     "output_type": "stream",
     "text": [
      "Lower Limit = 0\n",
      "Upper Limit = 298.0\n"
     ]
    }
   ],
   "source": [
    "Max_Power_lower , Max_Power_upper = outliers_detection(x_train['Max Power'])\n",
    "print(f'Lower Limit = {Max_Power_lower}')\n",
    "print(f'Upper Limit = {Max_Power_upper}')"
   ]
  },
  {
   "cell_type": "code",
   "execution_count": 66,
   "id": "a1178318-0b82-45cf-84e3-856b76f6a816",
   "metadata": {},
   "outputs": [
    {
     "name": "stdout",
     "output_type": "stream",
     "text": [
      "Outliers in Train data =23\n",
      "Outliers in Test data =8\n"
     ]
    }
   ],
   "source": [
    "Max_Power_train=x_train[(x_train[\"Max Power\"]< Max_Power_lower) | (x_train[\"Max Power\"] > Max_Power_upper)]\n",
    "Max_Power_test=x_test[(x_test[\"Max Power\"] < Max_Power_lower) |(x_test[\"Max Power\"] > Max_Power_upper)]\n",
    "print(f'Outliers in Train data ={Max_Power_train.shape[0]}')\n",
    "print(f'Outliers in Test data ={Max_Power_test.shape[0]}')"
   ]
  },
  {
   "cell_type": "code",
   "execution_count": 67,
   "id": "f47be162-75a5-403f-bc7e-a33781206243",
   "metadata": {},
   "outputs": [
    {
     "name": "stdout",
     "output_type": "stream",
     "text": [
      "Lower Limit = 5.0\n",
      "Upper Limit = 5.0\n"
     ]
    }
   ],
   "source": [
    "Seating_Capacity_lower , Seating_Capacity_upper = outliers_detection(x_train['Seating Capacity'])\n",
    "print(f'Lower Limit = {Seating_Capacity_lower}')\n",
    "print(f'Upper Limit = {Seating_Capacity_upper}')"
   ]
  },
  {
   "cell_type": "code",
   "execution_count": 68,
   "id": "5ce43d5b-0321-4a72-a3e1-2248d2cd5b43",
   "metadata": {},
   "outputs": [
    {
     "name": "stdout",
     "output_type": "stream",
     "text": [
      "Outliers in Train data =302\n",
      "Outliers in Test data =78\n"
     ]
    }
   ],
   "source": [
    "Seating_Capacity_train=x_train[(x_train[\"Seating Capacity\"]< Seating_Capacity_lower) | (x_train[\"Seating Capacity\"] > Seating_Capacity_upper)]\n",
    "Seating_Capacity_test=x_test[(x_test[\"Seating Capacity\"] < Seating_Capacity_lower) |(x_test[\"Seating Capacity\"] > Seating_Capacity_upper)]\n",
    "print(f'Outliers in Train data ={Seating_Capacity_train.shape[0]}')\n",
    "print(f'Outliers in Test data ={Seating_Capacity_test.shape[0]}')"
   ]
  },
  {
   "cell_type": "code",
   "execution_count": 69,
   "id": "168a2855-2e7a-46b3-b10a-9f5508398382",
   "metadata": {},
   "outputs": [
    {
     "data": {
      "image/png": "[encoded data removed]",
      "text/plain": [
       "<Figure size 1500x500 with 5 Axes>"
      ]
     },
     "metadata": {},
     "output_type": "display_data"
    }
   ],
   "source": [
    "fig, axs = plt.subplots(nrows=1, ncols=5, figsize=(15, 5))\n",
    "\n",
    "#Kilometer\n",
    "sns.boxplot(x_train['Kilometer'],ax=axs[0])\n",
    "axs[0].set_title('Kilometer')\n",
    "\n",
    "#Engine\n",
    "sns.boxplot(x_train['Engine'],ax=axs[1])\n",
    "axs[1].set_title('Engine')\n",
    "\n",
    "#Max Power\n",
    "sns.boxplot(x_train['Max Power'],ax=axs[2])\n",
    "axs[2].set_title('Max Power')\n",
    "\n",
    "#Seating Capacity\n",
    "sns.boxplot(x_train['Seating Capacity'],ax=axs[3],color='green')\n",
    "axs[3].set_title('Seating Capacity')\n",
    "\n",
    "#Fuel Tank Capacity\n",
    "sns.boxplot(x_train[\"Fuel Tank Capacity\"],ax=axs[4],color='lightgreen')\n",
    "axs[4].set_title(\"Fuel Tank Capacity\")\n",
    "\n",
    "plt.tight_layout()\n",
    "plt.show()"
   ]
  },
  {
   "cell_type": "code",
   "execution_count": 70,
   "id": "8ebae9bc-b933-43aa-ac62-be8420dc7344",
   "metadata": {},
   "outputs": [],
   "source": [
    "#cap Kilometer\n",
    "x_train['Kilometer']=x_train['Kilometer'].clip(lower=Kilometer_Lower,upper=Kilometer_Upper)\n",
    "x_test['Kilometer']=x_test['Kilometer'].clip(lower=Kilometer_Lower,upper=Kilometer_Upper)"
   ]
  },
  {
   "cell_type": "code",
   "execution_count": 71,
   "id": "39756289-259b-4cc0-b271-9642c118356f",
   "metadata": {},
   "outputs": [],
   "source": [
    "#cap Engine\n",
    "x_train[\"Engine\"]=x_train[\"Engine\"].clip(lower=Engine_lower,upper=Engine_upper)\n",
    "x_test[\"Engine\"]=x_test[\"Engine\"].clip(lower=Engine_lower,upper=Engine_upper)"
   ]
  },
  {
   "cell_type": "code",
   "execution_count": 72,
   "id": "1f29f4dd-7957-4b6e-b1f2-94cc5ee56ae9",
   "metadata": {},
   "outputs": [],
   "source": [
    "#cap Max Power\n",
    "x_train[\"Max Power\"]=x_train[\"Max Power\"].clip(lower=Max_Power_lower,upper=Max_Power_upper)\n",
    "x_test[\"Max Power\"]=x_test[\"Max Power\"].clip(lower=Max_Power_lower,upper=Max_Power_upper)"
   ]
  },
  {
   "cell_type": "code",
   "execution_count": 73,
   "id": "bc4bc2fc-ee71-47f1-ba3c-f1ea31e29161",
   "metadata": {},
   "outputs": [],
   "source": [
    "#cap Fuel Tank Capacity\n",
    "x_train[\"Seating Capacity\"]=x_train[\"Seating Capacity\"].clip(lower=Seating_Capacity_lower,upper=Seating_Capacity_upper)\n",
    "x_test[\"Seating Capacity\"]=x_test[\"Seating Capacity\"].clip(lower=Seating_Capacity_lower,upper=Seating_Capacity_upper)"
   ]
  },
  {
   "cell_type": "code",
   "execution_count": 74,
   "id": "f7e46fbb-3bc6-4db7-ad33-8e0c633535d7",
   "metadata": {},
   "outputs": [
    {
     "name": "stdout",
     "output_type": "stream",
     "text": [
      "<class 'pandas.core.frame.DataFrame'>\n",
      "Index: 1647 entries, 817 to 1289\n",
      "Data columns (total 12 columns):\n",
      " #   Column              Non-Null Count  Dtype  \n",
      "---  ------              --------------  -----  \n",
      " 0   Make                1647 non-null   object \n",
      " 1   Kilometer           1647 non-null   float64\n",
      " 2   Fuel Type           1647 non-null   object \n",
      " 3   Transmission        1647 non-null   object \n",
      " 4   Location            1647 non-null   object \n",
      " 5   Owner               1647 non-null   object \n",
      " 6   Seller Type         1647 non-null   object \n",
      " 7   Engine              1647 non-null   float64\n",
      " 8   Max Power           1647 non-null   float64\n",
      " 9   Seating Capacity    1647 non-null   float64\n",
      " 10  Fuel Tank Capacity  1647 non-null   float64\n",
      " 11  Car Age             1647 non-null   int64  \n",
      "dtypes: float64(5), int64(1), object(6)\n",
      "memory usage: 167.3+ KB\n"
     ]
    }
   ],
   "source": [
    "x_train.info()"
   ]
  },
  {
   "cell_type": "code",
   "execution_count": 75,
   "id": "c1f0d9cc-d4ef-4a0e-b780-1cf8f78e3e34",
   "metadata": {},
   "outputs": [],
   "source": [
    "#Price"
   ]
  },
  {
   "cell_type": "code",
   "execution_count": 76,
   "id": "ba4522c7-e760-4565-bb16-550322acb058",
   "metadata": {},
   "outputs": [
    {
     "data": {
      "text/plain": [
       "Text(0.5, 1.0, 'Test data price')"
      ]
     },
     "execution_count": 76,
     "metadata": {},
     "output_type": "execute_result"
    },
    {
     "data": {
      "image/png": "[encoded data removed]",
      "text/plain": [
       "<Figure size 1400x400 with 2 Axes>"
      ]
     },
     "metadata": {},
     "output_type": "display_data"
    }
   ],
   "source": [
    "fig,axs=plt.subplots(nrows=1,ncols=2,figsize=(14,4))\n",
    "\n",
    "sns.boxplot(x=\"Price\",data=y_train, ax=axs[0] , color=\"lightgreen\")\n",
    "axs[0].set_title('Train data price')\n",
    "\n",
    "sns.boxplot(x=\"Price\",data=y_test,ax=axs[1],color=\"blue\")\n",
    "axs[1].set_title('Test data price')"
   ]
  },
  {
   "cell_type": "code",
   "execution_count": 77,
   "id": "a8b17378-172a-4303-9817-f2c63a241b25",
   "metadata": {},
   "outputs": [
    {
     "name": "stdout",
     "output_type": "stream",
     "text": [
      "Lower Limit :0\n",
      "Upper Limit:3912499.5\n"
     ]
    }
   ],
   "source": [
    "Price_lower , Price_upper = outliers_detection(y_train['Price'])\n",
    "print(f'Lower Limit :{Price_lower}')\n",
    "print(f'Upper Limit:{Price_upper}')"
   ]
  },
  {
   "cell_type": "code",
   "execution_count": 78,
   "id": "3c4ecb97-30a1-4057-8e6c-d4125f65c225",
   "metadata": {},
   "outputs": [
    {
     "name": "stdout",
     "output_type": "stream",
     "text": [
      "Outliers in train data = 180\n",
      "Outliers in test data = 44\n"
     ]
    }
   ],
   "source": [
    "price_train=y_train[(y_train['Price']<Price_lower) | (y_train[\"Price\"]>Price_upper)]\n",
    "price_test=y_test[(y_test['Price']<Price_lower) | (y_test[\"Price\"]>Price_upper)]\n",
    "print(f'Outliers in train data = {price_train.shape[0]}')\n",
    "print(f'Outliers in test data = {price_test.shape[0]}')"
   ]
  },
  {
   "cell_type": "code",
   "execution_count": 79,
   "id": "c829efea-b6a8-405f-a41f-594f5de69c0e",
   "metadata": {},
   "outputs": [
    {
     "data": {
      "text/plain": [
       "<Axes: xlabel='Price', ylabel='Density'>"
      ]
     },
     "execution_count": 79,
     "metadata": {},
     "output_type": "execute_result"
    },
    {
     "data": {
      "image/png": "[encoded data removed]",
      "text/plain": [
       "<Figure size 1800x400 with 4 Axes>"
      ]
     },
     "metadata": {},
     "output_type": "display_data"
    }
   ],
   "source": [
    "fig,axs = plt.subplots(nrows=1,ncols=4,figsize=(18,4))\n",
    "\n",
    "sns.kdeplot(y_train[\"Price\"],ax=axs[0])\n",
    "sns.kdeplot(y_train[\"Price\"].clip(Price_lower,Price_upper),ax=axs[1])\n",
    "sns.kdeplot(np.log(y_train[\"Price\"]),ax=axs[2])\n",
    "sns.kdeplot(np.log1p(y_train[\"Price\"]),ax=axs[3])\n",
    "\n"
   ]
  },
  {
   "cell_type": "code",
   "execution_count": 80,
   "id": "8200c3cc-f202-4f2c-b4d3-8abb3019a8a0",
   "metadata": {},
   "outputs": [
    {
     "data": {
      "image/png": "[encoded data removed]",
      "text/plain": [
       "<Figure size 1800x400 with 4 Axes>"
      ]
     },
     "metadata": {},
     "output_type": "display_data"
    }
   ],
   "source": [
    "fig,axs = plt.subplots(nrows=1,ncols=4,figsize=(18,4))\n",
    "\n",
    "sns.kdeplot(y_train['Price'],ax=axs[0])\n",
    "sns.kdeplot(y_train['Price'].clip(Price_lower,Price_upper),ax=axs[1])\n",
    "sns.kdeplot(np.log(y_train['Price']),ax=axs[2])\n",
    "sns.kdeplot(np.log1p(y_train['Price']),ax=axs[3])\n",
    "\n",
    "for ax in axs:\n",
    "    ax.tick_params(axis='x', rotation=30)"
   ]
  },
  {
   "cell_type": "code",
   "execution_count": 81,
   "id": "3b35b512-fab1-4434-896e-9a130905d178",
   "metadata": {},
   "outputs": [],
   "source": [
    "#Since Salary can contains zero we use 'np.log1p(x)' instead of 'np.log(x)'"
   ]
  },
  {
   "cell_type": "code",
   "execution_count": 82,
   "id": "8ca2d6fa-a34c-48b7-91c0-004c8f6e5011",
   "metadata": {},
   "outputs": [],
   "source": [
    "y_train[\"Log_Price\"]=np.log1p(y_train[\"Price\"])\n",
    "y_test[\"Log_Price\"]=np.log1p(y_test[\"Price\"])"
   ]
  },
  {
   "cell_type": "code",
   "execution_count": 83,
   "id": "54d929b8-f414-460b-a4a8-82f0a9461359",
   "metadata": {},
   "outputs": [
    {
     "data": {
      "text/plain": [
       "Text(0.5, 1.0, 'Test Data price')"
      ]
     },
     "execution_count": 83,
     "metadata": {},
     "output_type": "execute_result"
    },
    {
     "data": {
      "image/png": "[encoded data removed]",
      "text/plain": [
       "<Figure size 1800x400 with 2 Axes>"
      ]
     },
     "metadata": {},
     "output_type": "display_data"
    }
   ],
   "source": [
    "fig,axs = plt.subplots(nrows=1,ncols=2,figsize=(18,4))\n",
    "\n",
    "sns.boxplot(x='Log_Price',data=y_train,ax=axs[0],color=\"Lightgreen\")\n",
    "axs[0].set_title('Train Data price')\n",
    "\n",
    "sns.boxplot(x='Log_Price',data=y_test,ax=axs[1],color=\"Blue\")\n",
    "axs[1].set_title('Test Data price')"
   ]
  },
  {
   "cell_type": "code",
   "execution_count": 84,
   "id": "95f8fae9-ba20-46b3-887c-83e49cf49902",
   "metadata": {},
   "outputs": [
    {
     "name": "stdout",
     "output_type": "stream",
     "text": [
      "Lower Limit :11.090482339534628\n",
      "Upper Limit :16.44128527520319\n"
     ]
    }
   ],
   "source": [
    "Log_Price_lower,Log_Price_upper =outliers_detection(y_train[\"Log_Price\"])\n",
    "print(f'Lower Limit :{Log_Price_lower}')\n",
    "print(f'Upper Limit :{Log_Price_upper}')"
   ]
  },
  {
   "cell_type": "code",
   "execution_count": 85,
   "id": "fa24c421-1d16-4e6c-9afe-a667c66430a6",
   "metadata": {},
   "outputs": [
    {
     "name": "stdout",
     "output_type": "stream",
     "text": [
      "Outliers in train data = 8\n",
      "Outliers in test data = 2\n"
     ]
    }
   ],
   "source": [
    "Log_Price_train=y_train[(y_train[\"Log_Price\"] < Log_Price_lower) | (y_train[\"Log_Price\"] > Log_Price_upper)]\n",
    "Log_Price_test=y_test[(y_test[\"Log_Price\"] < Log_Price_lower) | (y_test[\"Log_Price\"] > Log_Price_upper)]\n",
    "print(f'Outliers in train data = {Log_Price_train.shape[0]}')\n",
    "print(f'Outliers in test data = {Log_Price_test.shape[1]}')"
   ]
  },
  {
   "cell_type": "markdown",
   "id": "020b0ee4-b608-4ff7-9e94-7867bd1f62f3",
   "metadata": {},
   "source": [
    "Not necessarily. More \"outliers\" on the log scale:\n",
    "\n",
    "Does not mean your data is bad.\n",
    "It just means more values are now far from the log-median.\n",
    "Many ML models (especially Linear Regression) handle log-scale outliers better than skewed raw values."
   ]
  },
  {
   "cell_type": "code",
   "execution_count": 86,
   "id": "5df8a929-bb03-4172-96e0-a5649c81c89a",
   "metadata": {},
   "outputs": [],
   "source": [
    "#Encoding"
   ]
  },
  {
   "cell_type": "code",
   "execution_count": 87,
   "id": "84e9e8cd-3243-4190-8eed-b593fa7a6270",
   "metadata": {},
   "outputs": [],
   "source": [
    "from sklearn.preprocessing import OneHotEncoder,OrdinalEncoder"
   ]
  },
  {
   "cell_type": "code",
   "execution_count": 88,
   "id": "f628b80d-8939-43da-bbb4-ee1d6eefc597",
   "metadata": {},
   "outputs": [
    {
     "data": {
      "text/html": [
       "<div>\n",
       "<style scoped>\n",
       "    .dataframe tbody tr th:only-of-type {\n",
       "        vertical-align: middle;\n",
       "    }\n",
       "\n",
       "    .dataframe tbody tr th {\n",
       "        vertical-align: top;\n",
       "    }\n",
       "\n",
       "    .dataframe thead th {\n",
       "        text-align: right;\n",
       "    }\n",
       "</style>\n",
       "<table border=\"1\" class=\"dataframe\">\n",
       "  <thead>\n",
       "    <tr style=\"text-align: right;\">\n",
       "      <th></th>\n",
       "      <th>Make</th>\n",
       "      <th>Kilometer</th>\n",
       "      <th>Fuel Type</th>\n",
       "      <th>Transmission</th>\n",
       "      <th>Location</th>\n",
       "      <th>Owner</th>\n",
       "      <th>Seller Type</th>\n",
       "      <th>Engine</th>\n",
       "      <th>Max Power</th>\n",
       "      <th>Seating Capacity</th>\n",
       "      <th>Fuel Tank Capacity</th>\n",
       "      <th>Car Age</th>\n",
       "    </tr>\n",
       "  </thead>\n",
       "  <tbody>\n",
       "    <tr>\n",
       "      <th>817</th>\n",
       "      <td>Hyundai</td>\n",
       "      <td>95610.0</td>\n",
       "      <td>Diesel</td>\n",
       "      <td>Manual</td>\n",
       "      <td>Rudrapur</td>\n",
       "      <td>Second</td>\n",
       "      <td>Individual</td>\n",
       "      <td>1336.0</td>\n",
       "      <td>89.0</td>\n",
       "      <td>5.0</td>\n",
       "      <td>45.0</td>\n",
       "      <td>12</td>\n",
       "    </tr>\n",
       "    <tr>\n",
       "      <th>507</th>\n",
       "      <td>Kia</td>\n",
       "      <td>14000.0</td>\n",
       "      <td>Petrol</td>\n",
       "      <td>Manual</td>\n",
       "      <td>Delhi</td>\n",
       "      <td>First</td>\n",
       "      <td>Individual</td>\n",
       "      <td>1497.0</td>\n",
       "      <td>114.0</td>\n",
       "      <td>5.0</td>\n",
       "      <td>50.0</td>\n",
       "      <td>4</td>\n",
       "    </tr>\n",
       "    <tr>\n",
       "      <th>1794</th>\n",
       "      <td>Mercedes-Benz</td>\n",
       "      <td>12500.0</td>\n",
       "      <td>Diesel</td>\n",
       "      <td>Automatic</td>\n",
       "      <td>Hyderabad</td>\n",
       "      <td>UnRegistered Car</td>\n",
       "      <td>Individual</td>\n",
       "      <td>2148.0</td>\n",
       "      <td>170.0</td>\n",
       "      <td>5.0</td>\n",
       "      <td>66.0</td>\n",
       "      <td>3</td>\n",
       "    </tr>\n",
       "    <tr>\n",
       "      <th>452</th>\n",
       "      <td>Jaguar</td>\n",
       "      <td>43000.0</td>\n",
       "      <td>Diesel</td>\n",
       "      <td>Automatic</td>\n",
       "      <td>Delhi</td>\n",
       "      <td>First</td>\n",
       "      <td>Individual</td>\n",
       "      <td>1999.0</td>\n",
       "      <td>177.0</td>\n",
       "      <td>5.0</td>\n",
       "      <td>82.0</td>\n",
       "      <td>6</td>\n",
       "    </tr>\n",
       "    <tr>\n",
       "      <th>1148</th>\n",
       "      <td>Mercedes-Benz</td>\n",
       "      <td>81000.0</td>\n",
       "      <td>Diesel</td>\n",
       "      <td>Automatic</td>\n",
       "      <td>Ahmedabad</td>\n",
       "      <td>First</td>\n",
       "      <td>Individual</td>\n",
       "      <td>2987.0</td>\n",
       "      <td>234.0</td>\n",
       "      <td>5.0</td>\n",
       "      <td>95.0</td>\n",
       "      <td>11</td>\n",
       "    </tr>\n",
       "  </tbody>\n",
       "</table>\n",
       "</div>"
      ],
      "text/plain": [
       "               Make  Kilometer Fuel Type Transmission   Location  \\\n",
       "817         Hyundai    95610.0    Diesel       Manual   Rudrapur   \n",
       "507             Kia    14000.0    Petrol       Manual      Delhi   \n",
       "1794  Mercedes-Benz    12500.0    Diesel    Automatic  Hyderabad   \n",
       "452          Jaguar    43000.0    Diesel    Automatic      Delhi   \n",
       "1148  Mercedes-Benz    81000.0    Diesel    Automatic  Ahmedabad   \n",
       "\n",
       "                 Owner Seller Type  Engine  Max Power  Seating Capacity  \\\n",
       "817             Second  Individual  1336.0       89.0               5.0   \n",
       "507              First  Individual  1497.0      114.0               5.0   \n",
       "1794  UnRegistered Car  Individual  2148.0      170.0               5.0   \n",
       "452              First  Individual  1999.0      177.0               5.0   \n",
       "1148             First  Individual  2987.0      234.0               5.0   \n",
       "\n",
       "      Fuel Tank Capacity  Car Age  \n",
       "817                 45.0       12  \n",
       "507                 50.0        4  \n",
       "1794                66.0        3  \n",
       "452                 82.0        6  \n",
       "1148                95.0       11  "
      ]
     },
     "execution_count": 88,
     "metadata": {},
     "output_type": "execute_result"
    }
   ],
   "source": [
    "x_train.head()"
   ]
  },
  {
   "cell_type": "code",
   "execution_count": 89,
   "id": "a1100276-ac44-4bfc-a4c9-d375f5337b44",
   "metadata": {},
   "outputs": [],
   "source": [
    "Categorical_columns = ['Make','Fuel Type','Transmission','Location','Seller Type']\n",
    "OHE = OneHotEncoder(sparse_output=False,drop='first',handle_unknown='ignore')                  # Here we have drop='first' to avoid dummy variable trap but here we will not do later w'll drop \n",
    "Categorical_Encoded_train = OHE.fit_transform(x_train[Categorical_columns]).astype(int)\n",
    "Categorical_Encoded_train_names = OHE.get_feature_names_out(Categorical_columns)\n",
    "Encoded_cat_DF_train = pd.DataFrame(Categorical_Encoded_train, columns = Categorical_Encoded_train_names , index=x_train.index)"
   ]
  },
  {
   "cell_type": "code",
   "execution_count": 90,
   "id": "a5b2bd74-978c-444c-97c2-0afa2c315311",
   "metadata": {},
   "outputs": [
    {
     "data": {
      "text/html": [
       "<div>\n",
       "<style scoped>\n",
       "    .dataframe tbody tr th:only-of-type {\n",
       "        vertical-align: middle;\n",
       "    }\n",
       "\n",
       "    .dataframe tbody tr th {\n",
       "        vertical-align: top;\n",
       "    }\n",
       "\n",
       "    .dataframe thead th {\n",
       "        text-align: right;\n",
       "    }\n",
       "</style>\n",
       "<table border=\"1\" class=\"dataframe\">\n",
       "  <thead>\n",
       "    <tr style=\"text-align: right;\">\n",
       "      <th></th>\n",
       "      <th>Make_BMW</th>\n",
       "      <th>Make_Chevrolet</th>\n",
       "      <th>Make_Datsun</th>\n",
       "      <th>Make_Ferrari</th>\n",
       "      <th>Make_Fiat</th>\n",
       "      <th>Make_Ford</th>\n",
       "      <th>Make_Honda</th>\n",
       "      <th>Make_Hyundai</th>\n",
       "      <th>Make_Isuzu</th>\n",
       "      <th>Make_Jaguar</th>\n",
       "      <th>...</th>\n",
       "      <th>Location_Udupi</th>\n",
       "      <th>Location_Unnao</th>\n",
       "      <th>Location_Vadodara</th>\n",
       "      <th>Location_Valsad</th>\n",
       "      <th>Location_Varanasi</th>\n",
       "      <th>Location_Warangal</th>\n",
       "      <th>Location_Yamunanagar</th>\n",
       "      <th>Location_Zirakpur</th>\n",
       "      <th>Seller Type_Corporate</th>\n",
       "      <th>Seller Type_Individual</th>\n",
       "    </tr>\n",
       "  </thead>\n",
       "  <tbody>\n",
       "    <tr>\n",
       "      <th>817</th>\n",
       "      <td>0</td>\n",
       "      <td>0</td>\n",
       "      <td>0</td>\n",
       "      <td>0</td>\n",
       "      <td>0</td>\n",
       "      <td>0</td>\n",
       "      <td>0</td>\n",
       "      <td>1</td>\n",
       "      <td>0</td>\n",
       "      <td>0</td>\n",
       "      <td>...</td>\n",
       "      <td>0</td>\n",
       "      <td>0</td>\n",
       "      <td>0</td>\n",
       "      <td>0</td>\n",
       "      <td>0</td>\n",
       "      <td>0</td>\n",
       "      <td>0</td>\n",
       "      <td>0</td>\n",
       "      <td>0</td>\n",
       "      <td>1</td>\n",
       "    </tr>\n",
       "    <tr>\n",
       "      <th>507</th>\n",
       "      <td>0</td>\n",
       "      <td>0</td>\n",
       "      <td>0</td>\n",
       "      <td>0</td>\n",
       "      <td>0</td>\n",
       "      <td>0</td>\n",
       "      <td>0</td>\n",
       "      <td>0</td>\n",
       "      <td>0</td>\n",
       "      <td>0</td>\n",
       "      <td>...</td>\n",
       "      <td>0</td>\n",
       "      <td>0</td>\n",
       "      <td>0</td>\n",
       "      <td>0</td>\n",
       "      <td>0</td>\n",
       "      <td>0</td>\n",
       "      <td>0</td>\n",
       "      <td>0</td>\n",
       "      <td>0</td>\n",
       "      <td>1</td>\n",
       "    </tr>\n",
       "  </tbody>\n",
       "</table>\n",
       "<p>2 rows × 115 columns</p>\n",
       "</div>"
      ],
      "text/plain": [
       "     Make_BMW  Make_Chevrolet  Make_Datsun  Make_Ferrari  Make_Fiat  \\\n",
       "817         0               0            0             0          0   \n",
       "507         0               0            0             0          0   \n",
       "\n",
       "     Make_Ford  Make_Honda  Make_Hyundai  Make_Isuzu  Make_Jaguar  ...  \\\n",
       "817          0           0             1           0            0  ...   \n",
       "507          0           0             0           0            0  ...   \n",
       "\n",
       "     Location_Udupi  Location_Unnao  Location_Vadodara  Location_Valsad  \\\n",
       "817               0               0                  0                0   \n",
       "507               0               0                  0                0   \n",
       "\n",
       "     Location_Varanasi  Location_Warangal  Location_Yamunanagar  \\\n",
       "817                  0                  0                     0   \n",
       "507                  0                  0                     0   \n",
       "\n",
       "     Location_Zirakpur  Seller Type_Corporate  Seller Type_Individual  \n",
       "817                  0                      0                       1  \n",
       "507                  0                      0                       1  \n",
       "\n",
       "[2 rows x 115 columns]"
      ]
     },
     "execution_count": 90,
     "metadata": {},
     "output_type": "execute_result"
    }
   ],
   "source": [
    "Encoded_cat_DF_train.head(2)"
   ]
  },
  {
   "cell_type": "code",
   "execution_count": 91,
   "id": "9b06ffd8-51e2-4f46-b2cc-8c9c17e87e21",
   "metadata": {},
   "outputs": [
    {
     "data": {
      "text/plain": [
       "(1647, 115)"
      ]
     },
     "execution_count": 91,
     "metadata": {},
     "output_type": "execute_result"
    }
   ],
   "source": [
    "Encoded_cat_DF_train.shape"
   ]
  },
  {
   "cell_type": "code",
   "execution_count": 92,
   "id": "b74ac9b9-3668-415a-ade0-c7509269f39f",
   "metadata": {},
   "outputs": [
    {
     "name": "stderr",
     "output_type": "stream",
     "text": [
      "C:\\Users\\LENOVO\\anaconda3\\Lib\\site-packages\\sklearn\\preprocessing\\_encoders.py:242: UserWarning: Found unknown categories in columns [0, 1, 3] during transform. These unknown categories will be encoded as all zeros\n",
      "  warnings.warn(\n"
     ]
    }
   ],
   "source": [
    "Categorical_Encoded_test = OHE.transform(x_test[Categorical_columns]).astype(int)\n",
    "Categorical_Encoded_test_names = OHE.get_feature_names_out(Categorical_columns)\n",
    "Encoded_cat_DF_test = pd.DataFrame(Categorical_Encoded_test, columns = Categorical_Encoded_test_names , index=x_test.index)"
   ]
  },
  {
   "cell_type": "code",
   "execution_count": 93,
   "id": "46118012-3bf0-4fed-8de1-db26a345a005",
   "metadata": {},
   "outputs": [
    {
     "data": {
      "text/html": [
       "<div>\n",
       "<style scoped>\n",
       "    .dataframe tbody tr th:only-of-type {\n",
       "        vertical-align: middle;\n",
       "    }\n",
       "\n",
       "    .dataframe tbody tr th {\n",
       "        vertical-align: top;\n",
       "    }\n",
       "\n",
       "    .dataframe thead th {\n",
       "        text-align: right;\n",
       "    }\n",
       "</style>\n",
       "<table border=\"1\" class=\"dataframe\">\n",
       "  <thead>\n",
       "    <tr style=\"text-align: right;\">\n",
       "      <th></th>\n",
       "      <th>Make_BMW</th>\n",
       "      <th>Make_Chevrolet</th>\n",
       "      <th>Make_Datsun</th>\n",
       "      <th>Make_Ferrari</th>\n",
       "      <th>Make_Fiat</th>\n",
       "      <th>Make_Ford</th>\n",
       "      <th>Make_Honda</th>\n",
       "      <th>Make_Hyundai</th>\n",
       "      <th>Make_Isuzu</th>\n",
       "      <th>Make_Jaguar</th>\n",
       "      <th>...</th>\n",
       "      <th>Location_Udupi</th>\n",
       "      <th>Location_Unnao</th>\n",
       "      <th>Location_Vadodara</th>\n",
       "      <th>Location_Valsad</th>\n",
       "      <th>Location_Varanasi</th>\n",
       "      <th>Location_Warangal</th>\n",
       "      <th>Location_Yamunanagar</th>\n",
       "      <th>Location_Zirakpur</th>\n",
       "      <th>Seller Type_Corporate</th>\n",
       "      <th>Seller Type_Individual</th>\n",
       "    </tr>\n",
       "  </thead>\n",
       "  <tbody>\n",
       "    <tr>\n",
       "      <th>1263</th>\n",
       "      <td>0</td>\n",
       "      <td>0</td>\n",
       "      <td>0</td>\n",
       "      <td>0</td>\n",
       "      <td>0</td>\n",
       "      <td>0</td>\n",
       "      <td>0</td>\n",
       "      <td>0</td>\n",
       "      <td>0</td>\n",
       "      <td>0</td>\n",
       "      <td>...</td>\n",
       "      <td>0</td>\n",
       "      <td>0</td>\n",
       "      <td>0</td>\n",
       "      <td>0</td>\n",
       "      <td>0</td>\n",
       "      <td>0</td>\n",
       "      <td>0</td>\n",
       "      <td>0</td>\n",
       "      <td>0</td>\n",
       "      <td>1</td>\n",
       "    </tr>\n",
       "    <tr>\n",
       "      <th>1742</th>\n",
       "      <td>1</td>\n",
       "      <td>0</td>\n",
       "      <td>0</td>\n",
       "      <td>0</td>\n",
       "      <td>0</td>\n",
       "      <td>0</td>\n",
       "      <td>0</td>\n",
       "      <td>0</td>\n",
       "      <td>0</td>\n",
       "      <td>0</td>\n",
       "      <td>...</td>\n",
       "      <td>0</td>\n",
       "      <td>0</td>\n",
       "      <td>0</td>\n",
       "      <td>0</td>\n",
       "      <td>0</td>\n",
       "      <td>0</td>\n",
       "      <td>0</td>\n",
       "      <td>0</td>\n",
       "      <td>0</td>\n",
       "      <td>1</td>\n",
       "    </tr>\n",
       "  </tbody>\n",
       "</table>\n",
       "<p>2 rows × 115 columns</p>\n",
       "</div>"
      ],
      "text/plain": [
       "      Make_BMW  Make_Chevrolet  Make_Datsun  Make_Ferrari  Make_Fiat  \\\n",
       "1263         0               0            0             0          0   \n",
       "1742         1               0            0             0          0   \n",
       "\n",
       "      Make_Ford  Make_Honda  Make_Hyundai  Make_Isuzu  Make_Jaguar  ...  \\\n",
       "1263          0           0             0           0            0  ...   \n",
       "1742          0           0             0           0            0  ...   \n",
       "\n",
       "      Location_Udupi  Location_Unnao  Location_Vadodara  Location_Valsad  \\\n",
       "1263               0               0                  0                0   \n",
       "1742               0               0                  0                0   \n",
       "\n",
       "      Location_Varanasi  Location_Warangal  Location_Yamunanagar  \\\n",
       "1263                  0                  0                     0   \n",
       "1742                  0                  0                     0   \n",
       "\n",
       "      Location_Zirakpur  Seller Type_Corporate  Seller Type_Individual  \n",
       "1263                  0                      0                       1  \n",
       "1742                  0                      0                       1  \n",
       "\n",
       "[2 rows x 115 columns]"
      ]
     },
     "execution_count": 93,
     "metadata": {},
     "output_type": "execute_result"
    }
   ],
   "source": [
    "Encoded_cat_DF_test.head(2)"
   ]
  },
  {
   "cell_type": "code",
   "execution_count": 94,
   "id": "caf1b777-e895-4d82-ad74-32205146f238",
   "metadata": {},
   "outputs": [
    {
     "data": {
      "text/plain": [
       "(412, 115)"
      ]
     },
     "execution_count": 94,
     "metadata": {},
     "output_type": "execute_result"
    }
   ],
   "source": [
    "Encoded_cat_DF_test.shape"
   ]
  },
  {
   "cell_type": "code",
   "execution_count": 95,
   "id": "47a78d12-7116-40e4-8e61-d061c3041404",
   "metadata": {},
   "outputs": [],
   "source": [
    "Owner_Encode_train = x_train['Owner'].values.reshape(-1, 1)\n",
    "Owner_encoder = OrdinalEncoder(categories=[['First','Second','Third','Fourth','4 or More','UnRegistered Car']])\n",
    "Owner_Encoded_train = Owner_encoder.fit_transform(Owner_Encode_train).astype(int)"
   ]
  },
  {
   "cell_type": "code",
   "execution_count": 96,
   "id": "8c03ea71-7d97-4a63-b93a-8b65a843e0cb",
   "metadata": {},
   "outputs": [
    {
     "data": {
      "text/plain": [
       "Owner\n",
       "First               325\n",
       "Second               75\n",
       "Third                 8\n",
       "UnRegistered Car      4\n",
       "Name: count, dtype: int64"
      ]
     },
     "execution_count": 96,
     "metadata": {},
     "output_type": "execute_result"
    }
   ],
   "source": [
    "x_test['Owner'].value_counts()"
   ]
  },
  {
   "cell_type": "code",
   "execution_count": 97,
   "id": "72ff4a42-31a8-4a86-9b9b-6ba0668dbe7f",
   "metadata": {},
   "outputs": [
    {
     "data": {
      "text/plain": [
       "Owner\n",
       "First               1294\n",
       "Second               298\n",
       "Third                 34\n",
       "UnRegistered Car      17\n",
       "Fourth                 3\n",
       "4 or More              1\n",
       "Name: count, dtype: int64"
      ]
     },
     "execution_count": 97,
     "metadata": {},
     "output_type": "execute_result"
    }
   ],
   "source": [
    "x_train['Owner'].value_counts()"
   ]
  },
  {
   "cell_type": "code",
   "execution_count": 98,
   "id": "7c817c4c-3d8b-4ca0-a68c-91fda6faf9db",
   "metadata": {},
   "outputs": [
    {
     "data": {
      "text/plain": [
       "array([[1],\n",
       "       [0],\n",
       "       [5]])"
      ]
     },
     "execution_count": 98,
     "metadata": {},
     "output_type": "execute_result"
    }
   ],
   "source": [
    "Owner_Encoded_train[:3]"
   ]
  },
  {
   "cell_type": "code",
   "execution_count": 99,
   "id": "b99ccac0-ba0b-4804-ab9d-bc4e9ba813ca",
   "metadata": {},
   "outputs": [
    {
     "data": {
      "text/html": [
       "<div>\n",
       "<style scoped>\n",
       "    .dataframe tbody tr th:only-of-type {\n",
       "        vertical-align: middle;\n",
       "    }\n",
       "\n",
       "    .dataframe tbody tr th {\n",
       "        vertical-align: top;\n",
       "    }\n",
       "\n",
       "    .dataframe thead th {\n",
       "        text-align: right;\n",
       "    }\n",
       "</style>\n",
       "<table border=\"1\" class=\"dataframe\">\n",
       "  <thead>\n",
       "    <tr style=\"text-align: right;\">\n",
       "      <th></th>\n",
       "      <th>Owner</th>\n",
       "    </tr>\n",
       "  </thead>\n",
       "  <tbody>\n",
       "    <tr>\n",
       "      <th>817</th>\n",
       "      <td>1</td>\n",
       "    </tr>\n",
       "    <tr>\n",
       "      <th>507</th>\n",
       "      <td>0</td>\n",
       "    </tr>\n",
       "    <tr>\n",
       "      <th>1794</th>\n",
       "      <td>5</td>\n",
       "    </tr>\n",
       "  </tbody>\n",
       "</table>\n",
       "</div>"
      ],
      "text/plain": [
       "      Owner\n",
       "817       1\n",
       "507       0\n",
       "1794      5"
      ]
     },
     "execution_count": 99,
     "metadata": {},
     "output_type": "execute_result"
    }
   ],
   "source": [
    "Owner_Encoded_train_DF = pd.DataFrame(Owner_Encoded_train,columns=['Owner'],index=x_train.index)\n",
    "Owner_Encoded_train_DF.head(3)"
   ]
  },
  {
   "cell_type": "code",
   "execution_count": 100,
   "id": "13d2481a-7df3-4a27-b823-ada3b5e77650",
   "metadata": {},
   "outputs": [
    {
     "data": {
      "text/html": [
       "<div>\n",
       "<style scoped>\n",
       "    .dataframe tbody tr th:only-of-type {\n",
       "        vertical-align: middle;\n",
       "    }\n",
       "\n",
       "    .dataframe tbody tr th {\n",
       "        vertical-align: top;\n",
       "    }\n",
       "\n",
       "    .dataframe thead th {\n",
       "        text-align: right;\n",
       "    }\n",
       "</style>\n",
       "<table border=\"1\" class=\"dataframe\">\n",
       "  <thead>\n",
       "    <tr style=\"text-align: right;\">\n",
       "      <th></th>\n",
       "      <th>Make</th>\n",
       "      <th>Kilometer</th>\n",
       "      <th>Fuel Type</th>\n",
       "      <th>Transmission</th>\n",
       "      <th>Location</th>\n",
       "      <th>Owner</th>\n",
       "      <th>Seller Type</th>\n",
       "      <th>Engine</th>\n",
       "      <th>Max Power</th>\n",
       "      <th>Seating Capacity</th>\n",
       "      <th>Fuel Tank Capacity</th>\n",
       "      <th>Car Age</th>\n",
       "    </tr>\n",
       "  </thead>\n",
       "  <tbody>\n",
       "    <tr>\n",
       "      <th>1263</th>\n",
       "      <td>Toyota</td>\n",
       "      <td>68195.0</td>\n",
       "      <td>Petrol</td>\n",
       "      <td>Manual</td>\n",
       "      <td>Ahmedabad</td>\n",
       "      <td>First</td>\n",
       "      <td>Individual</td>\n",
       "      <td>1794.0</td>\n",
       "      <td>132.0</td>\n",
       "      <td>5.0</td>\n",
       "      <td>55.0</td>\n",
       "      <td>16</td>\n",
       "    </tr>\n",
       "    <tr>\n",
       "      <th>1742</th>\n",
       "      <td>BMW</td>\n",
       "      <td>9500.0</td>\n",
       "      <td>Petrol</td>\n",
       "      <td>Automatic</td>\n",
       "      <td>Chandigarh</td>\n",
       "      <td>First</td>\n",
       "      <td>Individual</td>\n",
       "      <td>2998.0</td>\n",
       "      <td>298.0</td>\n",
       "      <td>5.0</td>\n",
       "      <td>83.0</td>\n",
       "      <td>4</td>\n",
       "    </tr>\n",
       "    <tr>\n",
       "      <th>1326</th>\n",
       "      <td>Maruti Suzuki</td>\n",
       "      <td>45000.0</td>\n",
       "      <td>CNG</td>\n",
       "      <td>Manual</td>\n",
       "      <td>Pune</td>\n",
       "      <td>First</td>\n",
       "      <td>Individual</td>\n",
       "      <td>796.0</td>\n",
       "      <td>48.0</td>\n",
       "      <td>5.0</td>\n",
       "      <td>35.0</td>\n",
       "      <td>8</td>\n",
       "    </tr>\n",
       "  </tbody>\n",
       "</table>\n",
       "</div>"
      ],
      "text/plain": [
       "               Make  Kilometer Fuel Type Transmission    Location  Owner  \\\n",
       "1263         Toyota    68195.0    Petrol       Manual   Ahmedabad  First   \n",
       "1742            BMW     9500.0    Petrol    Automatic  Chandigarh  First   \n",
       "1326  Maruti Suzuki    45000.0       CNG       Manual        Pune  First   \n",
       "\n",
       "     Seller Type  Engine  Max Power  Seating Capacity  Fuel Tank Capacity  \\\n",
       "1263  Individual  1794.0      132.0               5.0                55.0   \n",
       "1742  Individual  2998.0      298.0               5.0                83.0   \n",
       "1326  Individual   796.0       48.0               5.0                35.0   \n",
       "\n",
       "      Car Age  \n",
       "1263       16  \n",
       "1742        4  \n",
       "1326        8  "
      ]
     },
     "execution_count": 100,
     "metadata": {},
     "output_type": "execute_result"
    }
   ],
   "source": [
    "x_test.head(3)"
   ]
  },
  {
   "cell_type": "code",
   "execution_count": 101,
   "id": "22b3ff28-d634-46a3-946c-83a7e97a7d60",
   "metadata": {},
   "outputs": [],
   "source": [
    "Owner_Encode_test = x_test['Owner'].values.reshape(-1, 1)\n",
    "Owner_Encoded_test = Owner_encoder.transform(Owner_Encode_test).astype(int)"
   ]
  },
  {
   "cell_type": "code",
   "execution_count": 102,
   "id": "af6001fd-c292-40ea-a907-17813946b6a3",
   "metadata": {},
   "outputs": [
    {
     "data": {
      "text/plain": [
       "array([[0],\n",
       "       [0],\n",
       "       [0]])"
      ]
     },
     "execution_count": 102,
     "metadata": {},
     "output_type": "execute_result"
    }
   ],
   "source": [
    "Owner_Encoded_test[:3]"
   ]
  },
  {
   "cell_type": "code",
   "execution_count": 103,
   "id": "bd7a6032-1a85-4c3b-be7a-71eb8f8e16f5",
   "metadata": {},
   "outputs": [
    {
     "data": {
      "text/html": [
       "<div>\n",
       "<style scoped>\n",
       "    .dataframe tbody tr th:only-of-type {\n",
       "        vertical-align: middle;\n",
       "    }\n",
       "\n",
       "    .dataframe tbody tr th {\n",
       "        vertical-align: top;\n",
       "    }\n",
       "\n",
       "    .dataframe thead th {\n",
       "        text-align: right;\n",
       "    }\n",
       "</style>\n",
       "<table border=\"1\" class=\"dataframe\">\n",
       "  <thead>\n",
       "    <tr style=\"text-align: right;\">\n",
       "      <th></th>\n",
       "      <th>Owner</th>\n",
       "    </tr>\n",
       "  </thead>\n",
       "  <tbody>\n",
       "    <tr>\n",
       "      <th>1263</th>\n",
       "      <td>0</td>\n",
       "    </tr>\n",
       "    <tr>\n",
       "      <th>1742</th>\n",
       "      <td>0</td>\n",
       "    </tr>\n",
       "    <tr>\n",
       "      <th>1326</th>\n",
       "      <td>0</td>\n",
       "    </tr>\n",
       "  </tbody>\n",
       "</table>\n",
       "</div>"
      ],
      "text/plain": [
       "      Owner\n",
       "1263      0\n",
       "1742      0\n",
       "1326      0"
      ]
     },
     "execution_count": 103,
     "metadata": {},
     "output_type": "execute_result"
    }
   ],
   "source": [
    "Owner_Encoded_test_DF = pd.DataFrame(Owner_Encoded_test,columns=['Owner'],index=x_test.index)\n",
    "Owner_Encoded_test_DF.head(3)"
   ]
  },
  {
   "cell_type": "code",
   "execution_count": 104,
   "id": "66da4661-25cf-45fa-b107-2a4e7d239764",
   "metadata": {},
   "outputs": [],
   "source": [
    "#Combining all encoded columns"
   ]
  },
  {
   "cell_type": "code",
   "execution_count": 105,
   "id": "b7a7a6dc-a25a-4d25-b3d0-ac0dc97fccf5",
   "metadata": {},
   "outputs": [
    {
     "data": {
      "text/html": [
       "<div>\n",
       "<style scoped>\n",
       "    .dataframe tbody tr th:only-of-type {\n",
       "        vertical-align: middle;\n",
       "    }\n",
       "\n",
       "    .dataframe tbody tr th {\n",
       "        vertical-align: top;\n",
       "    }\n",
       "\n",
       "    .dataframe thead th {\n",
       "        text-align: right;\n",
       "    }\n",
       "</style>\n",
       "<table border=\"1\" class=\"dataframe\">\n",
       "  <thead>\n",
       "    <tr style=\"text-align: right;\">\n",
       "      <th></th>\n",
       "      <th>Owner</th>\n",
       "      <th>Make_BMW</th>\n",
       "      <th>Make_Chevrolet</th>\n",
       "      <th>Make_Datsun</th>\n",
       "      <th>Make_Ferrari</th>\n",
       "      <th>Make_Fiat</th>\n",
       "      <th>Make_Ford</th>\n",
       "      <th>Make_Honda</th>\n",
       "      <th>Make_Hyundai</th>\n",
       "      <th>Make_Isuzu</th>\n",
       "      <th>...</th>\n",
       "      <th>Location_Udupi</th>\n",
       "      <th>Location_Unnao</th>\n",
       "      <th>Location_Vadodara</th>\n",
       "      <th>Location_Valsad</th>\n",
       "      <th>Location_Varanasi</th>\n",
       "      <th>Location_Warangal</th>\n",
       "      <th>Location_Yamunanagar</th>\n",
       "      <th>Location_Zirakpur</th>\n",
       "      <th>Seller Type_Corporate</th>\n",
       "      <th>Seller Type_Individual</th>\n",
       "    </tr>\n",
       "  </thead>\n",
       "  <tbody>\n",
       "    <tr>\n",
       "      <th>817</th>\n",
       "      <td>1</td>\n",
       "      <td>0</td>\n",
       "      <td>0</td>\n",
       "      <td>0</td>\n",
       "      <td>0</td>\n",
       "      <td>0</td>\n",
       "      <td>0</td>\n",
       "      <td>0</td>\n",
       "      <td>1</td>\n",
       "      <td>0</td>\n",
       "      <td>...</td>\n",
       "      <td>0</td>\n",
       "      <td>0</td>\n",
       "      <td>0</td>\n",
       "      <td>0</td>\n",
       "      <td>0</td>\n",
       "      <td>0</td>\n",
       "      <td>0</td>\n",
       "      <td>0</td>\n",
       "      <td>0</td>\n",
       "      <td>1</td>\n",
       "    </tr>\n",
       "    <tr>\n",
       "      <th>507</th>\n",
       "      <td>0</td>\n",
       "      <td>0</td>\n",
       "      <td>0</td>\n",
       "      <td>0</td>\n",
       "      <td>0</td>\n",
       "      <td>0</td>\n",
       "      <td>0</td>\n",
       "      <td>0</td>\n",
       "      <td>0</td>\n",
       "      <td>0</td>\n",
       "      <td>...</td>\n",
       "      <td>0</td>\n",
       "      <td>0</td>\n",
       "      <td>0</td>\n",
       "      <td>0</td>\n",
       "      <td>0</td>\n",
       "      <td>0</td>\n",
       "      <td>0</td>\n",
       "      <td>0</td>\n",
       "      <td>0</td>\n",
       "      <td>1</td>\n",
       "    </tr>\n",
       "  </tbody>\n",
       "</table>\n",
       "<p>2 rows × 116 columns</p>\n",
       "</div>"
      ],
      "text/plain": [
       "     Owner  Make_BMW  Make_Chevrolet  Make_Datsun  Make_Ferrari  Make_Fiat  \\\n",
       "817      1         0               0            0             0          0   \n",
       "507      0         0               0            0             0          0   \n",
       "\n",
       "     Make_Ford  Make_Honda  Make_Hyundai  Make_Isuzu  ...  Location_Udupi  \\\n",
       "817          0           0             1           0  ...               0   \n",
       "507          0           0             0           0  ...               0   \n",
       "\n",
       "     Location_Unnao  Location_Vadodara  Location_Valsad  Location_Varanasi  \\\n",
       "817               0                  0                0                  0   \n",
       "507               0                  0                0                  0   \n",
       "\n",
       "     Location_Warangal  Location_Yamunanagar  Location_Zirakpur  \\\n",
       "817                  0                     0                  0   \n",
       "507                  0                     0                  0   \n",
       "\n",
       "     Seller Type_Corporate  Seller Type_Individual  \n",
       "817                      0                       1  \n",
       "507                      0                       1  \n",
       "\n",
       "[2 rows x 116 columns]"
      ]
     },
     "execution_count": 105,
     "metadata": {},
     "output_type": "execute_result"
    }
   ],
   "source": [
    "x_train_encoded = pd.concat([Owner_Encoded_train_DF , Encoded_cat_DF_train],axis=1)\n",
    "x_train_encoded.head(2)"
   ]
  },
  {
   "cell_type": "code",
   "execution_count": 106,
   "id": "de8a1c68-da52-4489-86a2-58c85b71bb95",
   "metadata": {},
   "outputs": [
    {
     "data": {
      "text/plain": [
       "(1647, 116)"
      ]
     },
     "execution_count": 106,
     "metadata": {},
     "output_type": "execute_result"
    }
   ],
   "source": [
    "x_train_encoded.shape"
   ]
  },
  {
   "cell_type": "code",
   "execution_count": 107,
   "id": "23d19e58-c617-463c-bdad-a9522ad37be2",
   "metadata": {},
   "outputs": [
    {
     "data": {
      "text/html": [
       "<div>\n",
       "<style scoped>\n",
       "    .dataframe tbody tr th:only-of-type {\n",
       "        vertical-align: middle;\n",
       "    }\n",
       "\n",
       "    .dataframe tbody tr th {\n",
       "        vertical-align: top;\n",
       "    }\n",
       "\n",
       "    .dataframe thead th {\n",
       "        text-align: right;\n",
       "    }\n",
       "</style>\n",
       "<table border=\"1\" class=\"dataframe\">\n",
       "  <thead>\n",
       "    <tr style=\"text-align: right;\">\n",
       "      <th></th>\n",
       "      <th>Owner</th>\n",
       "      <th>Make_BMW</th>\n",
       "      <th>Make_Chevrolet</th>\n",
       "      <th>Make_Datsun</th>\n",
       "      <th>Make_Ferrari</th>\n",
       "      <th>Make_Fiat</th>\n",
       "      <th>Make_Ford</th>\n",
       "      <th>Make_Honda</th>\n",
       "      <th>Make_Hyundai</th>\n",
       "      <th>Make_Isuzu</th>\n",
       "      <th>...</th>\n",
       "      <th>Location_Udupi</th>\n",
       "      <th>Location_Unnao</th>\n",
       "      <th>Location_Vadodara</th>\n",
       "      <th>Location_Valsad</th>\n",
       "      <th>Location_Varanasi</th>\n",
       "      <th>Location_Warangal</th>\n",
       "      <th>Location_Yamunanagar</th>\n",
       "      <th>Location_Zirakpur</th>\n",
       "      <th>Seller Type_Corporate</th>\n",
       "      <th>Seller Type_Individual</th>\n",
       "    </tr>\n",
       "  </thead>\n",
       "  <tbody>\n",
       "    <tr>\n",
       "      <th>1263</th>\n",
       "      <td>0</td>\n",
       "      <td>0</td>\n",
       "      <td>0</td>\n",
       "      <td>0</td>\n",
       "      <td>0</td>\n",
       "      <td>0</td>\n",
       "      <td>0</td>\n",
       "      <td>0</td>\n",
       "      <td>0</td>\n",
       "      <td>0</td>\n",
       "      <td>...</td>\n",
       "      <td>0</td>\n",
       "      <td>0</td>\n",
       "      <td>0</td>\n",
       "      <td>0</td>\n",
       "      <td>0</td>\n",
       "      <td>0</td>\n",
       "      <td>0</td>\n",
       "      <td>0</td>\n",
       "      <td>0</td>\n",
       "      <td>1</td>\n",
       "    </tr>\n",
       "    <tr>\n",
       "      <th>1742</th>\n",
       "      <td>0</td>\n",
       "      <td>1</td>\n",
       "      <td>0</td>\n",
       "      <td>0</td>\n",
       "      <td>0</td>\n",
       "      <td>0</td>\n",
       "      <td>0</td>\n",
       "      <td>0</td>\n",
       "      <td>0</td>\n",
       "      <td>0</td>\n",
       "      <td>...</td>\n",
       "      <td>0</td>\n",
       "      <td>0</td>\n",
       "      <td>0</td>\n",
       "      <td>0</td>\n",
       "      <td>0</td>\n",
       "      <td>0</td>\n",
       "      <td>0</td>\n",
       "      <td>0</td>\n",
       "      <td>0</td>\n",
       "      <td>1</td>\n",
       "    </tr>\n",
       "  </tbody>\n",
       "</table>\n",
       "<p>2 rows × 116 columns</p>\n",
       "</div>"
      ],
      "text/plain": [
       "      Owner  Make_BMW  Make_Chevrolet  Make_Datsun  Make_Ferrari  Make_Fiat  \\\n",
       "1263      0         0               0            0             0          0   \n",
       "1742      0         1               0            0             0          0   \n",
       "\n",
       "      Make_Ford  Make_Honda  Make_Hyundai  Make_Isuzu  ...  Location_Udupi  \\\n",
       "1263          0           0             0           0  ...               0   \n",
       "1742          0           0             0           0  ...               0   \n",
       "\n",
       "      Location_Unnao  Location_Vadodara  Location_Valsad  Location_Varanasi  \\\n",
       "1263               0                  0                0                  0   \n",
       "1742               0                  0                0                  0   \n",
       "\n",
       "      Location_Warangal  Location_Yamunanagar  Location_Zirakpur  \\\n",
       "1263                  0                     0                  0   \n",
       "1742                  0                     0                  0   \n",
       "\n",
       "      Seller Type_Corporate  Seller Type_Individual  \n",
       "1263                      0                       1  \n",
       "1742                      0                       1  \n",
       "\n",
       "[2 rows x 116 columns]"
      ]
     },
     "execution_count": 107,
     "metadata": {},
     "output_type": "execute_result"
    }
   ],
   "source": [
    "x_test_encoded = pd.concat([Owner_Encoded_test_DF , Encoded_cat_DF_test],axis=1)\n",
    "x_test_encoded.head(2)"
   ]
  },
  {
   "cell_type": "code",
   "execution_count": 108,
   "id": "fef4833a-9eb5-4482-ad1a-ff69c6a75f9d",
   "metadata": {},
   "outputs": [
    {
     "data": {
      "text/plain": [
       "(412, 116)"
      ]
     },
     "execution_count": 108,
     "metadata": {},
     "output_type": "execute_result"
    }
   ],
   "source": [
    "x_test_encoded.shape"
   ]
  },
  {
   "cell_type": "code",
   "execution_count": 109,
   "id": "a40ccb5b-d15e-467e-b327-9425b630eedc",
   "metadata": {},
   "outputs": [],
   "source": [
    "#We have successfully encoded all the categorical columns and mad one final data frame now we will go for scaling of numerical features"
   ]
  },
  {
   "cell_type": "code",
   "execution_count": 110,
   "id": "74dc9aad-8a91-4721-b532-3d7fd1d45002",
   "metadata": {},
   "outputs": [],
   "source": [
    "#Scaling"
   ]
  },
  {
   "cell_type": "code",
   "execution_count": 111,
   "id": "07452e80-4ed4-4fe8-aa39-e3b3746fdaa3",
   "metadata": {},
   "outputs": [],
   "source": [
    "from sklearn.preprocessing import StandardScaler\n",
    "scaler = StandardScaler()"
   ]
  },
  {
   "cell_type": "code",
   "execution_count": 112,
   "id": "36b81d3a-ce50-4c65-8948-7d067e6c1bf4",
   "metadata": {},
   "outputs": [],
   "source": [
    "Numerical_Feature = ['Kilometer' , 'Engine' , 'Max Power' , 'Seating Capacity','Fuel Tank Capacity','Car Age']"
   ]
  },
  {
   "cell_type": "code",
   "execution_count": 113,
   "id": "ff15f98b-12b3-433d-851b-fe6f42bfb9b9",
   "metadata": {},
   "outputs": [],
   "source": [
    "x_train_scaled = scaler.fit_transform(x_train[Numerical_Feature])\n",
    "x_test_scaled = scaler.transform(x_test[Numerical_Feature])"
   ]
  },
  {
   "cell_type": "code",
   "execution_count": 114,
   "id": "ace0f416-3b4d-4fb2-9de3-e22322d61cef",
   "metadata": {},
   "outputs": [],
   "source": [
    "x_train_scaled_DF = pd.DataFrame(x_train_scaled, columns = Numerical_Feature, index=x_train.index)\n",
    "x_test_scaled_DF = pd.DataFrame(x_test_scaled, columns = Numerical_Feature, index=x_test.index)"
   ]
  },
  {
   "cell_type": "code",
   "execution_count": 115,
   "id": "bfd0860b-c9ae-41a0-92b2-5cda233450ac",
   "metadata": {},
   "outputs": [
    {
     "data": {
      "text/html": [
       "<div>\n",
       "<style scoped>\n",
       "    .dataframe tbody tr th:only-of-type {\n",
       "        vertical-align: middle;\n",
       "    }\n",
       "\n",
       "    .dataframe tbody tr th {\n",
       "        vertical-align: top;\n",
       "    }\n",
       "\n",
       "    .dataframe thead th {\n",
       "        text-align: right;\n",
       "    }\n",
       "</style>\n",
       "<table border=\"1\" class=\"dataframe\">\n",
       "  <thead>\n",
       "    <tr style=\"text-align: right;\">\n",
       "      <th></th>\n",
       "      <th>Kilometer</th>\n",
       "      <th>Engine</th>\n",
       "      <th>Max Power</th>\n",
       "      <th>Seating Capacity</th>\n",
       "      <th>Fuel Tank Capacity</th>\n",
       "      <th>Car Age</th>\n",
       "    </tr>\n",
       "  </thead>\n",
       "  <tbody>\n",
       "    <tr>\n",
       "      <th>817</th>\n",
       "      <td>1.409635</td>\n",
       "      <td>-0.583180</td>\n",
       "      <td>-0.676138</td>\n",
       "      <td>0.0</td>\n",
       "      <td>-0.464541</td>\n",
       "      <td>1.034733</td>\n",
       "    </tr>\n",
       "    <tr>\n",
       "      <th>507</th>\n",
       "      <td>-1.280437</td>\n",
       "      <td>-0.301484</td>\n",
       "      <td>-0.230161</td>\n",
       "      <td>0.0</td>\n",
       "      <td>-0.117488</td>\n",
       "      <td>-1.383437</td>\n",
       "    </tr>\n",
       "  </tbody>\n",
       "</table>\n",
       "</div>"
      ],
      "text/plain": [
       "     Kilometer    Engine  Max Power  Seating Capacity  Fuel Tank Capacity  \\\n",
       "817   1.409635 -0.583180  -0.676138               0.0           -0.464541   \n",
       "507  -1.280437 -0.301484  -0.230161               0.0           -0.117488   \n",
       "\n",
       "      Car Age  \n",
       "817  1.034733  \n",
       "507 -1.383437  "
      ]
     },
     "execution_count": 115,
     "metadata": {},
     "output_type": "execute_result"
    }
   ],
   "source": [
    "x_train_scaled_DF.head(2)"
   ]
  },
  {
   "cell_type": "code",
   "execution_count": 116,
   "id": "874a455c-a43b-4366-b7d8-f12bead15525",
   "metadata": {},
   "outputs": [
    {
     "data": {
      "text/plain": [
       "(1647, 6)"
      ]
     },
     "execution_count": 116,
     "metadata": {},
     "output_type": "execute_result"
    }
   ],
   "source": [
    "x_train_scaled_DF.shape"
   ]
  },
  {
   "cell_type": "code",
   "execution_count": 117,
   "id": "80eb767d-31fd-49a5-9ad5-d9683880a406",
   "metadata": {},
   "outputs": [
    {
     "data": {
      "text/html": [
       "<div>\n",
       "<style scoped>\n",
       "    .dataframe tbody tr th:only-of-type {\n",
       "        vertical-align: middle;\n",
       "    }\n",
       "\n",
       "    .dataframe tbody tr th {\n",
       "        vertical-align: top;\n",
       "    }\n",
       "\n",
       "    .dataframe thead th {\n",
       "        text-align: right;\n",
       "    }\n",
       "</style>\n",
       "<table border=\"1\" class=\"dataframe\">\n",
       "  <thead>\n",
       "    <tr style=\"text-align: right;\">\n",
       "      <th></th>\n",
       "      <th>Kilometer</th>\n",
       "      <th>Engine</th>\n",
       "      <th>Max Power</th>\n",
       "      <th>Seating Capacity</th>\n",
       "      <th>Fuel Tank Capacity</th>\n",
       "      <th>Car Age</th>\n",
       "    </tr>\n",
       "  </thead>\n",
       "  <tbody>\n",
       "    <tr>\n",
       "      <th>1263</th>\n",
       "      <td>0.505967</td>\n",
       "      <td>0.218166</td>\n",
       "      <td>0.090943</td>\n",
       "      <td>0.0</td>\n",
       "      <td>0.229565</td>\n",
       "      <td>2.243817</td>\n",
       "    </tr>\n",
       "    <tr>\n",
       "      <th>1742</th>\n",
       "      <td>-1.428769</td>\n",
       "      <td>2.324763</td>\n",
       "      <td>3.052230</td>\n",
       "      <td>0.0</td>\n",
       "      <td>2.173062</td>\n",
       "      <td>-1.383437</td>\n",
       "    </tr>\n",
       "  </tbody>\n",
       "</table>\n",
       "</div>"
      ],
      "text/plain": [
       "      Kilometer    Engine  Max Power  Seating Capacity  Fuel Tank Capacity  \\\n",
       "1263   0.505967  0.218166   0.090943               0.0            0.229565   \n",
       "1742  -1.428769  2.324763   3.052230               0.0            2.173062   \n",
       "\n",
       "       Car Age  \n",
       "1263  2.243817  \n",
       "1742 -1.383437  "
      ]
     },
     "execution_count": 117,
     "metadata": {},
     "output_type": "execute_result"
    }
   ],
   "source": [
    "x_test_scaled_DF.head(2)"
   ]
  },
  {
   "cell_type": "code",
   "execution_count": 118,
   "id": "702fd45a-cb85-401a-8aa0-6b816c6c19e6",
   "metadata": {},
   "outputs": [
    {
     "data": {
      "text/plain": [
       "(412, 6)"
      ]
     },
     "execution_count": 118,
     "metadata": {},
     "output_type": "execute_result"
    }
   ],
   "source": [
    "x_test_scaled_DF.shape"
   ]
  },
  {
   "cell_type": "code",
   "execution_count": 119,
   "id": "ca22737e-661c-41ca-a3f8-dbf0ab002e82",
   "metadata": {},
   "outputs": [],
   "source": [
    "#Final Train and Test Data"
   ]
  },
  {
   "cell_type": "code",
   "execution_count": 120,
   "id": "d6bf5d36-5a43-44e9-ba68-96c661db34a2",
   "metadata": {},
   "outputs": [
    {
     "data": {
      "text/html": [
       "<div>\n",
       "<style scoped>\n",
       "    .dataframe tbody tr th:only-of-type {\n",
       "        vertical-align: middle;\n",
       "    }\n",
       "\n",
       "    .dataframe tbody tr th {\n",
       "        vertical-align: top;\n",
       "    }\n",
       "\n",
       "    .dataframe thead th {\n",
       "        text-align: right;\n",
       "    }\n",
       "</style>\n",
       "<table border=\"1\" class=\"dataframe\">\n",
       "  <thead>\n",
       "    <tr style=\"text-align: right;\">\n",
       "      <th></th>\n",
       "      <th>Kilometer</th>\n",
       "      <th>Engine</th>\n",
       "      <th>Max Power</th>\n",
       "      <th>Seating Capacity</th>\n",
       "      <th>Fuel Tank Capacity</th>\n",
       "      <th>Car Age</th>\n",
       "      <th>Owner</th>\n",
       "      <th>Make_BMW</th>\n",
       "      <th>Make_Chevrolet</th>\n",
       "      <th>Make_Datsun</th>\n",
       "      <th>...</th>\n",
       "      <th>Location_Udupi</th>\n",
       "      <th>Location_Unnao</th>\n",
       "      <th>Location_Vadodara</th>\n",
       "      <th>Location_Valsad</th>\n",
       "      <th>Location_Varanasi</th>\n",
       "      <th>Location_Warangal</th>\n",
       "      <th>Location_Yamunanagar</th>\n",
       "      <th>Location_Zirakpur</th>\n",
       "      <th>Seller Type_Corporate</th>\n",
       "      <th>Seller Type_Individual</th>\n",
       "    </tr>\n",
       "  </thead>\n",
       "  <tbody>\n",
       "    <tr>\n",
       "      <th>817</th>\n",
       "      <td>1.409635</td>\n",
       "      <td>-0.583180</td>\n",
       "      <td>-0.676138</td>\n",
       "      <td>0.0</td>\n",
       "      <td>-0.464541</td>\n",
       "      <td>1.034733</td>\n",
       "      <td>1</td>\n",
       "      <td>0</td>\n",
       "      <td>0</td>\n",
       "      <td>0</td>\n",
       "      <td>...</td>\n",
       "      <td>0</td>\n",
       "      <td>0</td>\n",
       "      <td>0</td>\n",
       "      <td>0</td>\n",
       "      <td>0</td>\n",
       "      <td>0</td>\n",
       "      <td>0</td>\n",
       "      <td>0</td>\n",
       "      <td>0</td>\n",
       "      <td>1</td>\n",
       "    </tr>\n",
       "    <tr>\n",
       "      <th>507</th>\n",
       "      <td>-1.280437</td>\n",
       "      <td>-0.301484</td>\n",
       "      <td>-0.230161</td>\n",
       "      <td>0.0</td>\n",
       "      <td>-0.117488</td>\n",
       "      <td>-1.383437</td>\n",
       "      <td>0</td>\n",
       "      <td>0</td>\n",
       "      <td>0</td>\n",
       "      <td>0</td>\n",
       "      <td>...</td>\n",
       "      <td>0</td>\n",
       "      <td>0</td>\n",
       "      <td>0</td>\n",
       "      <td>0</td>\n",
       "      <td>0</td>\n",
       "      <td>0</td>\n",
       "      <td>0</td>\n",
       "      <td>0</td>\n",
       "      <td>0</td>\n",
       "      <td>1</td>\n",
       "    </tr>\n",
       "  </tbody>\n",
       "</table>\n",
       "<p>2 rows × 122 columns</p>\n",
       "</div>"
      ],
      "text/plain": [
       "     Kilometer    Engine  Max Power  Seating Capacity  Fuel Tank Capacity  \\\n",
       "817   1.409635 -0.583180  -0.676138               0.0           -0.464541   \n",
       "507  -1.280437 -0.301484  -0.230161               0.0           -0.117488   \n",
       "\n",
       "      Car Age  Owner  Make_BMW  Make_Chevrolet  Make_Datsun  ...  \\\n",
       "817  1.034733      1         0               0            0  ...   \n",
       "507 -1.383437      0         0               0            0  ...   \n",
       "\n",
       "     Location_Udupi  Location_Unnao  Location_Vadodara  Location_Valsad  \\\n",
       "817               0               0                  0                0   \n",
       "507               0               0                  0                0   \n",
       "\n",
       "     Location_Varanasi  Location_Warangal  Location_Yamunanagar  \\\n",
       "817                  0                  0                     0   \n",
       "507                  0                  0                     0   \n",
       "\n",
       "     Location_Zirakpur  Seller Type_Corporate  Seller Type_Individual  \n",
       "817                  0                      0                       1  \n",
       "507                  0                      0                       1  \n",
       "\n",
       "[2 rows x 122 columns]"
      ]
     },
     "execution_count": 120,
     "metadata": {},
     "output_type": "execute_result"
    }
   ],
   "source": [
    "X_TRAIN = pd.concat([x_train_scaled_DF,x_train_encoded],axis=1)\n",
    "X_TRAIN.head(2)"
   ]
  },
  {
   "cell_type": "code",
   "execution_count": 121,
   "id": "c56260d4-432a-4d5f-be49-d9d5c7d3ca55",
   "metadata": {},
   "outputs": [
    {
     "data": {
      "text/plain": [
       "(1647, 122)"
      ]
     },
     "execution_count": 121,
     "metadata": {},
     "output_type": "execute_result"
    }
   ],
   "source": [
    "X_TRAIN.shape"
   ]
  },
  {
   "cell_type": "code",
   "execution_count": 122,
   "id": "3a18bc8a-2d0d-4a4d-8cf8-8eb94b8e0fdf",
   "metadata": {},
   "outputs": [
    {
     "data": {
      "text/html": [
       "<div>\n",
       "<style scoped>\n",
       "    .dataframe tbody tr th:only-of-type {\n",
       "        vertical-align: middle;\n",
       "    }\n",
       "\n",
       "    .dataframe tbody tr th {\n",
       "        vertical-align: top;\n",
       "    }\n",
       "\n",
       "    .dataframe thead th {\n",
       "        text-align: right;\n",
       "    }\n",
       "</style>\n",
       "<table border=\"1\" class=\"dataframe\">\n",
       "  <thead>\n",
       "    <tr style=\"text-align: right;\">\n",
       "      <th></th>\n",
       "      <th>Kilometer</th>\n",
       "      <th>Engine</th>\n",
       "      <th>Max Power</th>\n",
       "      <th>Seating Capacity</th>\n",
       "      <th>Fuel Tank Capacity</th>\n",
       "      <th>Car Age</th>\n",
       "      <th>Owner</th>\n",
       "      <th>Make_BMW</th>\n",
       "      <th>Make_Chevrolet</th>\n",
       "      <th>Make_Datsun</th>\n",
       "      <th>...</th>\n",
       "      <th>Location_Udupi</th>\n",
       "      <th>Location_Unnao</th>\n",
       "      <th>Location_Vadodara</th>\n",
       "      <th>Location_Valsad</th>\n",
       "      <th>Location_Varanasi</th>\n",
       "      <th>Location_Warangal</th>\n",
       "      <th>Location_Yamunanagar</th>\n",
       "      <th>Location_Zirakpur</th>\n",
       "      <th>Seller Type_Corporate</th>\n",
       "      <th>Seller Type_Individual</th>\n",
       "    </tr>\n",
       "  </thead>\n",
       "  <tbody>\n",
       "    <tr>\n",
       "      <th>1263</th>\n",
       "      <td>0.505967</td>\n",
       "      <td>0.218166</td>\n",
       "      <td>0.090943</td>\n",
       "      <td>0.0</td>\n",
       "      <td>0.229565</td>\n",
       "      <td>2.243817</td>\n",
       "      <td>0</td>\n",
       "      <td>0</td>\n",
       "      <td>0</td>\n",
       "      <td>0</td>\n",
       "      <td>...</td>\n",
       "      <td>0</td>\n",
       "      <td>0</td>\n",
       "      <td>0</td>\n",
       "      <td>0</td>\n",
       "      <td>0</td>\n",
       "      <td>0</td>\n",
       "      <td>0</td>\n",
       "      <td>0</td>\n",
       "      <td>0</td>\n",
       "      <td>1</td>\n",
       "    </tr>\n",
       "    <tr>\n",
       "      <th>1742</th>\n",
       "      <td>-1.428769</td>\n",
       "      <td>2.324763</td>\n",
       "      <td>3.052230</td>\n",
       "      <td>0.0</td>\n",
       "      <td>2.173062</td>\n",
       "      <td>-1.383437</td>\n",
       "      <td>0</td>\n",
       "      <td>1</td>\n",
       "      <td>0</td>\n",
       "      <td>0</td>\n",
       "      <td>...</td>\n",
       "      <td>0</td>\n",
       "      <td>0</td>\n",
       "      <td>0</td>\n",
       "      <td>0</td>\n",
       "      <td>0</td>\n",
       "      <td>0</td>\n",
       "      <td>0</td>\n",
       "      <td>0</td>\n",
       "      <td>0</td>\n",
       "      <td>1</td>\n",
       "    </tr>\n",
       "  </tbody>\n",
       "</table>\n",
       "<p>2 rows × 122 columns</p>\n",
       "</div>"
      ],
      "text/plain": [
       "      Kilometer    Engine  Max Power  Seating Capacity  Fuel Tank Capacity  \\\n",
       "1263   0.505967  0.218166   0.090943               0.0            0.229565   \n",
       "1742  -1.428769  2.324763   3.052230               0.0            2.173062   \n",
       "\n",
       "       Car Age  Owner  Make_BMW  Make_Chevrolet  Make_Datsun  ...  \\\n",
       "1263  2.243817      0         0               0            0  ...   \n",
       "1742 -1.383437      0         1               0            0  ...   \n",
       "\n",
       "      Location_Udupi  Location_Unnao  Location_Vadodara  Location_Valsad  \\\n",
       "1263               0               0                  0                0   \n",
       "1742               0               0                  0                0   \n",
       "\n",
       "      Location_Varanasi  Location_Warangal  Location_Yamunanagar  \\\n",
       "1263                  0                  0                     0   \n",
       "1742                  0                  0                     0   \n",
       "\n",
       "      Location_Zirakpur  Seller Type_Corporate  Seller Type_Individual  \n",
       "1263                  0                      0                       1  \n",
       "1742                  0                      0                       1  \n",
       "\n",
       "[2 rows x 122 columns]"
      ]
     },
     "execution_count": 122,
     "metadata": {},
     "output_type": "execute_result"
    }
   ],
   "source": [
    "X_TEST = pd.concat([x_test_scaled_DF,x_test_encoded],axis=1)\n",
    "X_TEST.head(2)"
   ]
  },
  {
   "cell_type": "code",
   "execution_count": 123,
   "id": "d38c5d50-a3cf-4c29-98ea-db1f1d329f35",
   "metadata": {},
   "outputs": [
    {
     "data": {
      "text/plain": [
       "(412, 122)"
      ]
     },
     "execution_count": 123,
     "metadata": {},
     "output_type": "execute_result"
    }
   ],
   "source": [
    "X_TEST.shape"
   ]
  },
  {
   "cell_type": "raw",
   "id": "6074309f-ae49-4416-8388-537d261ad9c7",
   "metadata": {},
   "source": [
    "categorical_cols = ['Fuel Type', 'Transmission', 'Seller Type', 'Owner', 'Location']\n",
    "numeric_cols = ['Kilometer', 'Engine', 'Max Power', 'Seating Capacity', 'Fuel Tank Capacity', 'Car Age']"
   ]
  },
  {
   "cell_type": "raw",
   "id": "748907aa-8fc3-4495-8037-7faa5ce38c0d",
   "metadata": {},
   "source": [
    "from sklearn.compose import ColumnTransformer\n",
    "from sklearn.preprocessing import OneHotEncoder, StandardScaler\n",
    "\n",
    "preprocessor = ColumnTransformer(transformers=[\n",
    "    ('num', StandardScaler(), numeric_cols),\n",
    "    ('cat', OneHotEncoder(handle_unknown='ignore'), categorical_cols)\n",
    "])\n"
   ]
  },
  {
   "cell_type": "raw",
   "id": "0a651f18-e743-4f58-9b21-293f839efa92",
   "metadata": {},
   "source": [
    "from sklearn.pipeline import Pipeline\n",
    "from sklearn.linear_model import LinearRegression\n",
    "\n",
    "model_pipeline = Pipeline(steps=[\n",
    "    ('preprocessing', preprocessor),\n",
    "    ('regressor', LinearRegression())\n",
    "])\n"
   ]
  },
  {
   "cell_type": "raw",
   "id": "79b68e1d-6a5f-47d4-b758-21847f6589b5",
   "metadata": {},
   "source": [
    "from sklearn.model_selection import cross_val_score\n",
    "\n",
    "# Use raw (non-encoded, non-scaled) training data\n",
    "cv_scores = cross_val_score(model_pipeline, x, y, cv=5, scoring='r2')\n",
    "\n",
    "print(\"Cross-validated R² scores:\", cv_scores)\n",
    "print(\"Average R²:\", cv_scores.mean())\n"
   ]
  },
  {
   "cell_type": "code",
   "execution_count": 124,
   "id": "4e5fadc2-6ab6-43e8-b4a8-f61899d0b080",
   "metadata": {},
   "outputs": [
    {
     "data": {
      "text/html": [
       "<div>\n",
       "<style scoped>\n",
       "    .dataframe tbody tr th:only-of-type {\n",
       "        vertical-align: middle;\n",
       "    }\n",
       "\n",
       "    .dataframe tbody tr th {\n",
       "        vertical-align: top;\n",
       "    }\n",
       "\n",
       "    .dataframe thead th {\n",
       "        text-align: right;\n",
       "    }\n",
       "</style>\n",
       "<table border=\"1\" class=\"dataframe\">\n",
       "  <thead>\n",
       "    <tr style=\"text-align: right;\">\n",
       "      <th></th>\n",
       "      <th>Log_Price</th>\n",
       "    </tr>\n",
       "  </thead>\n",
       "  <tbody>\n",
       "    <tr>\n",
       "      <th>817</th>\n",
       "      <td>12.793862</td>\n",
       "    </tr>\n",
       "    <tr>\n",
       "      <th>507</th>\n",
       "      <td>14.237506</td>\n",
       "    </tr>\n",
       "  </tbody>\n",
       "</table>\n",
       "</div>"
      ],
      "text/plain": [
       "     Log_Price\n",
       "817  12.793862\n",
       "507  14.237506"
      ]
     },
     "execution_count": 124,
     "metadata": {},
     "output_type": "execute_result"
    }
   ],
   "source": [
    "Y_TRAIN =pd.DataFrame(y_train['Log_Price'])\n",
    "Y_TRAIN.head(2)"
   ]
  },
  {
   "cell_type": "code",
   "execution_count": 125,
   "id": "715b72c0-6a29-4fb6-bbb6-7765e8871766",
   "metadata": {},
   "outputs": [
    {
     "data": {
      "text/html": [
       "<div>\n",
       "<style scoped>\n",
       "    .dataframe tbody tr th:only-of-type {\n",
       "        vertical-align: middle;\n",
       "    }\n",
       "\n",
       "    .dataframe tbody tr th {\n",
       "        vertical-align: top;\n",
       "    }\n",
       "\n",
       "    .dataframe thead th {\n",
       "        text-align: right;\n",
       "    }\n",
       "</style>\n",
       "<table border=\"1\" class=\"dataframe\">\n",
       "  <thead>\n",
       "    <tr style=\"text-align: right;\">\n",
       "      <th></th>\n",
       "      <th>Log_Price</th>\n",
       "    </tr>\n",
       "  </thead>\n",
       "  <tbody>\n",
       "    <tr>\n",
       "      <th>1263</th>\n",
       "      <td>12.873905</td>\n",
       "    </tr>\n",
       "    <tr>\n",
       "      <th>1742</th>\n",
       "      <td>16.341239</td>\n",
       "    </tr>\n",
       "  </tbody>\n",
       "</table>\n",
       "</div>"
      ],
      "text/plain": [
       "      Log_Price\n",
       "1263  12.873905\n",
       "1742  16.341239"
      ]
     },
     "execution_count": 125,
     "metadata": {},
     "output_type": "execute_result"
    }
   ],
   "source": [
    "Y_TEST =pd.DataFrame(y_test['Log_Price'])\n",
    "Y_TEST.head(2)"
   ]
  },
  {
   "cell_type": "markdown",
   "id": "b98203de-fa01-4b2e-8a90-ce64c60219a3",
   "metadata": {},
   "source": [
    "#After completing all essential preprocessing steps such as handling missing values, encoding categorical variables, scaling numerical features, and transforming the target variable, the next step is to apply a Machine Learning algorithm to predict salaries. We begin with Linear Regression as our baseline model."
   ]
  },
  {
   "cell_type": "code",
   "execution_count": 126,
   "id": "42416583-8161-4a76-98d9-492da2b07d31",
   "metadata": {},
   "outputs": [],
   "source": [
    "#Linear Regression\n"
   ]
  },
  {
   "cell_type": "code",
   "execution_count": 127,
   "id": "9eef5912-e974-4ea6-828d-004c5895883d",
   "metadata": {},
   "outputs": [],
   "source": [
    "from sklearn.linear_model import LinearRegression\n",
    "model = LinearRegression()"
   ]
  },
  {
   "cell_type": "code",
   "execution_count": 128,
   "id": "ebfe1549-5c66-412e-b57e-47476c67f6d7",
   "metadata": {},
   "outputs": [
    {
     "data": {
      "text/html": [
       "<style>#sk-container-id-1 {\n",
       "  /* Definition of color scheme common for light and dark mode */\n",
       "  --sklearn-color-text: black;\n",
       "  --sklearn-color-line: gray;\n",
       "  /* Definition of color scheme for unfitted estimators */\n",
       "  --sklearn-color-unfitted-level-0: #fff5e6;\n",
       "  --sklearn-color-unfitted-level-1: #f6e4d2;\n",
       "  --sklearn-color-unfitted-level-2: #ffe0b3;\n",
       "  --sklearn-color-unfitted-level-3: chocolate;\n",
       "  /* Definition of color scheme for fitted estimators */\n",
       "  --sklearn-color-fitted-level-0: #f0f8ff;\n",
       "  --sklearn-color-fitted-level-1: #d4ebff;\n",
       "  --sklearn-color-fitted-level-2: #b3dbfd;\n",
       "  --sklearn-color-fitted-level-3: cornflowerblue;\n",
       "\n",
       "  /* Specific color for light theme */\n",
       "  --sklearn-color-text-on-default-background: var(--sg-text-color, var(--theme-code-foreground, var(--jp-content-font-color1, black)));\n",
       "  --sklearn-color-background: var(--sg-background-color, var(--theme-background, var(--jp-layout-color0, white)));\n",
       "  --sklearn-color-border-box: var(--sg-text-color, var(--theme-code-foreground, var(--jp-content-font-color1, black)));\n",
       "  --sklearn-color-icon: #696969;\n",
       "\n",
       "  @media (prefers-color-scheme: dark) {\n",
       "    /* Redefinition of color scheme for dark theme */\n",
       "    --sklearn-color-text-on-default-background: var(--sg-text-color, var(--theme-code-foreground, var(--jp-content-font-color1, white)));\n",
       "    --sklearn-color-background: var(--sg-background-color, var(--theme-background, var(--jp-layout-color0, #111)));\n",
       "    --sklearn-color-border-box: var(--sg-text-color, var(--theme-code-foreground, var(--jp-content-font-color1, white)));\n",
       "    --sklearn-color-icon: #878787;\n",
       "  }\n",
       "}\n",
       "\n",
       "#sk-container-id-1 {\n",
       "  color: var(--sklearn-color-text);\n",
       "}\n",
       "\n",
       "#sk-container-id-1 pre {\n",
       "  padding: 0;\n",
       "}\n",
       "\n",
       "#sk-container-id-1 input.sk-hidden--visually {\n",
       "  border: 0;\n",
       "  clip: rect(1px 1px 1px 1px);\n",
       "  clip: rect(1px, 1px, 1px, 1px);\n",
       "  height: 1px;\n",
       "  margin: -1px;\n",
       "  overflow: hidden;\n",
       "  padding: 0;\n",
       "  position: absolute;\n",
       "  width: 1px;\n",
       "}\n",
       "\n",
       "#sk-container-id-1 div.sk-dashed-wrapped {\n",
       "  border: 1px dashed var(--sklearn-color-line);\n",
       "  margin: 0 0.4em 0.5em 0.4em;\n",
       "  box-sizing: border-box;\n",
       "  padding-bottom: 0.4em;\n",
       "  background-color: var(--sklearn-color-background);\n",
       "}\n",
       "\n",
       "#sk-container-id-1 div.sk-container {\n",
       "  /* jupyter's `normalize.less` sets `[hidden] { display: none; }`\n",
       "     but bootstrap.min.css set `[hidden] { display: none !important; }`\n",
       "     so we also need the `!important` here to be able to override the\n",
       "     default hidden behavior on the sphinx rendered scikit-learn.org.\n",
       "     See: https://github.com/scikit-learn/scikit-learn/issues/21755 */\n",
       "  display: inline-block !important;\n",
       "  position: relative;\n",
       "}\n",
       "\n",
       "#sk-container-id-1 div.sk-text-repr-fallback {\n",
       "  display: none;\n",
       "}\n",
       "\n",
       "div.sk-parallel-item,\n",
       "div.sk-serial,\n",
       "div.sk-item {\n",
       "  /* draw centered vertical line to link estimators */\n",
       "  background-image: linear-gradient(var(--sklearn-color-text-on-default-background), var(--sklearn-color-text-on-default-background));\n",
       "  background-size: 2px 100%;\n",
       "  background-repeat: no-repeat;\n",
       "  background-position: center center;\n",
       "}\n",
       "\n",
       "/* Parallel-specific style estimator block */\n",
       "\n",
       "#sk-container-id-1 div.sk-parallel-item::after {\n",
       "  content: \"\";\n",
       "  width: 100%;\n",
       "  border-bottom: 2px solid var(--sklearn-color-text-on-default-background);\n",
       "  flex-grow: 1;\n",
       "}\n",
       "\n",
       "#sk-container-id-1 div.sk-parallel {\n",
       "  display: flex;\n",
       "  align-items: stretch;\n",
       "  justify-content: center;\n",
       "  background-color: var(--sklearn-color-background);\n",
       "  position: relative;\n",
       "}\n",
       "\n",
       "#sk-container-id-1 div.sk-parallel-item {\n",
       "  display: flex;\n",
       "  flex-direction: column;\n",
       "}\n",
       "\n",
       "#sk-container-id-1 div.sk-parallel-item:first-child::after {\n",
       "  align-self: flex-end;\n",
       "  width: 50%;\n",
       "}\n",
       "\n",
       "#sk-container-id-1 div.sk-parallel-item:last-child::after {\n",
       "  align-self: flex-start;\n",
       "  width: 50%;\n",
       "}\n",
       "\n",
       "#sk-container-id-1 div.sk-parallel-item:only-child::after {\n",
       "  width: 0;\n",
       "}\n",
       "\n",
       "/* Serial-specific style estimator block */\n",
       "\n",
       "#sk-container-id-1 div.sk-serial {\n",
       "  display: flex;\n",
       "  flex-direction: column;\n",
       "  align-items: center;\n",
       "  background-color: var(--sklearn-color-background);\n",
       "  padding-right: 1em;\n",
       "  padding-left: 1em;\n",
       "}\n",
       "\n",
       "\n",
       "/* Toggleable style: style used for estimator/Pipeline/ColumnTransformer box that is\n",
       "clickable and can be expanded/collapsed.\n",
       "- Pipeline and ColumnTransformer use this feature and define the default style\n",
       "- Estimators will overwrite some part of the style using the `sk-estimator` class\n",
       "*/\n",
       "\n",
       "/* Pipeline and ColumnTransformer style (default) */\n",
       "\n",
       "#sk-container-id-1 div.sk-toggleable {\n",
       "  /* Default theme specific background. It is overwritten whether we have a\n",
       "  specific estimator or a Pipeline/ColumnTransformer */\n",
       "  background-color: var(--sklearn-color-background);\n",
       "}\n",
       "\n",
       "/* Toggleable label */\n",
       "#sk-container-id-1 label.sk-toggleable__label {\n",
       "  cursor: pointer;\n",
       "  display: block;\n",
       "  width: 100%;\n",
       "  margin-bottom: 0;\n",
       "  padding: 0.5em;\n",
       "  box-sizing: border-box;\n",
       "  text-align: center;\n",
       "}\n",
       "\n",
       "#sk-container-id-1 label.sk-toggleable__label-arrow:before {\n",
       "  /* Arrow on the left of the label */\n",
       "  content: \"▸\";\n",
       "  float: left;\n",
       "  margin-right: 0.25em;\n",
       "  color: var(--sklearn-color-icon);\n",
       "}\n",
       "\n",
       "#sk-container-id-1 label.sk-toggleable__label-arrow:hover:before {\n",
       "  color: var(--sklearn-color-text);\n",
       "}\n",
       "\n",
       "/* Toggleable content - dropdown */\n",
       "\n",
       "#sk-container-id-1 div.sk-toggleable__content {\n",
       "  max-height: 0;\n",
       "  max-width: 0;\n",
       "  overflow: hidden;\n",
       "  text-align: left;\n",
       "  /* unfitted */\n",
       "  background-color: var(--sklearn-color-unfitted-level-0);\n",
       "}\n",
       "\n",
       "#sk-container-id-1 div.sk-toggleable__content.fitted {\n",
       "  /* fitted */\n",
       "  background-color: var(--sklearn-color-fitted-level-0);\n",
       "}\n",
       "\n",
       "#sk-container-id-1 div.sk-toggleable__content pre {\n",
       "  margin: 0.2em;\n",
       "  border-radius: 0.25em;\n",
       "  color: var(--sklearn-color-text);\n",
       "  /* unfitted */\n",
       "  background-color: var(--sklearn-color-unfitted-level-0);\n",
       "}\n",
       "\n",
       "#sk-container-id-1 div.sk-toggleable__content.fitted pre {\n",
       "  /* unfitted */\n",
       "  background-color: var(--sklearn-color-fitted-level-0);\n",
       "}\n",
       "\n",
       "#sk-container-id-1 input.sk-toggleable__control:checked~div.sk-toggleable__content {\n",
       "  /* Expand drop-down */\n",
       "  max-height: 200px;\n",
       "  max-width: 100%;\n",
       "  overflow: auto;\n",
       "}\n",
       "\n",
       "#sk-container-id-1 input.sk-toggleable__control:checked~label.sk-toggleable__label-arrow:before {\n",
       "  content: \"▾\";\n",
       "}\n",
       "\n",
       "/* Pipeline/ColumnTransformer-specific style */\n",
       "\n",
       "#sk-container-id-1 div.sk-label input.sk-toggleable__control:checked~label.sk-toggleable__label {\n",
       "  color: var(--sklearn-color-text);\n",
       "  background-color: var(--sklearn-color-unfitted-level-2);\n",
       "}\n",
       "\n",
       "#sk-container-id-1 div.sk-label.fitted input.sk-toggleable__control:checked~label.sk-toggleable__label {\n",
       "  background-color: var(--sklearn-color-fitted-level-2);\n",
       "}\n",
       "\n",
       "/* Estimator-specific style */\n",
       "\n",
       "/* Colorize estimator box */\n",
       "#sk-container-id-1 div.sk-estimator input.sk-toggleable__control:checked~label.sk-toggleable__label {\n",
       "  /* unfitted */\n",
       "  background-color: var(--sklearn-color-unfitted-level-2);\n",
       "}\n",
       "\n",
       "#sk-container-id-1 div.sk-estimator.fitted input.sk-toggleable__control:checked~label.sk-toggleable__label {\n",
       "  /* fitted */\n",
       "  background-color: var(--sklearn-color-fitted-level-2);\n",
       "}\n",
       "\n",
       "#sk-container-id-1 div.sk-label label.sk-toggleable__label,\n",
       "#sk-container-id-1 div.sk-label label {\n",
       "  /* The background is the default theme color */\n",
       "  color: var(--sklearn-color-text-on-default-background);\n",
       "}\n",
       "\n",
       "/* On hover, darken the color of the background */\n",
       "#sk-container-id-1 div.sk-label:hover label.sk-toggleable__label {\n",
       "  color: var(--sklearn-color-text);\n",
       "  background-color: var(--sklearn-color-unfitted-level-2);\n",
       "}\n",
       "\n",
       "/* Label box, darken color on hover, fitted */\n",
       "#sk-container-id-1 div.sk-label.fitted:hover label.sk-toggleable__label.fitted {\n",
       "  color: var(--sklearn-color-text);\n",
       "  background-color: var(--sklearn-color-fitted-level-2);\n",
       "}\n",
       "\n",
       "/* Estimator label */\n",
       "\n",
       "#sk-container-id-1 div.sk-label label {\n",
       "  font-family: monospace;\n",
       "  font-weight: bold;\n",
       "  display: inline-block;\n",
       "  line-height: 1.2em;\n",
       "}\n",
       "\n",
       "#sk-container-id-1 div.sk-label-container {\n",
       "  text-align: center;\n",
       "}\n",
       "\n",
       "/* Estimator-specific */\n",
       "#sk-container-id-1 div.sk-estimator {\n",
       "  font-family: monospace;\n",
       "  border: 1px dotted var(--sklearn-color-border-box);\n",
       "  border-radius: 0.25em;\n",
       "  box-sizing: border-box;\n",
       "  margin-bottom: 0.5em;\n",
       "  /* unfitted */\n",
       "  background-color: var(--sklearn-color-unfitted-level-0);\n",
       "}\n",
       "\n",
       "#sk-container-id-1 div.sk-estimator.fitted {\n",
       "  /* fitted */\n",
       "  background-color: var(--sklearn-color-fitted-level-0);\n",
       "}\n",
       "\n",
       "/* on hover */\n",
       "#sk-container-id-1 div.sk-estimator:hover {\n",
       "  /* unfitted */\n",
       "  background-color: var(--sklearn-color-unfitted-level-2);\n",
       "}\n",
       "\n",
       "#sk-container-id-1 div.sk-estimator.fitted:hover {\n",
       "  /* fitted */\n",
       "  background-color: var(--sklearn-color-fitted-level-2);\n",
       "}\n",
       "\n",
       "/* Specification for estimator info (e.g. \"i\" and \"?\") */\n",
       "\n",
       "/* Common style for \"i\" and \"?\" */\n",
       "\n",
       ".sk-estimator-doc-link,\n",
       "a:link.sk-estimator-doc-link,\n",
       "a:visited.sk-estimator-doc-link {\n",
       "  float: right;\n",
       "  font-size: smaller;\n",
       "  line-height: 1em;\n",
       "  font-family: monospace;\n",
       "  background-color: var(--sklearn-color-background);\n",
       "  border-radius: 1em;\n",
       "  height: 1em;\n",
       "  width: 1em;\n",
       "  text-decoration: none !important;\n",
       "  margin-left: 1ex;\n",
       "  /* unfitted */\n",
       "  border: var(--sklearn-color-unfitted-level-1) 1pt solid;\n",
       "  color: var(--sklearn-color-unfitted-level-1);\n",
       "}\n",
       "\n",
       ".sk-estimator-doc-link.fitted,\n",
       "a:link.sk-estimator-doc-link.fitted,\n",
       "a:visited.sk-estimator-doc-link.fitted {\n",
       "  /* fitted */\n",
       "  border: var(--sklearn-color-fitted-level-1) 1pt solid;\n",
       "  color: var(--sklearn-color-fitted-level-1);\n",
       "}\n",
       "\n",
       "/* On hover */\n",
       "div.sk-estimator:hover .sk-estimator-doc-link:hover,\n",
       ".sk-estimator-doc-link:hover,\n",
       "div.sk-label-container:hover .sk-estimator-doc-link:hover,\n",
       ".sk-estimator-doc-link:hover {\n",
       "  /* unfitted */\n",
       "  background-color: var(--sklearn-color-unfitted-level-3);\n",
       "  color: var(--sklearn-color-background);\n",
       "  text-decoration: none;\n",
       "}\n",
       "\n",
       "div.sk-estimator.fitted:hover .sk-estimator-doc-link.fitted:hover,\n",
       ".sk-estimator-doc-link.fitted:hover,\n",
       "div.sk-label-container:hover .sk-estimator-doc-link.fitted:hover,\n",
       ".sk-estimator-doc-link.fitted:hover {\n",
       "  /* fitted */\n",
       "  background-color: var(--sklearn-color-fitted-level-3);\n",
       "  color: var(--sklearn-color-background);\n",
       "  text-decoration: none;\n",
       "}\n",
       "\n",
       "/* Span, style for the box shown on hovering the info icon */\n",
       ".sk-estimator-doc-link span {\n",
       "  display: none;\n",
       "  z-index: 9999;\n",
       "  position: relative;\n",
       "  font-weight: normal;\n",
       "  right: .2ex;\n",
       "  padding: .5ex;\n",
       "  margin: .5ex;\n",
       "  width: min-content;\n",
       "  min-width: 20ex;\n",
       "  max-width: 50ex;\n",
       "  color: var(--sklearn-color-text);\n",
       "  box-shadow: 2pt 2pt 4pt #999;\n",
       "  /* unfitted */\n",
       "  background: var(--sklearn-color-unfitted-level-0);\n",
       "  border: .5pt solid var(--sklearn-color-unfitted-level-3);\n",
       "}\n",
       "\n",
       ".sk-estimator-doc-link.fitted span {\n",
       "  /* fitted */\n",
       "  background: var(--sklearn-color-fitted-level-0);\n",
       "  border: var(--sklearn-color-fitted-level-3);\n",
       "}\n",
       "\n",
       ".sk-estimator-doc-link:hover span {\n",
       "  display: block;\n",
       "}\n",
       "\n",
       "/* \"?\"-specific style due to the `<a>` HTML tag */\n",
       "\n",
       "#sk-container-id-1 a.estimator_doc_link {\n",
       "  float: right;\n",
       "  font-size: 1rem;\n",
       "  line-height: 1em;\n",
       "  font-family: monospace;\n",
       "  background-color: var(--sklearn-color-background);\n",
       "  border-radius: 1rem;\n",
       "  height: 1rem;\n",
       "  width: 1rem;\n",
       "  text-decoration: none;\n",
       "  /* unfitted */\n",
       "  color: var(--sklearn-color-unfitted-level-1);\n",
       "  border: var(--sklearn-color-unfitted-level-1) 1pt solid;\n",
       "}\n",
       "\n",
       "#sk-container-id-1 a.estimator_doc_link.fitted {\n",
       "  /* fitted */\n",
       "  border: var(--sklearn-color-fitted-level-1) 1pt solid;\n",
       "  color: var(--sklearn-color-fitted-level-1);\n",
       "}\n",
       "\n",
       "/* On hover */\n",
       "#sk-container-id-1 a.estimator_doc_link:hover {\n",
       "  /* unfitted */\n",
       "  background-color: var(--sklearn-color-unfitted-level-3);\n",
       "  color: var(--sklearn-color-background);\n",
       "  text-decoration: none;\n",
       "}\n",
       "\n",
       "#sk-container-id-1 a.estimator_doc_link.fitted:hover {\n",
       "  /* fitted */\n",
       "  background-color: var(--sklearn-color-fitted-level-3);\n",
       "}\n",
       "</style><div id=\"sk-container-id-1\" class=\"sk-top-container\"><div class=\"sk-text-repr-fallback\"><pre>LinearRegression()</pre><b>In a Jupyter environment, please rerun this cell to show the HTML representation or trust the notebook. <br />On GitHub, the HTML representation is unable to render, please try loading this page with nbviewer.org.</b></div><div class=\"sk-container\" hidden><div class=\"sk-item\"><div class=\"sk-estimator fitted sk-toggleable\"><input class=\"sk-toggleable__control sk-hidden--visually\" id=\"sk-estimator-id-1\" type=\"checkbox\" checked><label for=\"sk-estimator-id-1\" class=\"sk-toggleable__label fitted sk-toggleable__label-arrow fitted\">&nbsp;&nbsp;LinearRegression<a class=\"sk-estimator-doc-link fitted\" rel=\"noreferrer\" target=\"_blank\" href=\"https://scikit-learn.org/1.5/modules/generated/sklearn.linear_model.LinearRegression.html\">?<span>Documentation for LinearRegression</span></a><span class=\"sk-estimator-doc-link fitted\">i<span>Fitted</span></span></label><div class=\"sk-toggleable__content fitted\"><pre>LinearRegression()</pre></div> </div></div></div></div>"
      ],
      "text/plain": [
       "LinearRegression()"
      ]
     },
     "execution_count": 128,
     "metadata": {},
     "output_type": "execute_result"
    }
   ],
   "source": [
    "model.fit(X_TRAIN,Y_TRAIN)"
   ]
  },
  {
   "cell_type": "code",
   "execution_count": 129,
   "id": "2c5f319e-b045-401a-a776-b95bb294771e",
   "metadata": {},
   "outputs": [
    {
     "data": {
      "text/plain": [
       "0.9492876747593558"
      ]
     },
     "execution_count": 129,
     "metadata": {},
     "output_type": "execute_result"
    }
   ],
   "source": [
    "model.score(X_TRAIN,Y_TRAIN)"
   ]
  },
  {
   "cell_type": "code",
   "execution_count": 130,
   "id": "d68fa45e-ad98-4222-a230-8f6203d0b929",
   "metadata": {},
   "outputs": [
    {
     "name": "stdout",
     "output_type": "stream",
     "text": [
      "Intercept: [13.84477945]\n",
      "Coeficients: [[-4.21557528e-02  5.84092068e-02  2.92616593e-01 -2.74273657e+11\n",
      "   1.10182416e-01 -4.03062091e-01 -1.52044095e-02  2.36849774e-02\n",
      "  -7.96877841e-01 -1.03486252e+00  1.75294971e+00 -6.71175957e-01\n",
      "  -5.43739319e-01 -4.60186005e-01 -5.21818161e-01 -4.37580109e-01\n",
      "   2.42214203e-01 -4.01165009e-01 -3.57218742e-01  3.98955345e-01\n",
      "   4.24627304e-01 -4.19075012e-01  3.93302917e-01 -5.32731056e-01\n",
      "  -5.31604767e-01  9.76638794e-02 -3.76838684e-01 -5.55800438e-01\n",
      "   7.53566742e-01 -7.24714279e-01  2.00173473e+00 -3.93432617e-01\n",
      "  -8.52648973e-01 -6.48532391e-01 -2.18925476e-01 -5.55740356e-01\n",
      "   9.39178467e-03  1.85867310e-01  1.60876274e-01  5.50606728e-01\n",
      "  -4.90951538e-03  1.06811523e-04 -7.60555267e-03  8.06293488e-01\n",
      "  -1.48509979e-01  8.76655579e-02  1.29262924e-01 -4.27017212e-02\n",
      "   8.25233459e-02  2.10399628e-01  2.77648926e-01  2.10653305e-01\n",
      "   1.07519150e-01 -3.30380678e-01  5.89585304e-02  2.67675400e-01\n",
      "   3.06121826e-01  3.20713043e-01  1.02939606e-01  1.06340408e-01\n",
      "   1.44690514e-01  3.21006656e-01  2.61289597e-01  7.76863098e-03\n",
      "   4.66156006e-02  4.27923203e-02  2.36044884e-01 -1.36637211e-01\n",
      "   1.22314930e-01  1.48509979e-01  7.74002075e-03  2.14110374e-01\n",
      "   2.16504097e-01  1.82235718e-01  8.00056458e-02 -4.58164215e-02\n",
      "  -2.78992653e-02  1.34536743e-01 -3.49578857e-02 -1.02134705e-01\n",
      "   7.62052536e-02  1.03509903e-01  6.46934509e-02  8.63823891e-02\n",
      "   1.13901615e-01  1.37125015e-01  1.94217935e-02  4.95376587e-02\n",
      "   1.49005890e-01 -1.22191429e-01  3.38146210e-01  1.78963661e-01\n",
      "   4.46777344e-02  1.05707169e-01  1.67339325e-01 -3.00130844e-02\n",
      "   8.85858536e-02  1.26281738e-01 -3.14465284e-01  2.14645386e-01\n",
      "   1.33009911e-01  9.95273590e-02 -1.88064575e-03 -2.41960168e-01\n",
      "   5.18131256e-03  1.46829516e-01  6.01520538e-02  4.35207367e-01\n",
      "  -6.26916885e-02 -3.66736412e-01  1.44355774e-01  8.78133774e-02\n",
      "   2.40271568e-01 -6.68031216e-01  2.21118927e-02 -3.81374359e-02\n",
      "  -2.73275375e-02 -2.20108032e-02 -4.57177162e-02 -3.08132172e-03\n",
      "   1.76520348e-01  1.65225506e-01]]\n"
     ]
    }
   ],
   "source": [
    "print(f'Intercept: {model.intercept_}')\n",
    "print(f'Coeficients: {model.coef_}')"
   ]
  },
  {
   "cell_type": "code",
   "execution_count": 131,
   "id": "8e2dc08d-b0b7-4177-8680-06b0f99ed10e",
   "metadata": {},
   "outputs": [],
   "source": [
    "Y_PRED = model.predict(X_TEST)"
   ]
  },
  {
   "cell_type": "code",
   "execution_count": 132,
   "id": "2f82718a-1f8c-42bc-85cd-2330971b3347",
   "metadata": {},
   "outputs": [
    {
     "data": {
      "text/plain": [
       "array([[12.86926298],\n",
       "       [15.97895099]])"
      ]
     },
     "execution_count": 132,
     "metadata": {},
     "output_type": "execute_result"
    }
   ],
   "source": [
    "Y_PRED[:2]"
   ]
  },
  {
   "cell_type": "code",
   "execution_count": 133,
   "id": "b1da566a-aaa1-409d-b7b7-3a1bc4984925",
   "metadata": {},
   "outputs": [],
   "source": [
    "Y_PRED_TRANSFORM=np.expm1(Y_PRED)"
   ]
  },
  {
   "cell_type": "code",
   "execution_count": 134,
   "id": "9c792372-4c2e-44b3-901c-df51e2756313",
   "metadata": {},
   "outputs": [
    {
     "data": {
      "text/plain": [
       "array([[ 388193.96575781],\n",
       "       [8701020.47922434]])"
      ]
     },
     "execution_count": 134,
     "metadata": {},
     "output_type": "execute_result"
    }
   ],
   "source": [
    "Y_PRED_TRANSFORM[:2]"
   ]
  },
  {
   "cell_type": "code",
   "execution_count": 135,
   "id": "0f76e0de-6f3f-423d-8a33-730a8c1a37b7",
   "metadata": {},
   "outputs": [],
   "source": [
    "Y_TEST_TRANSFORM = np.expm1(Y_TEST)"
   ]
  },
  {
   "cell_type": "code",
   "execution_count": 136,
   "id": "76feda6f-ccde-4549-8c95-543164431708",
   "metadata": {},
   "outputs": [
    {
     "data": {
      "text/html": [
       "<div>\n",
       "<style scoped>\n",
       "    .dataframe tbody tr th:only-of-type {\n",
       "        vertical-align: middle;\n",
       "    }\n",
       "\n",
       "    .dataframe tbody tr th {\n",
       "        vertical-align: top;\n",
       "    }\n",
       "\n",
       "    .dataframe thead th {\n",
       "        text-align: right;\n",
       "    }\n",
       "</style>\n",
       "<table border=\"1\" class=\"dataframe\">\n",
       "  <thead>\n",
       "    <tr style=\"text-align: right;\">\n",
       "      <th></th>\n",
       "      <th>Log_Price</th>\n",
       "    </tr>\n",
       "  </thead>\n",
       "  <tbody>\n",
       "    <tr>\n",
       "      <th>1263</th>\n",
       "      <td>390000.0</td>\n",
       "    </tr>\n",
       "    <tr>\n",
       "      <th>1742</th>\n",
       "      <td>12500000.0</td>\n",
       "    </tr>\n",
       "  </tbody>\n",
       "</table>\n",
       "</div>"
      ],
      "text/plain": [
       "       Log_Price\n",
       "1263    390000.0\n",
       "1742  12500000.0"
      ]
     },
     "execution_count": 136,
     "metadata": {},
     "output_type": "execute_result"
    }
   ],
   "source": [
    "Y_TEST_TRANSFORM[:2]"
   ]
  },
  {
   "cell_type": "code",
   "execution_count": 137,
   "id": "7d707a68-7393-4675-b9c8-810ba10b23c2",
   "metadata": {},
   "outputs": [
    {
     "name": "stdout",
     "output_type": "stream",
     "text": [
      "RMSE: 0.30\n",
      "R² Score: 0.91\n"
     ]
    }
   ],
   "source": [
    "from sklearn.metrics import root_mean_squared_error, r2_score ,mean_squared_error\n",
    "\n",
    "rmse = root_mean_squared_error(Y_TEST, Y_PRED)\n",
    "r2 = r2_score(Y_TEST, Y_PRED)\n",
    "\n",
    "print(f\"RMSE: {rmse:.2f}\")\n",
    "print(f\"R² Score: {r2:.2f}\")"
   ]
  },
  {
   "cell_type": "code",
   "execution_count": 138,
   "id": "2962e90a-aff8-4e65-afd2-3722381e297f",
   "metadata": {},
   "outputs": [],
   "source": [
    "categorical_cols = ['Fuel Type', 'Transmission', 'Seller Type', 'Owner', 'Location']\n",
    "numeric_cols = ['Kilometer', 'Engine', 'Max Power', 'Seating Capacity', 'Fuel Tank Capacity', 'Car Age']"
   ]
  },
  {
   "cell_type": "code",
   "execution_count": 139,
   "id": "527fe49c-82fe-4fec-9b6c-40e7bd80c6f5",
   "metadata": {},
   "outputs": [],
   "source": [
    "from sklearn.compose import ColumnTransformer\n",
    "from sklearn.preprocessing import OneHotEncoder, StandardScaler\n",
    "\n",
    "preprocessor = ColumnTransformer(transformers=[\n",
    "    ('num', StandardScaler(), numeric_cols),\n",
    "    ('cat', OneHotEncoder(handle_unknown='ignore'), categorical_cols)\n",
    "])\n"
   ]
  },
  {
   "cell_type": "code",
   "execution_count": 140,
   "id": "9a93f2c6-f8a3-448f-801e-8e0d5bb693c5",
   "metadata": {},
   "outputs": [],
   "source": [
    "from sklearn.pipeline import Pipeline\n",
    "from sklearn.linear_model import LinearRegression\n",
    "\n",
    "model_pipeline = Pipeline(steps=[\n",
    "    ('preprocessing', preprocessor),\n",
    "    ('regressor', LinearRegression())\n",
    "])\n"
   ]
  },
  {
   "cell_type": "code",
   "execution_count": 141,
   "id": "50d4c888-e8a9-451d-bb72-aaabd776613d",
   "metadata": {},
   "outputs": [
    {
     "name": "stdout",
     "output_type": "stream",
     "text": [
      "Cross-validated R² scores: [0.74211795 0.70477558 0.75019577 0.73258037 0.81272992]\n",
      "Average R²: 0.74847992045836\n"
     ]
    }
   ],
   "source": [
    "from sklearn.model_selection import cross_val_score\n",
    "\n",
    "# Use raw (non-encoded, non-scaled) training data\n",
    "cv_scores = cross_val_score(model_pipeline, x_train, y_train, cv=5, scoring='r2')\n",
    "\n",
    "print(\"Cross-validated R² scores:\", cv_scores)\n",
    "print(\"Average R²:\", cv_scores.mean())\n"
   ]
  },
  {
   "cell_type": "raw",
   "id": "f370988c-84aa-4e9f-a408-3350bef81473",
   "metadata": {},
   "source": [
    "from sklearn.model_selection import cross_val_score\n",
    "\n",
    "cv_r2 = cross_val_score(model, X_TRAIN, Y_TRAIN, cv=5, scoring='r2')\n",
    "print(\"Cross-validated R² scores:\", cv_r2)\n",
    "print(\"Average CV R²:\", np.mean(cv_r2))"
   ]
  },
  {
   "cell_type": "code",
   "execution_count": 142,
   "id": "4fe5ef8a-e74b-4b3e-96fa-d9b01a190431",
   "metadata": {},
   "outputs": [
    {
     "data": {
      "text/plain": [
       "[<matplotlib.lines.Line2D at 0x20d50c6e030>]"
      ]
     },
     "execution_count": 142,
     "metadata": {},
     "output_type": "execute_result"
    },
    {
     "data": {
      "image/png": "[encoded data removed]",
      "text/plain": [
       "<Figure size 640x480 with 1 Axes>"
      ]
     },
     "metadata": {},
     "output_type": "display_data"
    }
   ],
   "source": [
    "plt.scatter(Y_TEST_TRANSFORM,Y_PRED_TRANSFORM)\n",
    "plt.plot([Y_TEST_TRANSFORM.min(),Y_TEST_TRANSFORM.max()],[Y_TEST_TRANSFORM.min(),Y_TEST_TRANSFORM.max()],'r--')"
   ]
  },
  {
   "cell_type": "raw",
   "id": "260af94f-1182-44db-b163-1eec3060b2cb",
   "metadata": {},
   "source": [
    "Interpretation:\n",
    "In this project, a Linear Regression model was developed to predict car prices using a dataset from CarDekho. The data underwent comprehensive preprocessing, including handling missing values, converting string-based features (like Engine, Max Power) to numeric, encoding categorical variables, scaling numeric features, and applying a log transformation to the target variable (Price) to reduce skewness.\n",
    "\n",
    "Good Fit: The majority of predictions lie close to the red line, meaning the model has high accuracy.\n",
    "No major underfitting/overfitting: There’s no clear curvature or huge spread suggesting model instability.\n",
    "\n",
    "Slight variance for expensive cars: High-priced cars show some prediction error — maybe due to:\n",
    "\n",
    "Less representation in training data (class imbalance)\n",
    "\n",
    "Outliers not removed\n",
    "\n",
    "Non-linear relationships not captured by linear regression\n",
    "\n"
   ]
  },
  {
   "cell_type": "code",
   "execution_count": 143,
   "id": "8d9a89c4-9450-40a7-9f65-fbdb2e632598",
   "metadata": {},
   "outputs": [
    {
     "data": {
      "image/png": "[encoded data removed]",
      "text/plain": [
       "<Figure size 640x480 with 1 Axes>"
      ]
     },
     "metadata": {},
     "output_type": "display_data"
    }
   ],
   "source": [
    "residual = Y_TEST_TRANSFORM - Y_PRED_TRANSFORM\n",
    "sns.histplot(residual,kde=True)\n",
    "plt.title(\"Distribution of Residuals\")\n",
    "plt.xlabel(\"Residual\")\n",
    "plt.ylabel(\"Frequency\")\n",
    "plt.show()"
   ]
  },
  {
   "cell_type": "raw",
   "id": "1741de1a-dc76-4e93-af23-cf1a60a69509",
   "metadata": {},
   "source": [
    "Interpretation:\n",
    "The residuals are roughly normally distributed and centered around zero.\n",
    "This supports the assumption of normality of errors — a key requirement for linear regression.\n",
    "No major skewness or outliers in residuals — model assumptions hold."
   ]
  },
  {
   "cell_type": "code",
   "execution_count": 144,
   "id": "b18dc285-d21f-4f86-b620-8aabcf6bd7eb",
   "metadata": {},
   "outputs": [],
   "source": [
    "#Conclusion"
   ]
  },
  {
   "cell_type": "raw",
   "id": "26c7657d-2c7f-4adf-8ff2-fac846605d2f",
   "metadata": {},
   "source": [
    "In this project, a Linear Regression model was developed to predict car prices using a dataset from CarDekho. The data underwent comprehensive preprocessing, including handling missing values, converting string-based features (like Engine, Max Power) to numeric, encoding categorical variables, scaling numeric features, and applying a log transformation to the target variable (Price) to reduce skewness.\n",
    "\n"
   ]
  },
  {
   "cell_type": "raw",
   "id": "9362215d-418b-4519-84de-f6e3ee733f76",
   "metadata": {},
   "source": [
    "The model demonstrated strong performance:\n",
    "\n",
    "Training R² Score: 0.949\n",
    "\n",
    "Test R² Score: 0.91\n",
    "\n",
    "RMSE: 0.91 (on log-transformed price)"
   ]
  },
  {
   "cell_type": "raw",
   "id": "3c56b27e-5d65-4ee5-93b2-75b0d1d11c0c",
   "metadata": {},
   "source": [
    "These results indicate that the model fits the training data well and generalizes effectively to unseen data — suggesting no overfitting or underfitting."
   ]
  },
  {
   "cell_type": "code",
   "execution_count": null,
   "id": "a1462766-1064-4dd7-91e1-2e52e8b6ceba",
   "metadata": {},
   "outputs": [],
   "source": []
  },
  {
   "cell_type": "code",
   "execution_count": 145,
   "id": "6e192482-79bd-47ed-8d77-1664feb84198",
   "metadata": {},
   "outputs": [],
   "source": [
    "from sklearn.linear_model import Ridge, Lasso"
   ]
  },
  {
   "cell_type": "code",
   "execution_count": 146,
   "id": "cfed9ad3-2212-40a0-a592-edae3dd5ce62",
   "metadata": {},
   "outputs": [
    {
     "name": "stdout",
     "output_type": "stream",
     "text": [
      "Ridge RMSE: 0.30\n",
      "Ridge R² Score: 0.91\n"
     ]
    }
   ],
   "source": [
    "# Initialize and train Ridge model\n",
    "ridge = Ridge(alpha=1.0)\n",
    "ridge.fit(X_TRAIN, Y_TRAIN)\n",
    "\n",
    "# Predict\n",
    "ridge_pred = ridge.predict(X_TEST)\n",
    "\n",
    "# Evaluate\n",
    "ridge_rmse = np.sqrt(mean_squared_error(Y_TEST, ridge_pred))\n",
    "ridge_r2 = r2_score(Y_TEST, ridge_pred)\n",
    "\n",
    "print(f\"Ridge RMSE: {ridge_rmse:.2f}\")\n",
    "print(f\"Ridge R² Score: {ridge_r2:.2f}\")"
   ]
  },
  {
   "cell_type": "code",
   "execution_count": 147,
   "id": "e89bb0f4-0e5a-400a-84e5-22e5e25e6655",
   "metadata": {},
   "outputs": [
    {
     "name": "stdout",
     "output_type": "stream",
     "text": [
      "Lasso RMSE: 0.36\n",
      "Lasso R² Score: 0.87\n"
     ]
    }
   ],
   "source": [
    "# Initialize and train Lasso model\n",
    "lasso = Lasso(alpha=0.01)\n",
    "lasso.fit(X_TRAIN, Y_TRAIN)\n",
    "\n",
    "# Predict\n",
    "lasso_pred = lasso.predict(X_TEST)\n",
    "\n",
    "# Evaluate\n",
    "lasso_rmse = np.sqrt(mean_squared_error(Y_TEST, lasso_pred))\n",
    "lasso_r2 = r2_score(Y_TEST, lasso_pred)\n",
    "\n",
    "print(f\"Lasso RMSE: {lasso_rmse:.2f}\")\n",
    "print(f\"Lasso R² Score: {lasso_r2:.2f}\")"
   ]
  },
  {
   "cell_type": "code",
   "execution_count": 148,
   "id": "d4403912-af82-4d61-b4f8-6e6ac0e07a97",
   "metadata": {},
   "outputs": [
    {
     "name": "stdout",
     "output_type": "stream",
     "text": [
      "               Model      RMSE  R² Score\n",
      "0  Linear Regression  0.302815  0.911027\n",
      "1   Ridge Regression  0.300275  0.912513\n",
      "2   Lasso Regression  0.358956  0.874978\n"
     ]
    }
   ],
   "source": [
    "# Create DataFrame to compare models\n",
    "results = pd.DataFrame({\n",
    "    'Model': ['Linear Regression', 'Ridge Regression', 'Lasso Regression'],\n",
    "    'RMSE': [rmse, ridge_rmse, lasso_rmse],\n",
    "    'R² Score': [r2, ridge_r2, lasso_r2]\n",
    "})\n",
    "\n",
    "print(results)"
   ]
  },
  {
   "cell_type": "code",
   "execution_count": 149,
   "id": "405a98f7-011c-4606-b0b8-c2378bb58120",
   "metadata": {},
   "outputs": [
    {
     "data": {
      "image/png": "[encoded data removed]",
      "text/plain": [
       "<Figure size 1200x500 with 2 Axes>"
      ]
     },
     "metadata": {},
     "output_type": "display_data"
    }
   ],
   "source": [
    "# Plot comparison\n",
    "fig, ax = plt.subplots(1, 2, figsize=(12, 5))\n",
    "\n",
    "# RMSE Bar Plot\n",
    "ax[0].bar(results['Model'], results['RMSE'], color='skyblue')\n",
    "ax[0].set_title('RMSE Comparison')\n",
    "ax[0].set_ylabel('RMSE')\n",
    "ax[0].tick_params(axis='x', rotation=15)\n",
    "\n",
    "# R² Bar Plot\n",
    "ax[1].bar(results['Model'], results['R² Score'], color='lightgreen')\n",
    "ax[1].set_title('R² Score Comparison')\n",
    "ax[1].set_ylabel('R² Score')\n",
    "ax[1].tick_params(axis='x', rotation=15)\n",
    "\n",
    "plt.tight_layout()\n",
    "plt.show()"
   ]
  },
  {
   "cell_type": "code",
   "execution_count": null,
   "id": "257f7998-cd3d-42db-8058-e4a9c3cf2376",
   "metadata": {},
   "outputs": [],
   "source": []
  },
  {
   "cell_type": "markdown",
   "id": "8f5c4ef6-d0d5-4059-9629-79f3e4be4fb6",
   "metadata": {},
   "source": [
    "## Key Insights\n",
    "Data Preprocessing:\n",
    "Missing values were detected primarily in:\n",
    "\n",
    "Mileage, Engine_CC, Power_bhp – all missing in the same rows.\n",
    "\n",
    "Outliers detected through boxplots in:\n",
    "\n",
    "Kilometer, Seating Capacity, Fuel Tank Capacity.\n",
    "\n",
    "New feature Car Age was derived from the Year column:\n",
    "Car Age = 2025 - Year.\n",
    "\n",
    "Encoding:\n",
    "Used One-Hot Encoding for all categorical variables with no natural order:\n",
    "\n",
    "Make\n",
    "\n",
    "Fuel Type\n",
    "\n",
    "Transmission\n",
    "\n",
    "Location\n",
    "\n",
    "Owner\n",
    "\n",
    "Model Training:\n",
    "Features were split into X (predictors) and y (price).\n",
    "\n",
    "Linear Regression model trained on training set.\n",
    "\n",
    "Model performance evaluated using:\n",
    "\n",
    "R² score (coefficient of determination)\n",
    "\n",
    "Mean Squared Error (MSE)"
   ]
  },
  {
   "cell_type": "markdown",
   "id": "f6d23914-3061-4528-8cf5-fda0f755aad4",
   "metadata": {},
   "source": [
    "## Key Business Insights\n",
    "#Car Age:Newer cars tend to have higher prices; price drops with age.\n",
    "#Fuel & Transmission:Fuel type and transmission influence price — automatic cars often cost more.\n",
    "#Location:City affects pricing due to demand/supply, taxes, and regulations.\n",
    "#Mileage:Lower mileage generally increases resale value."
   ]
  },
  {
   "cell_type": "markdown",
   "id": "32a332d2-4c11-4c63-a05e-f3a055bfe565",
   "metadata": {},
   "source": [
    "##  Conclusion\n",
    "The model effectively uses a multivariate linear regression approach to predict car prices.\n",
    "\n",
    "The preprocessing and feature engineering (e.g., Car Age, encoding) helped boost prediction reliability.\n",
    "\n",
    "Visual exploration (boxplots) revealed distribution anomalies and guided outlier handling.\n",
    "\n"
   ]
  },
  {
   "cell_type": "markdown",
   "id": "73d227f0-1b19-4207-aa03-f76411ba531e",
   "metadata": {},
   "source": [
    "##  Final Recommendations\n",
    "Deploy the model into a used car marketplace platform to auto-suggest prices to sellers.\n",
    "\n",
    "Include more features like insurance status, number of accidents, or car condition to improve accuracy.\n",
    "\n",
    "Regularly retrain the model with updated data to account for market shifts.\n",
    "\n",
    "Create dashboards for price trends by car brand, year, and location using Power BI or Tableau.\n",
    "\n"
   ]
  },
  {
   "cell_type": "code",
   "execution_count": null,
   "id": "d40007a4-3644-4441-a6a4-17de73480561",
   "metadata": {},
   "outputs": [],
   "source": []
  },
  {
   "cell_type": "code",
   "execution_count": null,
   "id": "a03fcf18-f0da-4958-93fa-45fff4f0587b",
   "metadata": {},
   "outputs": [],
   "source": []
  },
  {
   "cell_type": "code",
   "execution_count": null,
   "id": "3b123aaa-82a9-4985-9033-278d9e5b3f06",
   "metadata": {},
   "outputs": [],
   "source": []
  },
  {
   "cell_type": "code",
   "execution_count": null,
   "id": "8e6c056f-55ee-4cae-94fb-b399bb40943f",
   "metadata": {},
   "outputs": [],
   "source": []
  },
  {
   "cell_type": "code",
   "execution_count": null,
   "id": "083a4142-e2dc-4ff2-87ec-b821f996a8f3",
   "metadata": {},
   "outputs": [],
   "source": []
  },
  {
   "cell_type": "code",
   "execution_count": null,
   "id": "bd4b9b24-f976-432f-85cd-f0d4a1d04622",
   "metadata": {},
   "outputs": [],
   "source": []
  },
  {
   "cell_type": "code",
   "execution_count": null,
   "id": "690bfaeb-9f77-4fcc-bd5b-39467d70599b",
   "metadata": {},
   "outputs": [],
   "source": []
  },
  {
   "cell_type": "code",
   "execution_count": null,
   "id": "a153427f-2d49-474c-bff6-6648f9aacef5",
   "metadata": {},
   "outputs": [],
   "source": []
  },
  {
   "cell_type": "code",
   "execution_count": null,
   "id": "ed3f2d52-0534-440a-9e2b-b8fef2073349",
   "metadata": {},
   "outputs": [],
   "source": []
  },
  {
   "cell_type": "code",
   "execution_count": null,
   "id": "fc51446e-d6ca-4c68-b6d6-74ee36af6ba9",
   "metadata": {},
   "outputs": [],
   "source": []
  },
  {
   "cell_type": "code",
   "execution_count": null,
   "id": "8f0b64c0-5cdf-44f2-9f6f-e38d63c6827d",
   "metadata": {},
   "outputs": [],
   "source": []
  },
  {
   "cell_type": "code",
   "execution_count": null,
   "id": "7e61e144-d993-4eab-8710-d67691728ce3",
   "metadata": {},
   "outputs": [],
   "source": []
  },
  {
   "cell_type": "code",
   "execution_count": null,
   "id": "5b9b2e1e-b5b8-4207-9e84-cca7dd192a40",
   "metadata": {},
   "outputs": [],
   "source": []
  },
  {
   "cell_type": "code",
   "execution_count": null,
   "id": "f509f483-495f-4bc7-8b30-b235d068b352",
   "metadata": {},
   "outputs": [],
   "source": []
  },
  {
   "cell_type": "code",
   "execution_count": null,
   "id": "28806026-97a6-4cb4-b9d2-8c21db1b34c6",
   "metadata": {},
   "outputs": [],
   "source": []
  },
  {
   "cell_type": "code",
   "execution_count": null,
   "id": "85b2de83-601e-476a-8018-cadcd3554b94",
   "metadata": {},
   "outputs": [],
   "source": []
  },
  {
   "cell_type": "code",
   "execution_count": null,
   "id": "281d29ff-037b-4286-85e8-6f94b0fc5c7e",
   "metadata": {},
   "outputs": [],
   "source": []
  },
  {
   "cell_type": "code",
   "execution_count": null,
   "id": "eb832eaf-ac47-47c6-a520-ceafb611ade4",
   "metadata": {},
   "outputs": [],
   "source": []
  },
  {
   "cell_type": "code",
   "execution_count": null,
   "id": "fbea00a7-e60b-49b1-a01b-1e9ed9540544",
   "metadata": {},
   "outputs": [],
   "source": []
  },
  {
   "cell_type": "code",
   "execution_count": null,
   "id": "d2a684ea-7b0d-4c0e-9d08-080d060c771e",
   "metadata": {},
   "outputs": [],
   "source": []
  },
  {
   "cell_type": "code",
   "execution_count": null,
   "id": "0b4e8369-5b61-4423-a639-c2efaa66534f",
   "metadata": {},
   "outputs": [],
   "source": []
  },
  {
   "cell_type": "code",
   "execution_count": null,
   "id": "453890a7-4b72-4e6a-8431-9ada97776b3a",
   "metadata": {},
   "outputs": [],
   "source": []
  },
  {
   "cell_type": "code",
   "execution_count": null,
   "id": "393364b3-5687-4dee-a4b6-a89991e13363",
   "metadata": {},
   "outputs": [],
   "source": []
  },
  {
   "cell_type": "code",
   "execution_count": null,
   "id": "8cc9562f-4bec-43e6-8a2d-0b7b9774855d",
   "metadata": {},
   "outputs": [],
   "source": []
  },
  {
   "cell_type": "code",
   "execution_count": null,
   "id": "18d9876d-57e0-4af3-90ef-50df761ab1f2",
   "metadata": {},
   "outputs": [],
   "source": []
  },
  {
   "cell_type": "code",
   "execution_count": null,
   "id": "1bc78570-50e7-4289-95e3-e38390b011f6",
   "metadata": {},
   "outputs": [],
   "source": []
  },
  {
   "cell_type": "code",
   "execution_count": null,
   "id": "9a70c1b0-28a0-4192-912f-96613f1a52a6",
   "metadata": {},
   "outputs": [],
   "source": []
  },
  {
   "cell_type": "code",
   "execution_count": null,
   "id": "80a8b2cd-351e-4193-8520-21118303e28e",
   "metadata": {},
   "outputs": [],
   "source": []
  },
  {
   "cell_type": "code",
   "execution_count": null,
   "id": "b0b3745a-5f9d-4a95-9e9b-6b5e11c84f24",
   "metadata": {},
   "outputs": [],
   "source": []
  },
  {
   "cell_type": "code",
   "execution_count": null,
   "id": "0df96453-1547-4298-9830-a292aca7bdb5",
   "metadata": {},
   "outputs": [],
   "source": []
  },
  {
   "cell_type": "code",
   "execution_count": null,
   "id": "c17a5313-9aed-4177-8201-42124404fe73",
   "metadata": {},
   "outputs": [],
   "source": []
  },
  {
   "cell_type": "code",
   "execution_count": null,
   "id": "142c06bb-553b-45a5-8c8b-b1610f07ee23",
   "metadata": {},
   "outputs": [],
   "source": []
  },
  {
   "cell_type": "code",
   "execution_count": null,
   "id": "1bb94bea-2d8a-4204-b39f-00c0cca90422",
   "metadata": {},
   "outputs": [],
   "source": []
  },
  {
   "cell_type": "code",
   "execution_count": null,
   "id": "28ef0c1e-cf79-47de-9574-cbc5385768fc",
   "metadata": {},
   "outputs": [],
   "source": []
  },
  {
   "cell_type": "code",
   "execution_count": null,
   "id": "1a440590-b8d2-4461-96e6-f1c9d67e3ebb",
   "metadata": {},
   "outputs": [],
   "source": []
  },
  {
   "cell_type": "code",
   "execution_count": null,
   "id": "be62f96d-bc15-43bc-a2de-3a167f3a6373",
   "metadata": {},
   "outputs": [],
   "source": []
  },
  {
   "cell_type": "code",
   "execution_count": null,
   "id": "670371a3-a004-463c-9744-46890653a335",
   "metadata": {},
   "outputs": [],
   "source": []
  },
  {
   "cell_type": "code",
   "execution_count": null,
   "id": "b064273e-ded7-4481-8271-c62112f2a321",
   "metadata": {},
   "outputs": [],
   "source": []
  },
  {
   "cell_type": "code",
   "execution_count": null,
   "id": "6694bd45-6364-4616-b16e-854f346d2e0f",
   "metadata": {},
   "outputs": [],
   "source": []
  },
  {
   "cell_type": "code",
   "execution_count": null,
   "id": "23095b06-338f-463b-8101-86c5d44c3ed2",
   "metadata": {},
   "outputs": [],
   "source": []
  },
  {
   "cell_type": "code",
   "execution_count": null,
   "id": "2a2cb167-5e4e-4a9b-b70c-9cd5eb33e3b6",
   "metadata": {},
   "outputs": [],
   "source": []
  },
  {
   "cell_type": "code",
   "execution_count": null,
   "id": "bb44d814-1e80-4002-bea0-09bfe5a8a3d3",
   "metadata": {},
   "outputs": [],
   "source": []
  },
  {
   "cell_type": "code",
   "execution_count": null,
   "id": "9ffc7d5a-26c3-4ed7-a817-7e7be2b4a292",
   "metadata": {},
   "outputs": [],
   "source": []
  },
  {
   "cell_type": "code",
   "execution_count": null,
   "id": "fd41deb7-0610-442a-af71-13d3662381e8",
   "metadata": {},
   "outputs": [],
   "source": []
  },
  {
   "cell_type": "code",
   "execution_count": null,
   "id": "bc156e4f-3151-4771-82ad-8af2152b7499",
   "metadata": {},
   "outputs": [],
   "source": []
  },
  {
   "cell_type": "code",
   "execution_count": null,
   "id": "efc15271-2ddd-45aa-9fd2-7a8a1224aa9d",
   "metadata": {},
   "outputs": [],
   "source": []
  },
  {
   "cell_type": "code",
   "execution_count": null,
   "id": "abc3d913-f24a-444c-bf30-9735e11b51f7",
   "metadata": {},
   "outputs": [],
   "source": []
  },
  {
   "cell_type": "code",
   "execution_count": null,
   "id": "c488397b-d5bc-4d72-aef3-727ac7a123c7",
   "metadata": {},
   "outputs": [],
   "source": []
  },
  {
   "cell_type": "code",
   "execution_count": null,
   "id": "ce64e463-e004-4d0d-99f2-83820e6b86e4",
   "metadata": {},
   "outputs": [],
   "source": []
  },
  {
   "cell_type": "code",
   "execution_count": null,
   "id": "f010e95b-edff-416b-8542-4f914b06ec6e",
   "metadata": {},
   "outputs": [],
   "source": []
  },
  {
   "cell_type": "code",
   "execution_count": null,
   "id": "a8c1c339-ab69-41fb-8d19-4a7313f621a3",
   "metadata": {},
   "outputs": [],
   "source": []
  },
  {
   "cell_type": "code",
   "execution_count": null,
   "id": "105ee5e4-d9e1-444d-a5e2-71750b846d63",
   "metadata": {},
   "outputs": [],
   "source": []
  },
  {
   "cell_type": "code",
   "execution_count": null,
   "id": "5c39edc5-77d5-4605-90a7-a96afb8778a4",
   "metadata": {},
   "outputs": [],
   "source": []
  },
  {
   "cell_type": "code",
   "execution_count": null,
   "id": "cf62d271-fcad-462d-89d2-a1cf1e6060d5",
   "metadata": {},
   "outputs": [],
   "source": []
  },
  {
   "cell_type": "code",
   "execution_count": null,
   "id": "7e7442e3-d970-49b0-b208-9b886ad32960",
   "metadata": {},
   "outputs": [],
   "source": []
  },
  {
   "cell_type": "code",
   "execution_count": null,
   "id": "eb7fecd1-2494-4913-adb8-e9d6f278c4e3",
   "metadata": {},
   "outputs": [],
   "source": []
  },
  {
   "cell_type": "code",
   "execution_count": null,
   "id": "d5a13ea9-bdd2-4c6c-a43c-9335cb3c6f13",
   "metadata": {},
   "outputs": [],
   "source": []
  },
  {
   "cell_type": "code",
   "execution_count": null,
   "id": "30ed4bf2-f818-477f-afbf-e3a7e6581175",
   "metadata": {},
   "outputs": [],
   "source": []
  },
  {
   "cell_type": "code",
   "execution_count": null,
   "id": "2371f803-ef8d-4098-a241-403792321940",
   "metadata": {},
   "outputs": [],
   "source": []
  },
  {
   "cell_type": "code",
   "execution_count": null,
   "id": "cb4b87cc-843e-4a98-8da1-f810096687a7",
   "metadata": {},
   "outputs": [],
   "source": []
  },
  {
   "cell_type": "code",
   "execution_count": null,
   "id": "7cde1e30-7ab4-4797-a866-3d6b8d382a8c",
   "metadata": {},
   "outputs": [],
   "source": []
  },
  {
   "cell_type": "code",
   "execution_count": null,
   "id": "3814156f-ae57-4de8-a11e-71a9ca6ee20d",
   "metadata": {},
   "outputs": [],
   "source": []
  },
  {
   "cell_type": "code",
   "execution_count": null,
   "id": "0ec88924-40b0-41be-91ea-b737beba1960",
   "metadata": {},
   "outputs": [],
   "source": []
  },
  {
   "cell_type": "code",
   "execution_count": null,
   "id": "1d3ed319-8427-4250-96bc-b98b424505f3",
   "metadata": {},
   "outputs": [],
   "source": []
  },
  {
   "cell_type": "code",
   "execution_count": null,
   "id": "16bd801c-475b-4999-b4fb-e7ddc74834e1",
   "metadata": {},
   "outputs": [],
   "source": []
  },
  {
   "cell_type": "code",
   "execution_count": null,
   "id": "71d2b6b9-9d7f-47b8-ba8e-de4ad952a4b6",
   "metadata": {},
   "outputs": [],
   "source": []
  },
  {
   "cell_type": "code",
   "execution_count": null,
   "id": "5e0fb08d-3630-40e0-abe1-1b6b5411484f",
   "metadata": {},
   "outputs": [],
   "source": []
  },
  {
   "cell_type": "code",
   "execution_count": null,
   "id": "d2a2e62c-9e25-4777-8f1b-b551a61d94ff",
   "metadata": {},
   "outputs": [],
   "source": []
  },
  {
   "cell_type": "code",
   "execution_count": null,
   "id": "71fb21f4-f5ec-4bd1-ad21-ef2599f081e6",
   "metadata": {},
   "outputs": [],
   "source": []
  },
  {
   "cell_type": "code",
   "execution_count": null,
   "id": "1777fd27-f836-44d4-bb3a-c92704df3636",
   "metadata": {},
   "outputs": [],
   "source": []
  },
  {
   "cell_type": "code",
   "execution_count": null,
   "id": "25dcad0d-e31a-42b0-988b-4226d89344f6",
   "metadata": {},
   "outputs": [],
   "source": []
  },
  {
   "cell_type": "code",
   "execution_count": null,
   "id": "6fa0fd13-3c97-459f-8039-e7c68719bd36",
   "metadata": {},
   "outputs": [],
   "source": []
  },
  {
   "cell_type": "code",
   "execution_count": null,
   "id": "332ed9fe-bb06-47f2-8ade-15be20c65770",
   "metadata": {},
   "outputs": [],
   "source": []
  }
 ],
 "metadata": {
  "kernelspec": {
   "display_name": "Python 3 (ipykernel)",
   "language": "python",
   "name": "python3"
  },
  "language_info": {
   "codemirror_mode": {
    "name": "ipython",
    "version": 3
   },
   "file_extension": ".py",
   "mimetype": "text/x-python",
   "name": "python",
   "nbconvert_exporter": "python",
   "pygments_lexer": "ipython3",
   "version": "3.12.7"
  }
 },
 "nbformat": 4,
 "nbformat_minor": 5
}
